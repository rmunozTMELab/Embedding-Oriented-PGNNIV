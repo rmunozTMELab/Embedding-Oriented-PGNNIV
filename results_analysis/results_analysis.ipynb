{
 "cells": [
  {
   "cell_type": "code",
   "execution_count": 1,
   "metadata": {},
   "outputs": [],
   "source": [
    "import os\n",
    "import sys\n",
    "import torch\n",
    "import numpy as np\n",
    "import matplotlib.pyplot as plt\n",
    "from sklearn.model_selection import train_test_split\n",
    "\n",
    "from matplotlib.ticker import ScalarFormatter\n",
    "import matplotlib.colors as mcolors\n",
    "\n",
    "# Imports de la libreria propia\n",
    "from vecopsciml.kernels.derivative import DerivativeKernels\n",
    "from vecopsciml.utils import TensOps\n",
    "from vecopsciml.operators import zero_order as zo\n",
    "from vecopsciml.algebra import zero_order as azo\n",
    "\n",
    "# Imports de las funciones creadas para este programa\n",
    "from vecopsciml.operators.zero_order import Mx, My"
   ]
  },
  {
   "cell_type": "code",
   "execution_count": 2,
   "metadata": {},
   "outputs": [],
   "source": [
    "project_root = os.path.abspath(os.path.join(os.getcwd(), \"../\"))\n",
    "sys.path.append(project_root)"
   ]
  },
  {
   "cell_type": "code",
   "execution_count": 3,
   "metadata": {},
   "outputs": [],
   "source": [
    "from utils.folders import create_folder\n",
    "from utils.load_data import load_data\n",
    "from utils.checkpoints import load_results"
   ]
  },
  {
   "cell_type": "code",
   "execution_count": 4,
   "metadata": {},
   "outputs": [],
   "source": [
    "DEVICE = torch.device(\"cpu\")"
   ]
  },
  {
   "cell_type": "code",
   "execution_count": 5,
   "metadata": {},
   "outputs": [],
   "source": [
    "# Creamos los paths para las distintas carpetas\n",
    "ROOT_PATH = r'/home/rmunoz/Escritorio/rmunozTMELab/Physically-Guided-Machine-Learning'\n",
    "\n",
    "DATA_PATH = os.path.join(ROOT_PATH, r'data/non_linear/non_linear.pkl')\n",
    "\n",
    "BASELINE_RESULTS_PATH = os.path.join(ROOT_PATH, r'results/non_linear/baseline_model')\n",
    "AUTOENCODER_RESULTS_PATH = os.path.join(ROOT_PATH, r'results/non_linear/autoencoder_model')\n",
    "POD_RESULTS_PATH = os.path.join(ROOT_PATH, r'results/non_linear/POD_model')"
   ]
  },
  {
   "cell_type": "code",
   "execution_count": 6,
   "metadata": {},
   "outputs": [
    {
     "name": "stdout",
     "output_type": "stream",
     "text": [
      "Data successfully loaded from: /home/rmunoz/Escritorio/rmunozTMELab/Physically-Guided-Machine-Learning/data/non_linear/non_linear.pkl\n"
     ]
    }
   ],
   "source": [
    "# Load dataset\n",
    "dataset = load_data(DATA_PATH)\n",
    "\n",
    "# Convolutional filters to derivate\n",
    "dx = dataset['x_step_size']\n",
    "dy = dataset['y_step_size']\n",
    "D = DerivativeKernels(dx, dy, 0).grad_kernels_two_dimensions()"
   ]
  },
  {
   "cell_type": "code",
   "execution_count": 7,
   "metadata": {},
   "outputs": [],
   "source": [
    "# Train data splitting in train/test\n",
    "X = torch.tensor(dataset['X_train'], dtype=torch.float32).unsqueeze(1)\n",
    "y = torch.tensor(dataset['y_train'], dtype=torch.float32).unsqueeze(1)\n",
    "K = torch.tensor(dataset['k_train'], dtype=torch.float32).unsqueeze(1)\n",
    "f = torch.tensor(dataset['f_train'], dtype=torch.float32).unsqueeze(1)\n",
    "\n",
    "X_train, X_test, y_train, y_test, K_train, K_test, f_train, f_test = train_test_split(X, y, K, f, test_size=0.3, random_state=42)\n",
    "\n",
    "# Data processing and adequacy with our TensOps library\n",
    "X_train = X_train.to(DEVICE)\n",
    "X_test = X_test.to(DEVICE)\n",
    "\n",
    "y_train = TensOps(y_train.to(DEVICE).requires_grad_(True), space_dimension=2, contravariance=0, covariance=0)\n",
    "y_test = TensOps(y_test.to(DEVICE).requires_grad_(True), space_dimension=2, contravariance=0, covariance=0)\n",
    "\n",
    "K_train = TensOps(K_train.to(DEVICE).requires_grad_(True), space_dimension=2, contravariance=0, covariance=0)\n",
    "K_test = TensOps(K_test.to(DEVICE).requires_grad_(True), space_dimension=2, contravariance=0, covariance=0)\n",
    "\n",
    "f_train = TensOps(f_train.to(DEVICE).requires_grad_(True), space_dimension=2, contravariance=0, covariance=0)\n",
    "f_test = TensOps(f_test.to(DEVICE).requires_grad_(True), space_dimension=2, contravariance=0, covariance=0)\n",
    "\n",
    "# Loading and processing validation data\n",
    "X_val = torch.tensor(dataset['X_val'], dtype=torch.float32).unsqueeze(1)\n",
    "y_val = TensOps(torch.tensor(dataset['y_val'], dtype=torch.float32, requires_grad=True).unsqueeze(1), space_dimension=2, contravariance=0, covariance=0)\n",
    "K_val = TensOps(torch.tensor(dataset['k_val'], dtype=torch.float32, requires_grad=True).unsqueeze(1), space_dimension=2, contravariance=0, covariance=0)\n",
    "f_val = TensOps(torch.tensor(dataset['f_val'], dtype=torch.float32, requires_grad=True).unsqueeze(1), space_dimension=2, contravariance=0, covariance=0)"
   ]
  },
  {
   "cell_type": "code",
   "execution_count": 8,
   "metadata": {},
   "outputs": [],
   "source": [
    "from models.baseline import BaselineNonlinearModel\n",
    "from models import Autoencoder\n",
    "from models import AutoencoderNonlinearModel\n",
    "from models import PODNonlinearModel"
   ]
  },
  {
   "cell_type": "markdown",
   "metadata": {},
   "source": [
    "Baseline model"
   ]
  },
  {
   "cell_type": "code",
   "execution_count": 9,
   "metadata": {},
   "outputs": [],
   "source": [
    "# Predictive network architecture\n",
    "input_shape = X_train[0].shape\n",
    "predictive_layers = [20, 10, 5, 10, 20]\n",
    "predictive_output = y_train.values[0].shape\n",
    "\n",
    "# Explanatory network architecture\n",
    "explanatory_input = Mx(My(y_train)).values[0].shape\n",
    "explanatory_layers = [10, 10]\n",
    "explanatory_output = Mx(My(f_train)).values[0].shape\n",
    "\n",
    "# Other parameters\n",
    "n_filters_explanatory = 5\n",
    "\n",
    "baseline_model = BaselineNonlinearModel(input_shape, predictive_layers, predictive_output, explanatory_input, explanatory_layers, explanatory_output, n_filters_explanatory).to(DEVICE)\n",
    "optimizer = torch.optim.Adam(baseline_model.parameters(), lr=1e-2)\n",
    "baseline_model, optimizer, lists = load_results(baseline_model, optimizer, BASELINE_RESULTS_PATH, map_location=DEVICE)"
   ]
  },
  {
   "cell_type": "markdown",
   "metadata": {},
   "source": [
    "Autoencoder"
   ]
  },
  {
   "cell_type": "code",
   "execution_count": 11,
   "metadata": {},
   "outputs": [
    {
     "ename": "RuntimeError",
     "evalue": "Error(s) in loading state_dict for Autoencoder:\n\tUnexpected key(s) in state_dict: \"explanatory.conv_expand_layer.weight\", \"explanatory.conv_expand_layer.bias\", \"explanatory.hidden_layer.weight\", \"explanatory.hidden_layer.bias\", \"explanatory.conv_converge_layer.weight\", \"explanatory.conv_converge_layer.bias\". \n\tsize mismatch for encoder.hidden1_layer.weight: copying a param with shape torch.Size([20, 80]) from checkpoint, the shape in current model is torch.Size([15, 100]).\n\tsize mismatch for encoder.hidden1_layer.bias: copying a param with shape torch.Size([20]) from checkpoint, the shape in current model is torch.Size([15]).\n\tsize mismatch for encoder.hidden2_layer.weight: copying a param with shape torch.Size([10, 20]) from checkpoint, the shape in current model is torch.Size([10, 15]).\n\tsize mismatch for encoder.latent_space_layer.weight: copying a param with shape torch.Size([5, 10]) from checkpoint, the shape in current model is torch.Size([3, 10]).\n\tsize mismatch for encoder.latent_space_layer.bias: copying a param with shape torch.Size([5]) from checkpoint, the shape in current model is torch.Size([3]).\n\tsize mismatch for decoder.hidden1_layer.weight: copying a param with shape torch.Size([10, 5]) from checkpoint, the shape in current model is torch.Size([10, 3]).\n\tsize mismatch for decoder.hidden2_layer.weight: copying a param with shape torch.Size([20, 10]) from checkpoint, the shape in current model is torch.Size([15, 10]).\n\tsize mismatch for decoder.hidden2_layer.bias: copying a param with shape torch.Size([20]) from checkpoint, the shape in current model is torch.Size([15]).\n\tsize mismatch for decoder.output_layer.weight: copying a param with shape torch.Size([100, 20]) from checkpoint, the shape in current model is torch.Size([100, 15]).",
     "output_type": "error",
     "traceback": [
      "\u001b[0;31m---------------------------------------------------------------------------\u001b[0m",
      "\u001b[0;31mRuntimeError\u001b[0m                              Traceback (most recent call last)",
      "Cell \u001b[0;32mIn[11], line 8\u001b[0m\n\u001b[1;32m      5\u001b[0m autoencoder \u001b[38;5;241m=\u001b[39m Autoencoder(autoencoder_input_shape, latent_space_dim, autoencoder_output_shape)\u001b[38;5;241m.\u001b[39mto(DEVICE)\n\u001b[1;32m      6\u001b[0m optimizer \u001b[38;5;241m=\u001b[39m torch\u001b[38;5;241m.\u001b[39moptim\u001b[38;5;241m.\u001b[39mAdam(autoencoder\u001b[38;5;241m.\u001b[39mparameters(), lr\u001b[38;5;241m=\u001b[39m\u001b[38;5;241m1e-2\u001b[39m)\n\u001b[0;32m----> 8\u001b[0m autoencoder, autoencoder_optimizer, autoencoder_lists \u001b[38;5;241m=\u001b[39m load_results(autoencoder, optimizer, BASELINE_RESULTS_PATH, map_location\u001b[38;5;241m=\u001b[39mDEVICE)\n",
      "File \u001b[0;32m~/Escritorio/rmunozTMELab/Physically-Guided-Machine-Learning/results_analysis/utils/checkpoints.py:41\u001b[0m, in \u001b[0;36mload_results\u001b[0;34m(model, optimizer, folder_path, map_location)\u001b[0m\n\u001b[1;32m     38\u001b[0m filename \u001b[38;5;241m=\u001b[39m os\u001b[38;5;241m.\u001b[39mpath\u001b[38;5;241m.\u001b[39mjoin(folder_path, \u001b[38;5;124mf\u001b[39m\u001b[38;5;124m'\u001b[39m\u001b[38;5;124mepoch_final.pth\u001b[39m\u001b[38;5;124m'\u001b[39m)\n\u001b[1;32m     39\u001b[0m checkpoint \u001b[38;5;241m=\u001b[39m torch\u001b[38;5;241m.\u001b[39mload(filename, weights_only\u001b[38;5;241m=\u001b[39m\u001b[38;5;28;01mFalse\u001b[39;00m, map_location\u001b[38;5;241m=\u001b[39mmap_location)\n\u001b[0;32m---> 41\u001b[0m model\u001b[38;5;241m.\u001b[39mload_state_dict(checkpoint[\u001b[38;5;124m'\u001b[39m\u001b[38;5;124mmodel_state_dict\u001b[39m\u001b[38;5;124m'\u001b[39m])\n\u001b[1;32m     42\u001b[0m optimizer\u001b[38;5;241m.\u001b[39mload_state_dict(checkpoint[\u001b[38;5;124m'\u001b[39m\u001b[38;5;124moptimizer_state_dict\u001b[39m\u001b[38;5;124m'\u001b[39m])\n\u001b[1;32m     44\u001b[0m kwargs \u001b[38;5;241m=\u001b[39m {key: checkpoint[key] \u001b[38;5;28;01mfor\u001b[39;00m key \u001b[38;5;129;01min\u001b[39;00m checkpoint \u001b[38;5;28;01mif\u001b[39;00m key \u001b[38;5;129;01mnot\u001b[39;00m \u001b[38;5;129;01min\u001b[39;00m [\u001b[38;5;124m'\u001b[39m\u001b[38;5;124mmodel_state_dict\u001b[39m\u001b[38;5;124m'\u001b[39m, \u001b[38;5;124m'\u001b[39m\u001b[38;5;124moptimizer_state_dict\u001b[39m\u001b[38;5;124m'\u001b[39m, \u001b[38;5;124m'\u001b[39m\u001b[38;5;124mmodel_architecture\u001b[39m\u001b[38;5;124m'\u001b[39m]}\n",
      "File \u001b[0;32m~/anaconda3/envs/SciML_test_env/lib/python3.12/site-packages/torch/nn/modules/module.py:2215\u001b[0m, in \u001b[0;36mModule.load_state_dict\u001b[0;34m(self, state_dict, strict, assign)\u001b[0m\n\u001b[1;32m   2210\u001b[0m         error_msgs\u001b[38;5;241m.\u001b[39minsert(\n\u001b[1;32m   2211\u001b[0m             \u001b[38;5;241m0\u001b[39m, \u001b[38;5;124m'\u001b[39m\u001b[38;5;124mMissing key(s) in state_dict: \u001b[39m\u001b[38;5;132;01m{}\u001b[39;00m\u001b[38;5;124m. \u001b[39m\u001b[38;5;124m'\u001b[39m\u001b[38;5;241m.\u001b[39mformat(\n\u001b[1;32m   2212\u001b[0m                 \u001b[38;5;124m'\u001b[39m\u001b[38;5;124m, \u001b[39m\u001b[38;5;124m'\u001b[39m\u001b[38;5;241m.\u001b[39mjoin(\u001b[38;5;124mf\u001b[39m\u001b[38;5;124m'\u001b[39m\u001b[38;5;124m\"\u001b[39m\u001b[38;5;132;01m{\u001b[39;00mk\u001b[38;5;132;01m}\u001b[39;00m\u001b[38;5;124m\"\u001b[39m\u001b[38;5;124m'\u001b[39m \u001b[38;5;28;01mfor\u001b[39;00m k \u001b[38;5;129;01min\u001b[39;00m missing_keys)))\n\u001b[1;32m   2214\u001b[0m \u001b[38;5;28;01mif\u001b[39;00m \u001b[38;5;28mlen\u001b[39m(error_msgs) \u001b[38;5;241m>\u001b[39m \u001b[38;5;241m0\u001b[39m:\n\u001b[0;32m-> 2215\u001b[0m     \u001b[38;5;28;01mraise\u001b[39;00m \u001b[38;5;167;01mRuntimeError\u001b[39;00m(\u001b[38;5;124m'\u001b[39m\u001b[38;5;124mError(s) in loading state_dict for \u001b[39m\u001b[38;5;132;01m{}\u001b[39;00m\u001b[38;5;124m:\u001b[39m\u001b[38;5;130;01m\\n\u001b[39;00m\u001b[38;5;130;01m\\t\u001b[39;00m\u001b[38;5;132;01m{}\u001b[39;00m\u001b[38;5;124m'\u001b[39m\u001b[38;5;241m.\u001b[39mformat(\n\u001b[1;32m   2216\u001b[0m                        \u001b[38;5;28mself\u001b[39m\u001b[38;5;241m.\u001b[39m\u001b[38;5;18m__class__\u001b[39m\u001b[38;5;241m.\u001b[39m\u001b[38;5;18m__name__\u001b[39m, \u001b[38;5;124m\"\u001b[39m\u001b[38;5;130;01m\\n\u001b[39;00m\u001b[38;5;130;01m\\t\u001b[39;00m\u001b[38;5;124m\"\u001b[39m\u001b[38;5;241m.\u001b[39mjoin(error_msgs)))\n\u001b[1;32m   2217\u001b[0m \u001b[38;5;28;01mreturn\u001b[39;00m _IncompatibleKeys(missing_keys, unexpected_keys)\n",
      "\u001b[0;31mRuntimeError\u001b[0m: Error(s) in loading state_dict for Autoencoder:\n\tUnexpected key(s) in state_dict: \"explanatory.conv_expand_layer.weight\", \"explanatory.conv_expand_layer.bias\", \"explanatory.hidden_layer.weight\", \"explanatory.hidden_layer.bias\", \"explanatory.conv_converge_layer.weight\", \"explanatory.conv_converge_layer.bias\". \n\tsize mismatch for encoder.hidden1_layer.weight: copying a param with shape torch.Size([20, 80]) from checkpoint, the shape in current model is torch.Size([15, 100]).\n\tsize mismatch for encoder.hidden1_layer.bias: copying a param with shape torch.Size([20]) from checkpoint, the shape in current model is torch.Size([15]).\n\tsize mismatch for encoder.hidden2_layer.weight: copying a param with shape torch.Size([10, 20]) from checkpoint, the shape in current model is torch.Size([10, 15]).\n\tsize mismatch for encoder.latent_space_layer.weight: copying a param with shape torch.Size([5, 10]) from checkpoint, the shape in current model is torch.Size([3, 10]).\n\tsize mismatch for encoder.latent_space_layer.bias: copying a param with shape torch.Size([5]) from checkpoint, the shape in current model is torch.Size([3]).\n\tsize mismatch for decoder.hidden1_layer.weight: copying a param with shape torch.Size([10, 5]) from checkpoint, the shape in current model is torch.Size([10, 3]).\n\tsize mismatch for decoder.hidden2_layer.weight: copying a param with shape torch.Size([20, 10]) from checkpoint, the shape in current model is torch.Size([15, 10]).\n\tsize mismatch for decoder.hidden2_layer.bias: copying a param with shape torch.Size([20]) from checkpoint, the shape in current model is torch.Size([15]).\n\tsize mismatch for decoder.output_layer.weight: copying a param with shape torch.Size([100, 20]) from checkpoint, the shape in current model is torch.Size([100, 15])."
     ]
    }
   ],
   "source": [
    "autoencoder_input_shape = y_train.values[0].shape\n",
    "latent_space_dim = [15, 10, 3, 10, 15]\n",
    "autoencoder_output_shape = y_train.values[0].shape\n",
    "\n",
    "autoencoder = Autoencoder(autoencoder_input_shape, latent_space_dim, autoencoder_output_shape).to(DEVICE)\n",
    "optimizer = torch.optim.Adam(autoencoder.parameters(), lr=1e-2)\n",
    "\n",
    "autoencoder, autoencoder_optimizer, autoencoder_lists = load_results(autoencoder, optimizer, BASELINE_RESULTS_PATH, map_location=DEVICE)"
   ]
  },
  {
   "cell_type": "code",
   "execution_count": null,
   "metadata": {},
   "outputs": [],
   "source": []
  },
  {
   "cell_type": "code",
   "execution_count": null,
   "metadata": {},
   "outputs": [],
   "source": []
  },
  {
   "cell_type": "code",
   "execution_count": null,
   "metadata": {},
   "outputs": [],
   "source": []
  }
 ],
 "metadata": {
  "kernelspec": {
   "display_name": "SciML_test_env",
   "language": "python",
   "name": "python3"
  },
  "language_info": {
   "codemirror_mode": {
    "name": "ipython",
    "version": 3
   },
   "file_extension": ".py",
   "mimetype": "text/x-python",
   "name": "python",
   "nbconvert_exporter": "python",
   "pygments_lexer": "ipython3",
   "version": "3.12.4"
  }
 },
 "nbformat": 4,
 "nbformat_minor": 2
}
