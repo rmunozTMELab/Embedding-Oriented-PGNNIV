{
 "cells": [
  {
   "cell_type": "code",
   "execution_count": 6,
   "metadata": {},
   "outputs": [],
   "source": [
    "import os\n",
    "import torch\n",
    "import numpy as np\n",
    "import matplotlib.pyplot as plt\n",
    "from sklearn.model_selection import train_test_split\n",
    "\n",
    "# Imports de la libreria propia\n",
    "from vecopsciml.kernels.derivative import DerivativeKernels\n",
    "from vecopsciml.utils import TensOps\n",
    "\n",
    "# Imports de las funciones creadas para este programa\n",
    "from models.non_constant_diffusivity import NonConstantDiffusivityNeuralNetwork\n",
    "from utils.folders import create_folder\n",
    "from utils.load_data import load_data\n",
    "from trainers.train import train_loop"
   ]
  },
  {
   "cell_type": "code",
   "execution_count": 200,
   "metadata": {},
   "outputs": [
    {
     "name": "stdout",
     "output_type": "stream",
     "text": [
      "Folder already exists at: C:\\Users\\usuario\\Desktop\\rmunozTMELab\\Physically-Guided-Machine-Learning\\results\\non_linear\n",
      "Folder successfully created at: C:\\Users\\usuario\\Desktop\\rmunozTMELab\\Physically-Guided-Machine-Learning\\results\\non_linear\\model_fft\n"
     ]
    }
   ],
   "source": [
    "# Creamos los paths para las distintas carpetas\n",
    "ROOT_PATH = r'C:\\Users\\usuario\\Desktop\\rmunozTMELab\\Physically-Guided-Machine-Learning'\n",
    "DATA_PATH = os.path.join(ROOT_PATH, r'data\\non_linear\\non_linear.pkl')\n",
    "RESULTS_FOLDER_PATH = os.path.join(ROOT_PATH, r'results\\non_linear')\n",
    "MODEL_RESULTS_PATH = os.path.join(ROOT_PATH, r'results\\non_linear\\model_fft')\n",
    "\n",
    "# Creamos las carpetas que sean necesarias (si ya están creadas se avisará de ello)\n",
    "create_folder(RESULTS_FOLDER_PATH)\n",
    "create_folder(MODEL_RESULTS_PATH)"
   ]
  },
  {
   "cell_type": "code",
   "execution_count": 201,
   "metadata": {},
   "outputs": [
    {
     "name": "stdout",
     "output_type": "stream",
     "text": [
      "Data successfully loaded from: C:\\Users\\usuario\\Desktop\\rmunozTMELab\\Physically-Guided-Machine-Learning\\data\\non_linear\\non_linear.pkl\n"
     ]
    }
   ],
   "source": [
    "# Load dataset\n",
    "dataset = load_data(DATA_PATH)"
   ]
  },
  {
   "cell_type": "code",
   "execution_count": 202,
   "metadata": {},
   "outputs": [],
   "source": [
    "# Convolutional filters to derivate\n",
    "dx = dataset['x_step_size']\n",
    "dy = dataset['y_step_size']\n",
    "D = DerivativeKernels(dx, dy, 0).grad_kernels_two_dimensions()"
   ]
  },
  {
   "cell_type": "code",
   "execution_count": 203,
   "metadata": {},
   "outputs": [],
   "source": [
    "u = torch.Tensor(dataset['y_train'])\n",
    "\n",
    "f_coef = torch.fft.fft2(u)\n",
    "F_ordered = f_coef.flatten(start_dim=1)\n",
    "\n",
    "mask = np.zeros_like(F_ordered)\n",
    "mask[:, 0:3] = 1\n",
    "\n",
    "F_full = f_coef*mask.reshape(f_coef.shape)\n",
    "u_reconstructed = torch.fft.ifft2(F_full).real\n",
    "\n",
    "# y_train = F_ordered[:, 0:3].reshape(u.shape[0], 3)\n",
    "\n",
    "real_part = F_ordered[:, 0:3].reshape(u.shape[0], 3).real\n",
    "imag_part = F_ordered[:, 0:3].reshape(u.shape[0], 3).imag\n",
    "\n",
    "y_train = torch.stack([\n",
    "    real_part,\n",
    "    imag_part,\n",
    "], dim=-1)"
   ]
  },
  {
   "cell_type": "code",
   "execution_count": 204,
   "metadata": {},
   "outputs": [
    {
     "data": {
      "text/plain": [
       "torch.Size([8000, 3, 2])"
      ]
     },
     "execution_count": 204,
     "metadata": {},
     "output_type": "execute_result"
    }
   ],
   "source": [
    "y_train.shape"
   ]
  },
  {
   "cell_type": "code",
   "execution_count": 208,
   "metadata": {},
   "outputs": [],
   "source": [
    "X_train = torch.Tensor(dataset['X_train']).unsqueeze(1)\n",
    "K_train = torch.tensor(dataset['k_train'], dtype=torch.float32, requires_grad=True)\n",
    "f_train = torch.tensor(dataset['f_train'], dtype=torch.float32, requires_grad=True)"
   ]
  },
  {
   "cell_type": "code",
   "execution_count": 209,
   "metadata": {},
   "outputs": [],
   "source": [
    "input_size = X_train[0].shape\n",
    "predictive_output_size = y_train[0].shape\n",
    "explanatory_output_size = K_train[0].shape"
   ]
  },
  {
   "cell_type": "code",
   "execution_count": 248,
   "metadata": {},
   "outputs": [],
   "source": [
    "import torch\n",
    "import torch.nn as nn\n",
    "\n",
    "from vecopsciml.utils import TensOps\n",
    "from vecopsciml.operators.zero_order import Mx, My\n",
    "\n",
    "class FFTNeuralNetwork(nn.Module):\n",
    "\n",
    "    def __init__(self, input_size, predictive_output_size, explanatory_output_size, **kwargs):\n",
    "        super(FFTNeuralNetwork, self).__init__()\n",
    "\n",
    "        self.input = input_size\n",
    "        self.output_pred = predictive_output_size\n",
    "        self.output_expl = explanatory_output_size\n",
    "\n",
    "        self.hidden_units_pred = 10\n",
    "        self.hidden_units_exp = 15\n",
    "        self.filters_exp = 10\n",
    "\n",
    "        # Predictive network\n",
    "        self.flatten_layer_pred = nn.Flatten(start_dim=1, end_dim=-1)\n",
    "        self.hidden1_layer_pred = nn.Linear(torch.prod(torch.tensor(self.input)), self.hidden_units_pred)  \n",
    "        self.hidden2_layer_pred = nn.Linear(self.hidden_units_pred, self.hidden_units_pred)  \n",
    "        self.output_layer_pred = nn.Linear(self.hidden_units_pred, self.output_pred[0]*self.output_pred[1])\n",
    "\n",
    "        # Explanatory network\n",
    "\n",
    "\n",
    "    def forward(self, X):\n",
    "\n",
    "        # Predictive network\n",
    "        X = self.flatten_layer_pred(X)\n",
    "        X = torch.sigmoid(self.hidden1_layer_pred(X))\n",
    "        X = torch.sigmoid(self.hidden2_layer_pred(X))\n",
    "        output_predictive_net = self.output_layer_pred(X)\n",
    "\n",
    "        # Obtain real and imaginary part of output and transform it in a complex number\n",
    "        output_predictive = output_predictive_net.view(output_predictive_net.size(0), self.output_pred[0], self.output_pred[1])\n",
    "        real = output_predictive[..., 0]\n",
    "        imag = output_predictive[..., 1]\n",
    "        \n",
    "        # Reconstruction of u(x, y) with iFFT\n",
    "        f_coef = torch.zeros(output_predictive_net.size(0), 1, self.output_expl[0], self.output_expl[1], dtype=torch.complex64)\n",
    "        f_coef[:, 0, 0:3, 0] = torch.complex(real, imag)\n",
    "        u_reconstructed = TensOps(torch.fft.ifft2(f_coef).real, space_dimension=2, contravariance=0, covariance=0)\n",
    "\n",
    "\n",
    "        \n",
    "\n",
    "\n",
    "model = FFTNeuralNetwork(input_size, predictive_output_size, explanatory_output_size)\n",
    "model(X_train)"
   ]
  },
  {
   "cell_type": "code",
   "execution_count": null,
   "metadata": {},
   "outputs": [],
   "source": [
    "import torch\n",
    "import torch.nn as nn\n",
    "\n",
    "from vecopsciml.utils import TensOps\n",
    "from vecopsciml.operators.zero_order import Mx, My\n",
    "\n",
    "class FFTNeuralNetwork(nn.Module):\n",
    "\n",
    "    def __init__(self, input_size, hidden1_dim, hidden2_dim, output_size, n_filters=5, **kwargs):\n",
    "        super(FFTNeuralNetwork, self).__init__()\n",
    "\n",
    "        self.input_size = input_size\n",
    "        self.hidden1_dim = hidden1_dim\n",
    "        self.hidden2_dim = hidden2_dim\n",
    "        self.output_size = output_size\n",
    "        self.n_filters = n_filters\n",
    "\n",
    "        # Predictive network\n",
    "        self.flatten_layer_pred = nn.Flatten(start_dim=1, end_dim=-1)\n",
    "        self.hidden1_layer_pred = nn.Linear(torch.prod(torch.tensor(self.input_size)), self.hidden1_dim)  \n",
    "        self.hidden2_layer_pred = nn.Linear(self.hidden1_dim, self.hidden2_dim)  \n",
    "        self.output_layer_pred = nn.Linear(self.hidden2_dim, self.output_size[2] * self.output_size[2])  \n",
    "\n",
    "        # Explanatory network\n",
    "        self.conv1_exp = nn.Conv2d(in_channels=1, out_channels=n_filters, kernel_size=1)\n",
    "        self.flatten_layer_exp = nn.Flatten()\n",
    "        self.hidden1_layer_exp = nn.LazyLinear(hidden1_dim)\n",
    "        self.hidden2_layer_exp = nn.Linear(hidden1_dim, hidden2_dim)\n",
    "        self.output_layer_exp = nn.Linear(hidden2_dim, n_filters * (output_size[1] - 1) * (output_size[2] - 1))\n",
    "        self.conv2_exp = nn.Conv2d(in_channels=n_filters, out_channels=1, kernel_size=1)\n",
    "    \n",
    "    def forward(self, X):\n",
    "\n",
    "        # Predictive network\n",
    "        X_pred_flat = self.flatten_layer_pred(X)\n",
    "        X_pred_hidden1 = torch.sigmoid(self.hidden1_layer_pred(X_pred_flat))\n",
    "        X_pred_hidden2 = torch.sigmoid(self.hidden2_layer_pred(X_pred_hidden1))\n",
    "        output_dense_pred = self.output_layer_pred(X_pred_hidden2)\n",
    "\n",
    "        # Mean operator\n",
    "        u_pred = output_dense_pred.view(output_dense_pred.size(0), 1, self.output_size[1], self.output_size[2])\n",
    "        um_pred = Mx(My(TensOps(u_pred, space_dimension=2, contravariance=0, covariance=0))).values\n",
    "\n",
    "        \n",
    "        # Explanatory network\n",
    "        x = torch.sigmoid(self.conv1_exp(um_pred))\n",
    "        x = self.flatten_layer_exp(x)\n",
    "        x = torch.sigmoid(self.hidden1_layer_exp(x))\n",
    "        x = torch.sigmoid(self.hidden2_layer_exp(x))\n",
    "        x = self.output_layer_exp(x)\n",
    "        x = x.view(x.size(0), self.n_filters, self.output_size[1] - 1, self.output_size[2] - 1)\n",
    "        K_pred = self.conv2_exp(x)\n",
    "\n",
    "        return u_pred, K_pred\n",
    "\n"
   ]
  }
 ],
 "metadata": {
  "kernelspec": {
   "display_name": "SciML_test_env",
   "language": "python",
   "name": "python3"
  },
  "language_info": {
   "codemirror_mode": {
    "name": "ipython",
    "version": 3
   },
   "file_extension": ".py",
   "mimetype": "text/x-python",
   "name": "python",
   "nbconvert_exporter": "python",
   "pygments_lexer": "ipython3",
   "version": "3.12.4"
  }
 },
 "nbformat": 4,
 "nbformat_minor": 2
}
