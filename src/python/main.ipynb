{
 "cells": [
  {
   "cell_type": "code",
   "execution_count": 1,
   "metadata": {},
   "outputs": [],
   "source": [
    "import os\n",
    "import torch\n",
    "from sklearn.model_selection import train_test_split\n",
    "\n",
    "# Imports de la libreria propia\n",
    "from vecopsciml.kernels.derivative import DerivativeKernels\n",
    "from vecopsciml.utils import TensOps\n",
    "\n",
    "# Imports de las funciones creadas para este programa\n",
    "from models.non_constant_diffusivity import NonConstantDiffusivityNeuralNetwork\n",
    "from utils.folders import create_folder\n",
    "from utils.load_data import load_data\n",
    "from trainers.train import train_loop"
   ]
  },
  {
   "cell_type": "code",
   "execution_count": 2,
   "metadata": {},
   "outputs": [
    {
     "name": "stdout",
     "output_type": "stream",
     "text": [
      "Folder already exists at: C:\\Users\\usuario\\Desktop\\rmunozTMELab\\Physically-Guided-Machine-Learning\\results\\non_linear\n",
      "Folder already exists at: C:\\Users\\usuario\\Desktop\\rmunozTMELab\\Physically-Guided-Machine-Learning\\results\\non_linear\\modelo_prueba_2\n"
     ]
    }
   ],
   "source": [
    "# Creamos los paths para las distintas carpetas\n",
    "ROOT_PATH = r'C:\\Users\\usuario\\Desktop\\rmunozTMELab\\Physically-Guided-Machine-Learning'\n",
    "DATA_PATH = os.path.join(ROOT_PATH, r'data\\non_linear\\non_linear.pkl')\n",
    "RESULTS_FOLDER_PATH = os.path.join(ROOT_PATH, r'results\\non_linear')\n",
    "MODEL_RESULTS_PATH = os.path.join(ROOT_PATH, r'results\\non_linear\\modelo_prueba_2')\n",
    "\n",
    "# Creamos las carpetas que sean necesarias (si ya están creadas se avisará de ello)\n",
    "create_folder(RESULTS_FOLDER_PATH)\n",
    "create_folder(MODEL_RESULTS_PATH)"
   ]
  },
  {
   "cell_type": "code",
   "execution_count": 3,
   "metadata": {},
   "outputs": [
    {
     "name": "stdout",
     "output_type": "stream",
     "text": [
      "Data successfully loaded from: C:\\Users\\usuario\\Desktop\\rmunozTMELab\\Physically-Guided-Machine-Learning\\data\\non_linear\\non_linear.pkl\n"
     ]
    }
   ],
   "source": [
    "# Load dataset\n",
    "dataset = load_data(DATA_PATH)"
   ]
  },
  {
   "cell_type": "code",
   "execution_count": 4,
   "metadata": {},
   "outputs": [],
   "source": [
    "# Convolutional filters to derivate\n",
    "dx = dataset['x_step_size']\n",
    "dy = dataset['y_step_size']\n",
    "D = DerivativeKernels(dx, dy, 0).grad_kernels_two_dimensions()"
   ]
  },
  {
   "cell_type": "code",
   "execution_count": 5,
   "metadata": {},
   "outputs": [
    {
     "name": "stdout",
     "output_type": "stream",
     "text": [
      "Using device: cpu\n"
     ]
    }
   ],
   "source": [
    "device = torch.device(\"cuda\" if torch.cuda.is_available() else \"cpu\")\n",
    "print(f\"Using device: {device}\")"
   ]
  },
  {
   "cell_type": "code",
   "execution_count": 6,
   "metadata": {},
   "outputs": [],
   "source": [
    "# Tratamiento de los datos para dividirlos en train y test\n",
    "X_train = torch.Tensor(dataset['X_train']).unsqueeze(1)\n",
    "y_train = TensOps(torch.tensor(dataset['y_train'], dtype=torch.float32, requires_grad=True).unsqueeze(1), space_dimension=2, contravariance=0, covariance=0)\n",
    "K_train = TensOps(torch.tensor(dataset['k_train'], dtype=torch.float32, requires_grad=True).unsqueeze(1), space_dimension=2, contravariance=0, covariance=0)\n",
    "f_train = TensOps(torch.tensor(dataset['f_train'], dtype=torch.float32, requires_grad=True).unsqueeze(1), space_dimension=2, contravariance=0, covariance=0)\n",
    "\n",
    "X_val = torch.Tensor(dataset['X_val']).unsqueeze(1)\n",
    "y_val = TensOps(torch.tensor(dataset['y_val'], dtype=torch.float32, requires_grad=True).unsqueeze(1), space_dimension=2, contravariance=0, covariance=0)\n",
    "K_val = TensOps(torch.tensor(dataset['k_val'], dtype=torch.float32, requires_grad=True).unsqueeze(1), space_dimension=2, contravariance=0, covariance=0)\n",
    "f_val = TensOps(torch.tensor(dataset['f_val'], dtype=torch.float32, requires_grad=True).unsqueeze(1), space_dimension=2, contravariance=0, covariance=0)\n",
    "\n",
    "X_np = X_train\n",
    "y_np = y_train.values\n",
    "K_np = K_train.values\n",
    "f_np = f_train.values\n",
    "\n",
    "X_train_np, X_test_np, y_train_np, y_test_np, K_train_np, K_test_np, f_train_np, f_test_np = train_test_split(X_np, y_np, K_np, f_np, test_size=0.2, random_state=42)\n",
    "\n",
    "X_train = X_train_np.to(device)\n",
    "X_test = X_test_np.to(device)\n",
    "\n",
    "y_train = TensOps(y_train_np.to(device), space_dimension=y_train.space_dim, contravariance=0, covariance=0)\n",
    "y_test = TensOps(y_test_np.to(device), space_dimension=y_train.space_dim, contravariance=0, covariance=0)\n",
    "\n",
    "K_train = TensOps(K_train_np.to(device), space_dimension=K_train.space_dim, contravariance=0, covariance=0)\n",
    "K_test = TensOps(K_test_np.to(device), space_dimension=K_train.space_dim, contravariance=0, covariance=0)\n",
    "\n",
    "f_train = TensOps(f_train_np.to(device), space_dimension=K_train.space_dim, contravariance=0, covariance=0)\n",
    "f_test = TensOps(f_test_np.to(device), space_dimension=K_train.space_dim, contravariance=0, covariance=0)"
   ]
  },
  {
   "cell_type": "code",
   "execution_count": 7,
   "metadata": {},
   "outputs": [],
   "source": [
    "# Arquitectura del modelo\n",
    "input_shape = X_train[0].shape  # [1, 10, 8]\n",
    "hidden1_dim = 20\n",
    "hidden2_dim = 20\n",
    "output_shape = y_train.values[0].shape  # [1, 10, 10]"
   ]
  },
  {
   "cell_type": "code",
   "execution_count": 8,
   "metadata": {},
   "outputs": [],
   "source": [
    "# Se carga el modelo y el optimizador\n",
    "model = NonConstantDiffusivityNeuralNetwork(input_shape, hidden1_dim, hidden2_dim, output_shape)\n",
    "optimizer = torch.optim.Adam(model.parameters(), lr=1e-2)"
   ]
  },
  {
   "cell_type": "code",
   "execution_count": 17,
   "metadata": {},
   "outputs": [
    {
     "name": "stdout",
     "output_type": "stream",
     "text": [
      "Start training\n",
      "Starting from a checkpoint. Epoch 1800.\n",
      "Epoch 1800, Train loss: 3.671e+04, Test loss: 7.756e+04, MSE(e): 1.499e-03, MSE(pi1): 6.928e-02, MSE(pi2): 1.371e-03, MSE(pi3): 1.479e-01\n",
      "Epoch 1900, Train loss: 3.182e+04, Test loss: 7.484e+04, MSE(e): 1.440e-03, MSE(pi1): 1.026e-01, MSE(pi2): 1.340e-03, MSE(pi3): 7.163e-02\n",
      "Epoch 2000, Train loss: 3.211e+04, Test loss: 8.282e+04, MSE(e): 1.455e-03, MSE(pi1): 1.018e-01, MSE(pi2): 1.323e-03, MSE(pi3): 7.374e-02\n",
      "Epoch 2100, Train loss: 2.985e+04, Test loss: 6.858e+04, MSE(e): 1.445e-03, MSE(pi1): 8.100e-02, MSE(pi2): 1.318e-03, MSE(pi3): 7.292e-02\n",
      "Epoch 2200, Train loss: 3.429e+04, Test loss: 7.411e+04, MSE(e): 1.430e-03, MSE(pi1): 1.291e-01, MSE(pi2): 1.319e-03, MSE(pi3): 7.073e-02\n",
      "Epoch 2300, Train loss: 2.893e+04, Test loss: 6.308e+04, MSE(e): 1.458e-03, MSE(pi1): 7.300e-02, MSE(pi2): 1.317e-03, MSE(pi3): 7.044e-02\n",
      "Epoch 2400, Train loss: 3.006e+04, Test loss: 6.341e+04, MSE(e): 1.400e-03, MSE(pi1): 9.125e-02, MSE(pi2): 1.312e-03, MSE(pi3): 6.929e-02\n",
      "\n",
      "Proceso finalizado después de 2500 épocas\n",
      "\n"
     ]
    }
   ],
   "source": [
    "# Parametros de entrenamiento\n",
    "start_epoch = 1800\n",
    "n_epochs = 2500\n",
    "\n",
    "batch_size = 64\n",
    "n_checkpoints = 10\n",
    "\n",
    "second_lr = 5e-4\n",
    "\n",
    "train_loop(model, optimizer, n_checkpoints,\n",
    "           X_train, y_train, X_test, y_test, f_train, f_test,\n",
    "           D=D, start_epoch=start_epoch, n_epochs=n_epochs, batch_size=batch_size, \n",
    "           model_results_path=MODEL_RESULTS_PATH, new_lr=second_lr\n",
    "        )"
   ]
  },
  {
   "cell_type": "code",
   "execution_count": 15,
   "metadata": {},
   "outputs": [
    {
     "name": "stdout",
     "output_type": "stream",
     "text": [
      "Start training\n",
      "Starting from a checkpoint. Epoch 1800.\n",
      "Epoch 1800, Train loss: 1.080e+08, Test loss: 1.241e+08, MSE(e): 6.612e+00, MSE(pi1): 4.150e+02, MSE(pi2): 3.031e+00, MSE(pi3): 3.501e+00\n",
      "Epoch 1900, Train loss: 2.838e+05, Test loss: 4.233e+05, MSE(e): 7.242e-03, MSE(pi1): 6.938e-02, MSE(pi2): 4.333e-03, MSE(pi3): 2.044e+00\n",
      "Epoch 2000, Train loss: 2.041e+05, Test loss: 2.903e+05, MSE(e): 4.986e-03, MSE(pi1): 8.663e-02, MSE(pi2): 3.260e-03, MSE(pi3): 1.455e+00\n",
      "Epoch 2100, Train loss: 1.590e+05, Test loss: 2.280e+05, MSE(e): 3.883e-03, MSE(pi1): 3.914e-01, MSE(pi2): 2.539e-03, MSE(pi3): 8.101e-01\n"
     ]
    },
    {
     "ename": "KeyboardInterrupt",
     "evalue": "",
     "output_type": "error",
     "traceback": [
      "\u001b[1;31m---------------------------------------------------------------------------\u001b[0m",
      "\u001b[1;31mKeyboardInterrupt\u001b[0m                         Traceback (most recent call last)",
      "Cell \u001b[1;32mIn[15], line 10\u001b[0m\n\u001b[0;32m      6\u001b[0m n_checkpoints \u001b[38;5;241m=\u001b[39m \u001b[38;5;241m10\u001b[39m\n\u001b[0;32m      8\u001b[0m second_lr \u001b[38;5;241m=\u001b[39m \u001b[38;5;241m5e-3\u001b[39m\n\u001b[1;32m---> 10\u001b[0m train_loop(model, optimizer, n_checkpoints,\n\u001b[0;32m     11\u001b[0m            X_train, y_train, X_test, y_test, f_train, f_test,\n\u001b[0;32m     12\u001b[0m            D\u001b[38;5;241m=\u001b[39mD, start_epoch\u001b[38;5;241m=\u001b[39mstart_epoch, n_epochs\u001b[38;5;241m=\u001b[39mn_epochs, batch_size\u001b[38;5;241m=\u001b[39mbatch_size, \n\u001b[0;32m     13\u001b[0m            model_results_path\u001b[38;5;241m=\u001b[39mMODEL_RESULTS_PATH, new_lr\u001b[38;5;241m=\u001b[39msecond_lr\n\u001b[0;32m     14\u001b[0m         )\n",
      "File \u001b[1;32mc:\\Users\\usuario\\Desktop\\rmunozTMELab\\Physically-Guided-Machine-Learning\\src\\python\\trainers\\train.py:84\u001b[0m, in \u001b[0;36mtrain_loop\u001b[1;34m(model, optimizer, n_checkpoints, X_train, y_train, X_test, y_test, f_train, f_test, D, start_epoch, n_epochs, batch_size, model_results_path, new_lr)\u001b[0m\n\u001b[0;32m     81\u001b[0m     y_batch \u001b[38;5;241m=\u001b[39m TensOps(y_train\u001b[38;5;241m.\u001b[39mvalues[batch_start:(batch_start\u001b[38;5;241m+\u001b[39mbatch_size)], space_dimension\u001b[38;5;241m=\u001b[39my_train\u001b[38;5;241m.\u001b[39mspace_dim, contravariance\u001b[38;5;241m=\u001b[39my_train\u001b[38;5;241m.\u001b[39morder[\u001b[38;5;241m0\u001b[39m], covariance\u001b[38;5;241m=\u001b[39my_train\u001b[38;5;241m.\u001b[39morder[\u001b[38;5;241m1\u001b[39m])\n\u001b[0;32m     82\u001b[0m     f_batch \u001b[38;5;241m=\u001b[39m TensOps(f_train\u001b[38;5;241m.\u001b[39mvalues[batch_start:(batch_start\u001b[38;5;241m+\u001b[39mbatch_size)], space_dimension\u001b[38;5;241m=\u001b[39mf_train\u001b[38;5;241m.\u001b[39mspace_dim, contravariance\u001b[38;5;241m=\u001b[39mf_train\u001b[38;5;241m.\u001b[39morder[\u001b[38;5;241m0\u001b[39m], covariance\u001b[38;5;241m=\u001b[39mf_train\u001b[38;5;241m.\u001b[39morder[\u001b[38;5;241m1\u001b[39m])\n\u001b[1;32m---> 84\u001b[0m     loss, e_loss, pi1_loss, pi2_loss, pi3_loss \u001b[38;5;241m=\u001b[39m train_epoch(model, optimizer, X_batch, y_batch, f_batch, D)\n\u001b[0;32m     86\u001b[0m train_total_loss_list\u001b[38;5;241m.\u001b[39mappend(loss\u001b[38;5;241m.\u001b[39mitem()\u001b[38;5;241m/\u001b[39mbatch_size)\n\u001b[0;32m     87\u001b[0m train_e_loss_list\u001b[38;5;241m.\u001b[39mappend(e_loss\u001b[38;5;241m.\u001b[39mitem()\u001b[38;5;241m/\u001b[39mbatch_size)\n",
      "File \u001b[1;32mc:\\Users\\usuario\\Desktop\\rmunozTMELab\\Physically-Guided-Machine-Learning\\src\\python\\trainers\\train.py:16\u001b[0m, in \u001b[0;36mtrain_epoch\u001b[1;34m(model, optimizer, X_train, y_train, f_true, D)\u001b[0m\n\u001b[0;32m     13\u001b[0m loss, e_loss, pi1_loss, pi2_loss, pi3_loss \u001b[38;5;241m=\u001b[39m loss_function(X_train, y_train, y_pred, K_pred, f_true, D)\n\u001b[0;32m     15\u001b[0m optimizer\u001b[38;5;241m.\u001b[39mzero_grad() \n\u001b[1;32m---> 16\u001b[0m loss\u001b[38;5;241m.\u001b[39mbackward(retain_graph\u001b[38;5;241m=\u001b[39m\u001b[38;5;28;01mTrue\u001b[39;00m)\n\u001b[0;32m     17\u001b[0m optimizer\u001b[38;5;241m.\u001b[39mstep()\n\u001b[0;32m     19\u001b[0m \u001b[38;5;28;01mreturn\u001b[39;00m loss, e_loss, pi1_loss, pi2_loss, pi3_loss\n",
      "File \u001b[1;32mc:\\Users\\usuario\\anaconda3\\envs\\SciML_test_env\\Lib\\site-packages\\torch\\_tensor.py:521\u001b[0m, in \u001b[0;36mTensor.backward\u001b[1;34m(self, gradient, retain_graph, create_graph, inputs)\u001b[0m\n\u001b[0;32m    511\u001b[0m \u001b[38;5;28;01mif\u001b[39;00m has_torch_function_unary(\u001b[38;5;28mself\u001b[39m):\n\u001b[0;32m    512\u001b[0m     \u001b[38;5;28;01mreturn\u001b[39;00m handle_torch_function(\n\u001b[0;32m    513\u001b[0m         Tensor\u001b[38;5;241m.\u001b[39mbackward,\n\u001b[0;32m    514\u001b[0m         (\u001b[38;5;28mself\u001b[39m,),\n\u001b[1;32m   (...)\u001b[0m\n\u001b[0;32m    519\u001b[0m         inputs\u001b[38;5;241m=\u001b[39minputs,\n\u001b[0;32m    520\u001b[0m     )\n\u001b[1;32m--> 521\u001b[0m torch\u001b[38;5;241m.\u001b[39mautograd\u001b[38;5;241m.\u001b[39mbackward(\n\u001b[0;32m    522\u001b[0m     \u001b[38;5;28mself\u001b[39m, gradient, retain_graph, create_graph, inputs\u001b[38;5;241m=\u001b[39minputs\n\u001b[0;32m    523\u001b[0m )\n",
      "File \u001b[1;32mc:\\Users\\usuario\\anaconda3\\envs\\SciML_test_env\\Lib\\site-packages\\torch\\autograd\\__init__.py:289\u001b[0m, in \u001b[0;36mbackward\u001b[1;34m(tensors, grad_tensors, retain_graph, create_graph, grad_variables, inputs)\u001b[0m\n\u001b[0;32m    284\u001b[0m     retain_graph \u001b[38;5;241m=\u001b[39m create_graph\n\u001b[0;32m    286\u001b[0m \u001b[38;5;66;03m# The reason we repeat the same comment below is that\u001b[39;00m\n\u001b[0;32m    287\u001b[0m \u001b[38;5;66;03m# some Python versions print out the first line of a multi-line function\u001b[39;00m\n\u001b[0;32m    288\u001b[0m \u001b[38;5;66;03m# calls in the traceback and some print out the last line\u001b[39;00m\n\u001b[1;32m--> 289\u001b[0m _engine_run_backward(\n\u001b[0;32m    290\u001b[0m     tensors,\n\u001b[0;32m    291\u001b[0m     grad_tensors_,\n\u001b[0;32m    292\u001b[0m     retain_graph,\n\u001b[0;32m    293\u001b[0m     create_graph,\n\u001b[0;32m    294\u001b[0m     inputs,\n\u001b[0;32m    295\u001b[0m     allow_unreachable\u001b[38;5;241m=\u001b[39m\u001b[38;5;28;01mTrue\u001b[39;00m,\n\u001b[0;32m    296\u001b[0m     accumulate_grad\u001b[38;5;241m=\u001b[39m\u001b[38;5;28;01mTrue\u001b[39;00m,\n\u001b[0;32m    297\u001b[0m )\n",
      "File \u001b[1;32mc:\\Users\\usuario\\anaconda3\\envs\\SciML_test_env\\Lib\\site-packages\\torch\\autograd\\graph.py:769\u001b[0m, in \u001b[0;36m_engine_run_backward\u001b[1;34m(t_outputs, *args, **kwargs)\u001b[0m\n\u001b[0;32m    767\u001b[0m     unregister_hooks \u001b[38;5;241m=\u001b[39m _register_logging_hooks_on_whole_graph(t_outputs)\n\u001b[0;32m    768\u001b[0m \u001b[38;5;28;01mtry\u001b[39;00m:\n\u001b[1;32m--> 769\u001b[0m     \u001b[38;5;28;01mreturn\u001b[39;00m Variable\u001b[38;5;241m.\u001b[39m_execution_engine\u001b[38;5;241m.\u001b[39mrun_backward(  \u001b[38;5;66;03m# Calls into the C++ engine to run the backward pass\u001b[39;00m\n\u001b[0;32m    770\u001b[0m         t_outputs, \u001b[38;5;241m*\u001b[39margs, \u001b[38;5;241m*\u001b[39m\u001b[38;5;241m*\u001b[39mkwargs\n\u001b[0;32m    771\u001b[0m     )  \u001b[38;5;66;03m# Calls into the C++ engine to run the backward pass\u001b[39;00m\n\u001b[0;32m    772\u001b[0m \u001b[38;5;28;01mfinally\u001b[39;00m:\n\u001b[0;32m    773\u001b[0m     \u001b[38;5;28;01mif\u001b[39;00m attach_logging_hooks:\n",
      "\u001b[1;31mKeyboardInterrupt\u001b[0m: "
     ]
    }
   ],
   "source": [
    "# Parametros de entrenamiento\n",
    "start_epoch = 1800\n",
    "n_epochs = 3000\n",
    "\n",
    "batch_size = 64\n",
    "n_checkpoints = 10\n",
    "\n",
    "second_lr = 5e-4\n",
    "\n",
    "train_loop(model, optimizer, n_checkpoints,\n",
    "           X_train, y_train, X_test, y_test, f_train, f_test,\n",
    "           D=D, start_epoch=start_epoch, n_epochs=n_epochs, batch_size=batch_size, \n",
    "           model_results_path=MODEL_RESULTS_PATH, new_lr=second_lr\n",
    "        )"
   ]
  },
  {
   "cell_type": "code",
   "execution_count": 11,
   "metadata": {},
   "outputs": [],
   "source": [
    "# # Parametros de entrenamiento\n",
    "# start_epoch = 36000\n",
    "# n_epochs = 60000\n",
    "\n",
    "# batch_size = 64\n",
    "# n_checkpoints = 10\n",
    "\n",
    "# second_lr = 1e-5\n",
    "\n",
    "# train_loop(model, optimizer, n_checkpoints,\n",
    "#            X_train, y_train, X_test, y_test, D=D, \n",
    "#            start_epoch=start_epoch, n_epochs=n_epochs, batch_size=batch_size, \n",
    "#            model_results_path=MODEL_RESULTS_PATH, new_lr=second_lr\n",
    "#         )"
   ]
  }
 ],
 "metadata": {
  "kernelspec": {
   "display_name": "SciML_test_env",
   "language": "python",
   "name": "python3"
  },
  "language_info": {
   "codemirror_mode": {
    "name": "ipython",
    "version": 3
   },
   "file_extension": ".py",
   "mimetype": "text/x-python",
   "name": "python",
   "nbconvert_exporter": "python",
   "pygments_lexer": "ipython3",
   "version": "3.12.4"
  }
 },
 "nbformat": 4,
 "nbformat_minor": 2
}
