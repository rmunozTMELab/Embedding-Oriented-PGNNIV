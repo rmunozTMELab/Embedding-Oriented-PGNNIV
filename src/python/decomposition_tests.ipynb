{
 "cells": [
  {
   "cell_type": "code",
   "execution_count": 101,
   "metadata": {},
   "outputs": [],
   "source": [
    "import os\n",
    "import torch\n",
    "import numpy as np\n",
    "import matplotlib.pyplot as plt\n",
    "from sklearn.model_selection import train_test_split\n",
    "\n",
    "# Imports de la libreria propia\n",
    "from vecopsciml.kernels.derivative import DerivativeKernels\n",
    "from vecopsciml.utils import TensOps\n",
    "\n",
    "# Imports de las funciones creadas para este programa\n",
    "from models.non_constant_diffusivity import NonConstantDiffusivityNeuralNetwork\n",
    "from utils.folders import create_folder\n",
    "from utils.load_data import load_data\n",
    "from trainers.train import train_loop"
   ]
  },
  {
   "cell_type": "code",
   "execution_count": 102,
   "metadata": {},
   "outputs": [
    {
     "name": "stdout",
     "output_type": "stream",
     "text": [
      "Folder already exists at: C:\\Users\\usuario\\Desktop\\rmunozTMELab\\Physically-Guided-Machine-Learning\\results\\non_linear\n",
      "Folder already exists at: C:\\Users\\usuario\\Desktop\\rmunozTMELab\\Physically-Guided-Machine-Learning\\results\\non_linear\\model_paper\n"
     ]
    }
   ],
   "source": [
    "# Creamos los paths para las distintas carpetas\n",
    "ROOT_PATH = r'C:\\Users\\usuario\\Desktop\\rmunozTMELab\\Physically-Guided-Machine-Learning'\n",
    "DATA_PATH = os.path.join(ROOT_PATH, r'data\\non_linear\\non_linear.pkl')\n",
    "RESULTS_FOLDER_PATH = os.path.join(ROOT_PATH, r'results\\non_linear')\n",
    "MODEL_RESULTS_PATH = os.path.join(ROOT_PATH, r'results\\non_linear\\model_paper')\n",
    "\n",
    "# Creamos las carpetas que sean necesarias (si ya están creadas se avisará de ello)\n",
    "create_folder(RESULTS_FOLDER_PATH)\n",
    "create_folder(MODEL_RESULTS_PATH)"
   ]
  },
  {
   "cell_type": "code",
   "execution_count": 103,
   "metadata": {},
   "outputs": [
    {
     "name": "stdout",
     "output_type": "stream",
     "text": [
      "Data successfully loaded from: C:\\Users\\usuario\\Desktop\\rmunozTMELab\\Physically-Guided-Machine-Learning\\data\\non_linear\\non_linear.pkl\n"
     ]
    }
   ],
   "source": [
    "# Load dataset\n",
    "dataset = load_data(DATA_PATH)"
   ]
  },
  {
   "cell_type": "code",
   "execution_count": 104,
   "metadata": {},
   "outputs": [],
   "source": [
    "# Convolutional filters to derivate\n",
    "dx = dataset['x_step_size']\n",
    "dy = dataset['y_step_size']\n",
    "D = DerivativeKernels(dx, dy, 0).grad_kernels_two_dimensions()"
   ]
  },
  {
   "cell_type": "code",
   "execution_count": 105,
   "metadata": {},
   "outputs": [],
   "source": [
    "u = torch.Tensor(dataset['y_train'])"
   ]
  },
  {
   "cell_type": "code",
   "execution_count": 142,
   "metadata": {},
   "outputs": [],
   "source": [
    "f_coef = torch.fft.fft2(u)\n",
    "F_ordered = f_coef.flatten(start_dim=1)\n",
    "N = F_ordered.shape[1]\n",
    "\n",
    "Et = torch.sum(torch.sum(torch.square(torch.abs(u)), dim=1), dim=1)\n",
    "Ef = torch.sum(torch.sum(torch.square(torch.abs(f_coef)), dim=1), dim=1)/N"
   ]
  },
  {
   "cell_type": "code",
   "execution_count": 217,
   "metadata": {},
   "outputs": [
    {
     "name": "stdout",
     "output_type": "stream",
     "text": [
      "Mínimo: 8.65e-01\n",
      "Primer cuartil (Q1): 9.86e-01\n",
      "Mediana (Q2): 9.93e-01\n",
      "Tercer cuartil (Q3): 9.98e-01\n",
      "Máximo: 1.00e+00\n",
      "\n",
      "El valor mínimo es: 0.8648183345794678\n",
      "El índice del valor mínimo es: 5504\n"
     ]
    }
   ],
   "source": [
    "energy = []\n",
    "\n",
    "for index in range(Et.shape[0]):\n",
    "    energy.append(torch.sum(torch.sum(torch.square(torch.abs(F_ordered[index, :10]))))/N/Et[index])\n",
    "\n",
    "minimo = np.min(energy)\n",
    "maximo = np.max(energy)\n",
    "primer_cuartil = np.percentile(energy, 25)\n",
    "mediana = np.percentile(energy, 50)\n",
    "tercer_cuartil = np.percentile(energy, 75)\n",
    "\n",
    "# Imprimir los resultados\n",
    "print(f\"Mínimo: {minimo:.2e}\")\n",
    "print(f\"Primer cuartil (Q1): {primer_cuartil:.2e}\")\n",
    "print(f\"Mediana (Q2): {mediana:.2e}\")\n",
    "print(f\"Tercer cuartil (Q3): {tercer_cuartil:.2e}\")\n",
    "print(f\"Máximo: {maximo:.2e}\\n\")\n",
    "\n",
    "minimo = np.min(energy)\n",
    "indice_minimo = np.argmin(energy)\n",
    "\n",
    "print(f\"El valor mínimo es: {minimo}\")\n",
    "print(f\"El índice del valor mínimo es: {indice_minimo}\")"
   ]
  },
  {
   "cell_type": "code",
   "execution_count": 389,
   "metadata": {},
   "outputs": [],
   "source": [
    "mask = np.zeros_like(F_ordered)\n",
    "mask[:, 0:3] = 1\n",
    "\n",
    "F_full = f_coef*mask.reshape(f_coef.shape)\n",
    "u_reconstructed = torch.fft.ifft2(F_full).real"
   ]
  },
  {
   "cell_type": "code",
   "execution_count": 391,
   "metadata": {},
   "outputs": [
    {
     "data": {
      "text/plain": [
       "tensor(0.0897)"
      ]
     },
     "execution_count": 391,
     "metadata": {},
     "output_type": "execute_result"
    }
   ],
   "source": [
    "torch.sum(torch.abs(u - u_reconstructed))/torch.sum(torch.abs(u))"
   ]
  },
  {
   "cell_type": "code",
   "execution_count": 392,
   "metadata": {},
   "outputs": [
    {
     "data": {
      "image/png": "[encoded data removed]",
      "text/plain": [
       "<Figure size 640x480 with 2 Axes>"
      ]
     },
     "metadata": {},
     "output_type": "display_data"
    },
    {
     "data": {
      "image/png": "[encoded data removed]",
      "text/plain": [
       "<Figure size 640x480 with 2 Axes>"
      ]
     },
     "metadata": {},
     "output_type": "display_data"
    }
   ],
   "source": [
    "index = 0\n",
    "\n",
    "plt.imshow(u[index])\n",
    "plt.colorbar()\n",
    "plt.show()\n",
    "\n",
    "plt.imshow(np.abs(u_reconstructed[index] - u[index]))\n",
    "plt.colorbar()\n",
    "plt.show()"
   ]
  }
 ],
 "metadata": {
  "kernelspec": {
   "display_name": "SciML_test_env",
   "language": "python",
   "name": "python3"
  },
  "language_info": {
   "codemirror_mode": {
    "name": "ipython",
    "version": 3
   },
   "file_extension": ".py",
   "mimetype": "text/x-python",
   "name": "python",
   "nbconvert_exporter": "python",
   "pygments_lexer": "ipython3",
   "version": "3.12.4"
  }
 },
 "nbformat": 4,
 "nbformat_minor": 2
}
