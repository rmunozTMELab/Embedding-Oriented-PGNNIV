{
 "cells": [
  {
   "cell_type": "code",
   "execution_count": 3,
   "metadata": {},
   "outputs": [],
   "source": [
    "import os \n",
    "import sys\n",
    "\n",
    "sys.path.append(os.path.abspath(os.path.join(os.getcwd(), \"../../\")))"
   ]
  },
  {
   "cell_type": "code",
   "execution_count": 4,
   "metadata": {},
   "outputs": [],
   "source": [
    "import torch\n",
    "import GPUtil\n",
    "from sklearn.model_selection import train_test_split\n",
    "import matplotlib.pyplot as plt\n",
    "\n",
    "# Imports de la libreria propia\n",
    "from vecopsciml.kernels.derivative import DerivativeKernels\n",
    "from vecopsciml.utils import TensOps\n",
    "\n",
    "# Imports de las funciones creadas para este programa\n",
    "from utils.folders import create_folder\n",
    "from utils.load_data import load_data\n",
    "from trainers.train import train_loop\n",
    "\n",
    "from vecopsciml.operators.zero_order import Mx, My\n",
    "from utils.checkpoints import load_results\n",
    "\n",
    "from architectures.pgnniv_baseline import PGNNIVBaseline"
   ]
  },
  {
   "cell_type": "code",
   "execution_count": 5,
   "metadata": {},
   "outputs": [
    {
     "name": "stdout",
     "output_type": "stream",
     "text": [
      "Folder already exists at: /home/rmunoz/Escritorio/rmunozTMELab/Physically-Guided-Machine-Learning/results/transfer_learning\n",
      "Folder successfully created at: /home/rmunoz/Escritorio/rmunozTMELab/Physically-Guided-Machine-Learning/results/transfer_learning/transfer\n"
     ]
    }
   ],
   "source": [
    "# Creamos los paths para las distintas carpetas\n",
    "ROOT_PATH = r'/home/rmunoz/Escritorio/rmunozTMELab/Physically-Guided-Machine-Learning'\n",
    "DATA_PATH = os.path.join(ROOT_PATH, r'data/sigmoid_nonlinear/sigmoid_nonlinear.pkl')\n",
    "RESULTS_FOLDER_PATH = os.path.join(ROOT_PATH, r'results/transfer_learning')\n",
    "\n",
    "PRETRAINED_RESULTS_PATH = os.path.join(ROOT_PATH, r'results/non_linear_1000_0/baseline_model_10')\n",
    "MODEL_RESULTS_TRANSFERLEARNING_PATH = os.path.join(ROOT_PATH, r'results/transfer_learning/transfer')\n",
    "\n",
    "# Creamos las carpetas que sean necesarias (si ya están creadas se avisará de ello)\n",
    "create_folder(RESULTS_FOLDER_PATH)\n",
    "create_folder(MODEL_RESULTS_TRANSFERLEARNING_PATH)"
   ]
  },
  {
   "cell_type": "code",
   "execution_count": 7,
   "metadata": {},
   "outputs": [
    {
     "name": "stdout",
     "output_type": "stream",
     "text": [
      "Data successfully loaded from: /home/rmunoz/Escritorio/rmunozTMELab/Physically-Guided-Machine-Learning/data/sigmoid_nonlinear/sigmoid_nonlinear.pkl\n"
     ]
    }
   ],
   "source": [
    "# Load dataset\n",
    "dataset = load_data(DATA_PATH)"
   ]
  },
  {
   "cell_type": "code",
   "execution_count": 8,
   "metadata": {},
   "outputs": [],
   "source": [
    "# Convolutional filters to derivate\n",
    "dx = dataset['x_step_size']\n",
    "dy = dataset['y_step_size']\n",
    "D = DerivativeKernels(dx, dy, 0).grad_kernels_two_dimensions()"
   ]
  },
  {
   "cell_type": "code",
   "execution_count": 9,
   "metadata": {},
   "outputs": [
    {
     "name": "stdout",
     "output_type": "stream",
     "text": [
      "Using device: cuda:1\n"
     ]
    }
   ],
   "source": [
    "DEVICE = torch.device(\"cuda:1\" if torch.cuda.is_available() else \"cpu\")\n",
    "\n",
    "print(f\"Using device: {DEVICE}\")"
   ]
  },
  {
   "cell_type": "markdown",
   "metadata": {},
   "source": [
    "### División de los datos"
   ]
  },
  {
   "cell_type": "code",
   "execution_count": 10,
   "metadata": {},
   "outputs": [
    {
     "name": "stdout",
     "output_type": "stream",
     "text": [
      "Train dataset length: 800\n",
      "Validation dataset length: 200\n"
     ]
    }
   ],
   "source": [
    "X_train = torch.Tensor(dataset['X_train']).unsqueeze(1)\n",
    "y_train = torch.Tensor(dataset['y_train']).unsqueeze(1)\n",
    "K_train = torch.tensor(dataset['k_train']).unsqueeze(1)\n",
    "f_train = torch.tensor(dataset['f_train']).unsqueeze(1).to(torch.float32)\n",
    "\n",
    "X_val = torch.Tensor(dataset['X_val']).unsqueeze(1)\n",
    "y_val = TensOps(torch.Tensor(dataset['y_val']).unsqueeze(1).requires_grad_(True), space_dimension=2, contravariance=0, covariance=0)\n",
    "K_val = TensOps(torch.tensor(dataset['k_val']).unsqueeze(1).requires_grad_(True), space_dimension=2, contravariance=0, covariance=0)\n",
    "f_val = TensOps(torch.tensor(dataset['f_val']).to(torch.float32).unsqueeze(1).requires_grad_(True), space_dimension=2, contravariance=0, covariance=0)\n",
    "\n",
    "print(\"Train dataset length:\", len(X_train))\n",
    "print(\"Validation dataset length:\", len(X_val))"
   ]
  },
  {
   "cell_type": "code",
   "execution_count": 11,
   "metadata": {},
   "outputs": [],
   "source": [
    "X_train, X_test, y_train, y_test, K_train, K_test, f_train, f_test = train_test_split(X_train, y_train, K_train, f_train, test_size=0.2, random_state=42)\n",
    "\n",
    "X_train = X_train.to(DEVICE)\n",
    "X_test = X_test.to(DEVICE)\n",
    "\n",
    "y_train = TensOps(y_train.requires_grad_(True).to(DEVICE), space_dimension=2, contravariance=0, covariance=0)\n",
    "y_test = TensOps(y_test.requires_grad_(True).to(DEVICE), space_dimension=2, contravariance=0, covariance=0)\n",
    "\n",
    "K_train = TensOps(K_train.to(DEVICE), space_dimension=2, contravariance=0, covariance=0)\n",
    "K_test = TensOps(K_test.to(DEVICE), space_dimension=2, contravariance=0, covariance=0)\n",
    "\n",
    "f_train = TensOps(f_train.to(DEVICE), space_dimension=2, contravariance=0, covariance=0)\n",
    "f_test = TensOps(f_test.to(DEVICE), space_dimension=2, contravariance=0, covariance=0)"
   ]
  },
  {
   "cell_type": "code",
   "execution_count": 12,
   "metadata": {},
   "outputs": [],
   "source": [
    "# Other parameters\n",
    "n_filters_explanatory = 5\n",
    "n_modes = 10\n",
    "\n",
    "# Predictive network architecture\n",
    "input_shape = X_train[0].shape\n",
    "predictive_layers = [20, 10, n_modes, 10, 20]\n",
    "predictive_output = y_train.values[0].shape\n",
    "\n",
    "# Explanatory network architecture\n",
    "explanatory_input = Mx(My(y_train)).values[0].shape\n",
    "explanatory_layers = [10]\n",
    "explanatory_output = Mx(My(f_train)).values[0].shape"
   ]
  },
  {
   "cell_type": "code",
   "execution_count": 13,
   "metadata": {},
   "outputs": [],
   "source": [
    "# pretrained_autoencoder = PretrainedAutoencoder(autoencoder_input_shape, latent_space_dim, autoencoder_output_shape).to(DEVICE)\n",
    "pretrained_pgnniv = PGNNIVBaseline(input_shape, predictive_layers, predictive_output, explanatory_input, explanatory_layers, explanatory_output, n_filters_explanatory).to(DEVICE)\n",
    "optimizer = torch.optim.Adam(pretrained_pgnniv.parameters(), lr=1e-4)\n",
    "pretrained_pgnniv, optimizer, lists = load_results(pretrained_pgnniv, optimizer, PRETRAINED_RESULTS_PATH, map_location=torch.device('cpu'))"
   ]
  },
  {
   "cell_type": "code",
   "execution_count": 14,
   "metadata": {},
   "outputs": [
    {
     "data": {
      "text/plain": [
       "<matplotlib.collections.PathCollection at 0x7f2f992142f0>"
      ]
     },
     "execution_count": 14,
     "metadata": {},
     "output_type": "execute_result"
    },
    {
     "data": {
      "image/png": "[encoded data removed]",
      "text/plain": [
       "<Figure size 640x480 with 1 Axes>"
      ]
     },
     "metadata": {},
     "output_type": "display_data"
    }
   ],
   "source": [
    "plt.scatter(Mx(My(TensOps(pretrained_pgnniv(X_train)[0], space_dimension=2, contravariance=0, covariance=0))).values.cpu().detach().numpy().flatten(), \n",
    "            pretrained_pgnniv(X_train)[1].cpu().detach().numpy().flatten())\n",
    "\n",
    "plt.scatter(y_train.values.cpu().detach().numpy().flatten(), \n",
    "           K_train.values.cpu().detach().numpy().flatten())"
   ]
  },
  {
   "cell_type": "code",
   "execution_count": null,
   "metadata": {},
   "outputs": [
    {
     "name": "stdout",
     "output_type": "stream",
     "text": [
      "hidden1_layer.weight: requires_grad=False\n",
      "hidden1_layer.bias: requires_grad=False\n",
      "hidden2_layer.weight: requires_grad=False\n",
      "hidden2_layer.bias: requires_grad=False\n",
      "latent_space_layer.weight: requires_grad=False\n",
      "latent_space_layer.bias: requires_grad=False\n"
     ]
    }
   ],
   "source": [
    "pgnniv_pretrained_encoder = pretrained_pgnniv.encoder\n",
    "\n",
    "for param in pgnniv_pretrained_encoder.parameters():\n",
    "    param.requires_grad = False\n",
    "\n",
    "# for name, param in pgnniv_pretrained_encoder.named_parameters():\n",
    "#     print(f\"{name}: requires_grad={param.requires_grad}\")"
   ]
  },
  {
   "cell_type": "code",
   "execution_count": null,
   "metadata": {},
   "outputs": [
    {
     "name": "stdout",
     "output_type": "stream",
     "text": [
      "Starting training from scratch.\n",
      "Epoch 0, Train loss: 8.514e+11, Test loss: 7.937e+11, MSE(e): 8.484e+01, MSE(pi1): 2.735e+02, MSE(pi2): 3.617e+01, MSE(pi3): 2.912e+00\n",
      "Epoch 10, Train loss: 9.765e+10, Test loss: 1.392e+11, MSE(e): 9.718e+00, MSE(pi1): 2.264e+01, MSE(pi2): 4.382e+00, MSE(pi3): 2.371e+00\n",
      "Epoch 20, Train loss: 2.331e+10, Test loss: 3.248e+10, MSE(e): 2.285e+00, MSE(pi1): 2.269e+01, MSE(pi2): 1.389e+00, MSE(pi3): 2.343e+00\n",
      "Epoch 30, Train loss: 1.923e+10, Test loss: 2.085e+10, MSE(e): 1.877e+00, MSE(pi1): 2.273e+01, MSE(pi2): 1.227e+00, MSE(pi3): 2.303e+00\n",
      "Epoch 40, Train loss: 1.800e+10, Test loss: 1.761e+10, MSE(e): 1.755e+00, MSE(pi1): 2.273e+01, MSE(pi2): 1.175e+00, MSE(pi3): 2.260e+00\n",
      "Epoch 50, Train loss: 1.743e+10, Test loss: 1.616e+10, MSE(e): 1.698e+00, MSE(pi1): 2.268e+01, MSE(pi2): 1.152e+00, MSE(pi3): 2.211e+00\n",
      "Epoch 60, Train loss: 1.720e+10, Test loss: 1.546e+10, MSE(e): 1.676e+00, MSE(pi1): 2.256e+01, MSE(pi2): 1.143e+00, MSE(pi3): 2.150e+00\n",
      "Epoch 70, Train loss: 1.712e+10, Test loss: 1.496e+10, MSE(e): 1.669e+00, MSE(pi1): 2.235e+01, MSE(pi2): 1.141e+00, MSE(pi3): 2.077e+00\n",
      "Epoch 80, Train loss: 1.694e+10, Test loss: 1.469e+10, MSE(e): 1.652e+00, MSE(pi1): 2.202e+01, MSE(pi2): 1.134e+00, MSE(pi3): 1.992e+00\n",
      "Epoch 90, Train loss: 1.688e+10, Test loss: 1.450e+10, MSE(e): 1.648e+00, MSE(pi1): 2.159e+01, MSE(pi2): 1.132e+00, MSE(pi3): 1.897e+00\n",
      "Epoch 100, Train loss: 1.684e+10, Test loss: 1.437e+10, MSE(e): 1.645e+00, MSE(pi1): 2.107e+01, MSE(pi2): 1.132e+00, MSE(pi3): 1.795e+00\n",
      "Epoch 110, Train loss: 1.681e+10, Test loss: 1.427e+10, MSE(e): 1.644e+00, MSE(pi1): 2.050e+01, MSE(pi2): 1.132e+00, MSE(pi3): 1.692e+00\n",
      "Epoch 120, Train loss: 1.678e+10, Test loss: 1.418e+10, MSE(e): 1.643e+00, MSE(pi1): 1.992e+01, MSE(pi2): 1.131e+00, MSE(pi3): 1.593e+00\n",
      "Epoch 130, Train loss: 1.676e+10, Test loss: 1.411e+10, MSE(e): 1.642e+00, MSE(pi1): 1.935e+01, MSE(pi2): 1.131e+00, MSE(pi3): 1.502e+00\n",
      "Epoch 140, Train loss: 1.674e+10, Test loss: 1.406e+10, MSE(e): 1.641e+00, MSE(pi1): 1.883e+01, MSE(pi2): 1.131e+00, MSE(pi3): 1.422e+00\n",
      "Epoch 150, Train loss: 1.673e+10, Test loss: 1.401e+10, MSE(e): 1.641e+00, MSE(pi1): 1.845e+01, MSE(pi2): 1.131e+00, MSE(pi3): 1.358e+00\n",
      "Epoch 160, Train loss: 1.672e+10, Test loss: 1.397e+10, MSE(e): 1.641e+00, MSE(pi1): 1.807e+01, MSE(pi2): 1.131e+00, MSE(pi3): 1.311e+00\n",
      "Epoch 170, Train loss: 1.671e+10, Test loss: 1.394e+10, MSE(e): 1.640e+00, MSE(pi1): 1.793e+01, MSE(pi2): 1.131e+00, MSE(pi3): 1.279e+00\n",
      "Epoch 180, Train loss: 1.671e+10, Test loss: 1.391e+10, MSE(e): 1.641e+00, MSE(pi1): 1.755e+01, MSE(pi2): 1.131e+00, MSE(pi3): 1.256e+00\n",
      "Epoch 190, Train loss: 1.670e+10, Test loss: 1.389e+10, MSE(e): 1.641e+00, MSE(pi1): 1.707e+01, MSE(pi2): 1.132e+00, MSE(pi3): 1.238e+00\n",
      "Epoch 200, Train loss: 1.670e+10, Test loss: 1.387e+10, MSE(e): 1.641e+00, MSE(pi1): 1.685e+01, MSE(pi2): 1.132e+00, MSE(pi3): 1.225e+00\n",
      "Epoch 210, Train loss: 1.670e+10, Test loss: 1.385e+10, MSE(e): 1.641e+00, MSE(pi1): 1.671e+01, MSE(pi2): 1.132e+00, MSE(pi3): 1.214e+00\n",
      "Epoch 220, Train loss: 1.670e+10, Test loss: 1.384e+10, MSE(e): 1.641e+00, MSE(pi1): 1.652e+01, MSE(pi2): 1.132e+00, MSE(pi3): 1.204e+00\n",
      "Epoch 230, Train loss: 1.669e+10, Test loss: 1.383e+10, MSE(e): 1.641e+00, MSE(pi1): 1.632e+01, MSE(pi2): 1.132e+00, MSE(pi3): 1.193e+00\n",
      "Epoch 240, Train loss: 1.667e+10, Test loss: 1.382e+10, MSE(e): 1.639e+00, MSE(pi1): 1.613e+01, MSE(pi2): 1.131e+00, MSE(pi3): 1.182e+00\n",
      "Epoch 250, Train loss: 1.664e+10, Test loss: 1.380e+10, MSE(e): 1.636e+00, MSE(pi1): 1.590e+01, MSE(pi2): 1.127e+00, MSE(pi3): 1.171e+00\n",
      "Epoch 260, Train loss: 1.663e+10, Test loss: 1.378e+10, MSE(e): 1.636e+00, MSE(pi1): 1.562e+01, MSE(pi2): 1.126e+00, MSE(pi3): 1.160e+00\n",
      "Epoch 270, Train loss: 1.663e+10, Test loss: 1.377e+10, MSE(e): 1.636e+00, MSE(pi1): 1.534e+01, MSE(pi2): 1.126e+00, MSE(pi3): 1.147e+00\n",
      "Epoch 280, Train loss: 1.663e+10, Test loss: 1.376e+10, MSE(e): 1.637e+00, MSE(pi1): 1.509e+01, MSE(pi2): 1.126e+00, MSE(pi3): 1.130e+00\n",
      "Epoch 290, Train loss: 1.663e+10, Test loss: 1.375e+10, MSE(e): 1.638e+00, MSE(pi1): 1.474e+01, MSE(pi2): 1.125e+00, MSE(pi3): 1.108e+00\n",
      "Epoch 300, Train loss: 1.663e+10, Test loss: 1.375e+10, MSE(e): 1.638e+00, MSE(pi1): 1.431e+01, MSE(pi2): 1.125e+00, MSE(pi3): 1.080e+00\n",
      "Epoch 310, Train loss: 1.663e+10, Test loss: 1.374e+10, MSE(e): 1.639e+00, MSE(pi1): 1.378e+01, MSE(pi2): 1.125e+00, MSE(pi3): 1.045e+00\n",
      "Epoch 320, Train loss: 1.662e+10, Test loss: 1.373e+10, MSE(e): 1.639e+00, MSE(pi1): 1.315e+01, MSE(pi2): 1.125e+00, MSE(pi3): 1.004e+00\n",
      "Epoch 330, Train loss: 1.661e+10, Test loss: 1.371e+10, MSE(e): 1.639e+00, MSE(pi1): 1.241e+01, MSE(pi2): 1.125e+00, MSE(pi3): 9.563e-01\n",
      "Epoch 340, Train loss: 1.660e+10, Test loss: 1.369e+10, MSE(e): 1.639e+00, MSE(pi1): 1.159e+01, MSE(pi2): 1.125e+00, MSE(pi3): 9.036e-01\n",
      "Epoch 350, Train loss: 1.658e+10, Test loss: 1.368e+10, MSE(e): 1.639e+00, MSE(pi1): 1.081e+01, MSE(pi2): 1.125e+00, MSE(pi3): 8.483e-01\n",
      "Epoch 360, Train loss: 1.657e+10, Test loss: 1.367e+10, MSE(e): 1.639e+00, MSE(pi1): 1.027e+01, MSE(pi2): 1.125e+00, MSE(pi3): 7.949e-01\n",
      "Epoch 370, Train loss: 1.655e+10, Test loss: 1.366e+10, MSE(e): 1.638e+00, MSE(pi1): 9.199e+00, MSE(pi2): 1.125e+00, MSE(pi3): 7.450e-01\n",
      "Epoch 380, Train loss: 1.655e+10, Test loss: 1.364e+10, MSE(e): 1.639e+00, MSE(pi1): 8.415e+00, MSE(pi2): 1.126e+00, MSE(pi3): 7.034e-01\n",
      "Epoch 390, Train loss: 1.652e+10, Test loss: 1.361e+10, MSE(e): 1.637e+00, MSE(pi1): 8.107e+00, MSE(pi2): 1.126e+00, MSE(pi3): 6.705e-01\n",
      "Epoch 400, Train loss: 1.651e+10, Test loss: 1.359e+10, MSE(e): 1.637e+00, MSE(pi1): 7.762e+00, MSE(pi2): 1.126e+00, MSE(pi3): 6.513e-01\n",
      "Epoch 410, Train loss: 1.668e+10, Test loss: 1.360e+10, MSE(e): 1.654e+00, MSE(pi1): 7.567e+00, MSE(pi2): 1.129e+00, MSE(pi3): 6.534e-01\n",
      "Epoch 420, Train loss: 1.650e+10, Test loss: 1.359e+10, MSE(e): 1.636e+00, MSE(pi1): 6.964e+00, MSE(pi2): 1.126e+00, MSE(pi3): 6.360e-01\n",
      "Epoch 430, Train loss: 1.650e+10, Test loss: 1.358e+10, MSE(e): 1.637e+00, MSE(pi1): 7.405e+00, MSE(pi2): 1.125e+00, MSE(pi3): 6.280e-01\n",
      "Epoch 440, Train loss: 1.649e+10, Test loss: 1.356e+10, MSE(e): 1.636e+00, MSE(pi1): 6.704e+00, MSE(pi2): 1.126e+00, MSE(pi3): 6.076e-01\n",
      "Epoch 450, Train loss: 1.656e+10, Test loss: 1.360e+10, MSE(e): 1.643e+00, MSE(pi1): 6.791e+00, MSE(pi2): 1.130e+00, MSE(pi3): 6.276e-01\n",
      "Epoch 460, Train loss: 1.649e+10, Test loss: 1.354e+10, MSE(e): 1.636e+00, MSE(pi1): 7.365e+00, MSE(pi2): 1.125e+00, MSE(pi3): 6.107e-01\n",
      "Epoch 470, Train loss: 1.647e+10, Test loss: 1.353e+10, MSE(e): 1.635e+00, MSE(pi1): 5.185e+00, MSE(pi2): 1.125e+00, MSE(pi3): 6.007e-01\n",
      "Epoch 480, Train loss: 1.651e+10, Test loss: 1.360e+10, MSE(e): 1.636e+00, MSE(pi1): 8.819e+00, MSE(pi2): 1.124e+00, MSE(pi3): 6.389e-01\n",
      "Epoch 490, Train loss: 1.647e+10, Test loss: 1.355e+10, MSE(e): 1.635e+00, MSE(pi1): 6.457e+00, MSE(pi2): 1.125e+00, MSE(pi3): 6.134e-01\n",
      "\n",
      "Training process finished after 500 epochs\n",
      "\n"
     ]
    }
   ],
   "source": [
    "# explanatory_layers = [100]\n",
    "\n",
    "model = PGNNIVBaseline(input_shape, predictive_layers, predictive_output, explanatory_input, explanatory_layers, explanatory_output, n_filters_explanatory).to(DEVICE)\n",
    "optimizer = torch.optim.Adam(model.parameters(), lr=3e-3)\n",
    "\n",
    "# Parametros de entrenamiento\n",
    "start_epoch = 0\n",
    "n_epochs = 100000\n",
    "\n",
    "batch_size = 64\n",
    "n_checkpoints = 3\n",
    "\n",
    "train_loop(model, optimizer, X_train, y_train, f_train, X_test, y_test, f_test,\n",
    "           D, n_checkpoints, start_epoch=start_epoch, n_epochs=n_epochs, batch_size=batch_size, \n",
    "           model_results_path=MODEL_RESULTS_TRANSFERLEARNING_PATH, device=DEVICE)"
   ]
  },
  {
   "cell_type": "code",
   "execution_count": null,
   "metadata": {},
   "outputs": [],
   "source": [
    "start_epoch = n_epochs-1\n",
    "n_epochs = 150000\n",
    "\n",
    "batch_size = 64 \n",
    "n_checkpoints = 3\n",
    "\n",
    "second_lr = 3e-4\n",
    "\n",
    "train_loop(model, optimizer, X_train, y_train, f_train, X_test, y_test, f_test,\n",
    "           D, n_checkpoints, start_epoch=start_epoch, n_epochs=n_epochs, batch_size=batch_size, \n",
    "           model_results_path=MODEL_RESULTS_TRANSFERLEARNING_PATH, device=DEVICE)"
   ]
  },
  {
   "cell_type": "code",
   "execution_count": 18,
   "metadata": {},
   "outputs": [
    {
     "data": {
      "text/plain": [
       "<matplotlib.collections.PathCollection at 0x7f2f9c4039b0>"
      ]
     },
     "execution_count": 18,
     "metadata": {},
     "output_type": "execute_result"
    },
    {
     "data": {
      "image/png": "[encoded data removed]",
      "text/plain": [
       "<Figure size 640x480 with 1 Axes>"
      ]
     },
     "metadata": {},
     "output_type": "display_data"
    }
   ],
   "source": [
    "plt.scatter(Mx(My(TensOps(model(X_train)[0], space_dimension=2, contravariance=0, covariance=0))).values.cpu().detach().numpy().flatten(), \n",
    "            model(X_train)[1].cpu().detach().numpy().flatten())\n",
    "\n",
    "plt.scatter(y_train.values.cpu().detach().numpy().flatten(), \n",
    "           K_train.values.cpu().detach().numpy().flatten())"
   ]
  },
  {
   "cell_type": "code",
   "execution_count": null,
   "metadata": {},
   "outputs": [],
   "source": []
  }
 ],
 "metadata": {
  "kernelspec": {
   "display_name": "SciML_test_env",
   "language": "python",
   "name": "python3"
  },
  "language_info": {
   "codemirror_mode": {
    "name": "ipython",
    "version": 3
   },
   "file_extension": ".py",
   "mimetype": "text/x-python",
   "name": "python",
   "nbconvert_exporter": "python",
   "pygments_lexer": "ipython3",
   "version": "3.12.4"
  }
 },
 "nbformat": 4,
 "nbformat_minor": 2
}
