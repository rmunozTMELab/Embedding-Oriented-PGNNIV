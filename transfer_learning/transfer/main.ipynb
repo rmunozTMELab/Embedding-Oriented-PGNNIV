{
 "cells": [
  {
   "cell_type": "code",
   "execution_count": 1,
   "metadata": {},
   "outputs": [],
   "source": [
    "import os \n",
    "import sys\n",
    "\n",
    "sys.path.append(os.path.abspath(os.path.join(os.getcwd(), \"../../\")))"
   ]
  },
  {
   "cell_type": "code",
   "execution_count": 2,
   "metadata": {},
   "outputs": [],
   "source": [
    "import torch\n",
    "import GPUtil\n",
    "import random\n",
    "from sklearn.model_selection import train_test_split\n",
    "import matplotlib.pyplot as plt\n",
    "from matplotlib.ticker import ScalarFormatter\n",
    "\n",
    "# Imports de la libreria propia\n",
    "from vecopsciml.kernels.derivative import DerivativeKernels\n",
    "from vecopsciml.utils import TensOps\n",
    "\n",
    "# Imports de las funciones creadas para este programa\n",
    "from utils.folders import create_folder\n",
    "from utils.load_data import load_data\n",
    "from trainers.train import train_loop\n",
    "\n",
    "from vecopsciml.operators.zero_order import Mx, My\n",
    "from utils.checkpoints import load_results\n",
    "\n",
    "from architectures.pgnniv_baseline import PGNNIVBaseline"
   ]
  },
  {
   "cell_type": "code",
   "execution_count": 3,
   "metadata": {},
   "outputs": [],
   "source": [
    "seed = 42\n",
    "random.seed(seed)\n",
    "\n",
    "torch.manual_seed(seed)\n",
    "torch.cuda.manual_seed(seed)\n",
    "torch.cuda.manual_seed_all(seed)  \n",
    "torch.backends.cudnn.deterministic = True\n",
    "torch.backends.cudnn.benchmark = False"
   ]
  },
  {
   "cell_type": "code",
   "execution_count": 4,
   "metadata": {},
   "outputs": [
    {
     "name": "stdout",
     "output_type": "stream",
     "text": [
      "Folder already exists at: /home/rmunoz/Escritorio/rmunozTMELab/Physically-Guided-Machine-Learning/results/transfer_learning\n",
      "Folder successfully created at: /home/rmunoz/Escritorio/rmunozTMELab/Physically-Guided-Machine-Learning/results/transfer_learning/transfer\n"
     ]
    }
   ],
   "source": [
    "# Creamos los paths para las distintas carpetas\n",
    "ROOT_PATH = r'/home/rmunoz/Escritorio/rmunozTMELab/Physically-Guided-Machine-Learning'\n",
    "DATA_PATH = os.path.join(ROOT_PATH, r'data/sigmoid_nonlinear/sigmoid_nonlinear.pkl')\n",
    "RESULTS_FOLDER_PATH = os.path.join(ROOT_PATH, r'results/transfer_learning')\n",
    "\n",
    "PRETRAINED_RESULTS_PATH = os.path.join(ROOT_PATH, r'results/non_linear_1000_0/baseline_model_10')\n",
    "MODEL_RESULTS_TRANSFERLEARNING_PATH = os.path.join(ROOT_PATH, r'results/transfer_learning/transfer')\n",
    "\n",
    "# Creamos las carpetas que sean necesarias (si ya están creadas se avisará de ello)\n",
    "create_folder(RESULTS_FOLDER_PATH)\n",
    "create_folder(MODEL_RESULTS_TRANSFERLEARNING_PATH)"
   ]
  },
  {
   "cell_type": "code",
   "execution_count": 5,
   "metadata": {},
   "outputs": [
    {
     "name": "stdout",
     "output_type": "stream",
     "text": [
      "Data successfully loaded from: /home/rmunoz/Escritorio/rmunozTMELab/Physically-Guided-Machine-Learning/data/sigmoid_nonlinear/sigmoid_nonlinear.pkl\n"
     ]
    }
   ],
   "source": [
    "# Load dataset\n",
    "dataset = load_data(DATA_PATH)"
   ]
  },
  {
   "cell_type": "code",
   "execution_count": 6,
   "metadata": {},
   "outputs": [],
   "source": [
    "# Convolutional filters to derivate\n",
    "dx = dataset['x_step_size']\n",
    "dy = dataset['y_step_size']\n",
    "D = DerivativeKernels(dx, dy, 0).grad_kernels_two_dimensions()"
   ]
  },
  {
   "cell_type": "code",
   "execution_count": 7,
   "metadata": {},
   "outputs": [
    {
     "name": "stdout",
     "output_type": "stream",
     "text": [
      "Using device: cuda:1\n"
     ]
    }
   ],
   "source": [
    "DEVICE = torch.device(\"cuda:1\" if torch.cuda.is_available() else \"cpu\")\n",
    "\n",
    "print(f\"Using device: {DEVICE}\")"
   ]
  },
  {
   "cell_type": "markdown",
   "metadata": {},
   "source": [
    "### División de los datos"
   ]
  },
  {
   "cell_type": "code",
   "execution_count": 8,
   "metadata": {},
   "outputs": [
    {
     "name": "stdout",
     "output_type": "stream",
     "text": [
      "Train dataset length: 800\n",
      "Validation dataset length: 200\n"
     ]
    }
   ],
   "source": [
    "X_train = torch.Tensor(dataset['X_train']).unsqueeze(1)\n",
    "y_train = torch.Tensor(dataset['y_train']).unsqueeze(1)\n",
    "K_train = torch.tensor(dataset['k_train']).unsqueeze(1)\n",
    "f_train = torch.tensor(dataset['f_train']).unsqueeze(1).to(torch.float32)\n",
    "\n",
    "X_val = torch.Tensor(dataset['X_val']).unsqueeze(1)\n",
    "y_val = TensOps(torch.Tensor(dataset['y_val']).unsqueeze(1).requires_grad_(True), space_dimension=2, contravariance=0, covariance=0)\n",
    "K_val = TensOps(torch.tensor(dataset['k_val']).unsqueeze(1).requires_grad_(True), space_dimension=2, contravariance=0, covariance=0)\n",
    "f_val = TensOps(torch.tensor(dataset['f_val']).to(torch.float32).unsqueeze(1).requires_grad_(True), space_dimension=2, contravariance=0, covariance=0)\n",
    "\n",
    "print(\"Train dataset length:\", len(X_train))\n",
    "print(\"Validation dataset length:\", len(X_val))"
   ]
  },
  {
   "cell_type": "code",
   "execution_count": 9,
   "metadata": {},
   "outputs": [],
   "source": [
    "X_train, X_test, y_train, y_test, K_train, K_test, f_train, f_test = train_test_split(X_train, y_train, K_train, f_train, test_size=0.2, random_state=42)\n",
    "\n",
    "X_train = X_train.to(DEVICE)\n",
    "X_test = X_test.to(DEVICE)\n",
    "\n",
    "y_train = TensOps(y_train.requires_grad_(True).to(DEVICE), space_dimension=2, contravariance=0, covariance=0)\n",
    "y_test = TensOps(y_test.requires_grad_(True).to(DEVICE), space_dimension=2, contravariance=0, covariance=0)\n",
    "\n",
    "K_train = TensOps(K_train.to(DEVICE), space_dimension=2, contravariance=0, covariance=0)\n",
    "K_test = TensOps(K_test.to(DEVICE), space_dimension=2, contravariance=0, covariance=0)\n",
    "\n",
    "f_train = TensOps(f_train.to(DEVICE), space_dimension=2, contravariance=0, covariance=0)\n",
    "f_test = TensOps(f_test.to(DEVICE), space_dimension=2, contravariance=0, covariance=0)"
   ]
  },
  {
   "cell_type": "code",
   "execution_count": 10,
   "metadata": {},
   "outputs": [],
   "source": [
    "# Other parameters\n",
    "n_filters_explanatory = 5\n",
    "n_modes = 10\n",
    "\n",
    "# Predictive network architecture\n",
    "input_shape = X_train[0].shape\n",
    "predictive_layers = [20, 10, n_modes, 10, 20]\n",
    "predictive_output = y_train.values[0].shape\n",
    "\n",
    "# Explanatory network architecture\n",
    "explanatory_input = Mx(My(y_train)).values[0].shape\n",
    "explanatory_layers = [10]\n",
    "explanatory_output = Mx(My(f_train)).values[0].shape"
   ]
  },
  {
   "cell_type": "code",
   "execution_count": 11,
   "metadata": {},
   "outputs": [],
   "source": [
    "# pretrained_autoencoder = PretrainedAutoencoder(autoencoder_input_shape, latent_space_dim, autoencoder_output_shape).to(DEVICE)\n",
    "pretrained_pgnniv = PGNNIVBaseline(input_shape, predictive_layers, predictive_output, explanatory_input, explanatory_layers, explanatory_output, n_filters_explanatory).to(DEVICE)\n",
    "optimizer = torch.optim.Adam(pretrained_pgnniv.parameters(), lr=1e-4)\n",
    "pretrained_pgnniv, optimizer, lists = load_results(pretrained_pgnniv, optimizer, PRETRAINED_RESULTS_PATH, map_location=torch.device('cpu'))"
   ]
  },
  {
   "cell_type": "code",
   "execution_count": 12,
   "metadata": {},
   "outputs": [
    {
     "data": {
      "text/plain": [
       "<matplotlib.collections.PathCollection at 0x7f4ca5f6edb0>"
      ]
     },
     "execution_count": 12,
     "metadata": {},
     "output_type": "execute_result"
    },
    {
     "data": {
      "image/png": "[encoded data removed]",
      "text/plain": [
       "<Figure size 640x480 with 1 Axes>"
      ]
     },
     "metadata": {},
     "output_type": "display_data"
    }
   ],
   "source": [
    "plt.scatter(Mx(My(TensOps(pretrained_pgnniv(X_train)[0], space_dimension=2, contravariance=0, covariance=0))).values.cpu().detach().numpy().flatten(), \n",
    "            pretrained_pgnniv(X_train)[1].cpu().detach().numpy().flatten())\n",
    "\n",
    "plt.scatter(y_train.values.cpu().detach().numpy().flatten(), \n",
    "           K_train.values.cpu().detach().numpy().flatten())"
   ]
  },
  {
   "cell_type": "code",
   "execution_count": 13,
   "metadata": {},
   "outputs": [],
   "source": [
    "pgnniv_pretrained_encoder = pretrained_pgnniv.encoder\n",
    "pgnniv_pretrained_decoder = pretrained_pgnniv.decoder\n",
    "pgnniv_pretrained_exp = pretrained_pgnniv.explanatory\n",
    "\n",
    "for param in pgnniv_pretrained_encoder.parameters():\n",
    "    param.requires_grad = False\n",
    "\n",
    "for param in pgnniv_pretrained_decoder.parameters():\n",
    "    param.requires_grad = True\n",
    "\n",
    "for param in pgnniv_pretrained_exp.parameters():\n",
    "    param.requires_grad = True"
   ]
  },
  {
   "cell_type": "code",
   "execution_count": 14,
   "metadata": {},
   "outputs": [
    {
     "name": "stdout",
     "output_type": "stream",
     "text": [
      "Starting training from scratch.\n",
      "Epoch 0, Train loss: 2.863e+08, Test loss: 2.682e+08, MSE(e): 2.858e+01, MSE(pi1): 2.537e+01, MSE(pi2): 1.317e+01, MSE(pi3): 2.436e+00\n",
      "Epoch 100, Train loss: 1.808e+07, Test loss: 2.102e+07, MSE(e): 1.802e+00, MSE(pi1): 2.072e+00, MSE(pi2): 9.478e-01, MSE(pi3): 3.676e-01\n",
      "Epoch 200, Train loss: 1.498e+07, Test loss: 1.645e+07, MSE(e): 1.493e+00, MSE(pi1): 1.837e+00, MSE(pi2): 7.855e-01, MSE(pi3): 3.304e-01\n",
      "Epoch 300, Train loss: 1.350e+07, Test loss: 1.475e+07, MSE(e): 1.345e+00, MSE(pi1): 2.424e+00, MSE(pi2): 7.136e-01, MSE(pi3): 3.091e-01\n",
      "Epoch 400, Train loss: 1.180e+07, Test loss: 1.343e+07, MSE(e): 1.175e+00, MSE(pi1): 1.963e+00, MSE(pi2): 6.306e-01, MSE(pi3): 2.812e-01\n",
      "Epoch 500, Train loss: 1.027e+07, Test loss: 1.208e+07, MSE(e): 1.023e+00, MSE(pi1): 2.276e+00, MSE(pi2): 5.526e-01, MSE(pi3): 2.448e-01\n",
      "Epoch 600, Train loss: 9.230e+06, Test loss: 1.110e+07, MSE(e): 9.187e-01, MSE(pi1): 2.221e+00, MSE(pi2): 4.957e-01, MSE(pi3): 2.068e-01\n",
      "Epoch 700, Train loss: 8.552e+06, Test loss: 1.039e+07, MSE(e): 8.510e-01, MSE(pi1): 2.357e+00, MSE(pi2): 4.578e-01, MSE(pi3): 1.855e-01\n",
      "Epoch 800, Train loss: 8.133e+06, Test loss: 9.880e+06, MSE(e): 8.091e-01, MSE(pi1): 2.424e+00, MSE(pi2): 4.349e-01, MSE(pi3): 1.731e-01\n",
      "Epoch 900, Train loss: 7.783e+06, Test loss: 9.390e+06, MSE(e): 7.740e-01, MSE(pi1): 2.553e+00, MSE(pi2): 4.156e-01, MSE(pi3): 1.659e-01\n",
      "Epoch 1000, Train loss: 7.461e+06, Test loss: 9.036e+06, MSE(e): 7.422e-01, MSE(pi1): 2.359e+00, MSE(pi2): 3.978e-01, MSE(pi3): 1.565e-01\n",
      "Epoch 1100, Train loss: 7.199e+06, Test loss: 8.804e+06, MSE(e): 7.158e-01, MSE(pi1): 2.470e+00, MSE(pi2): 3.834e-01, MSE(pi3): 1.511e-01\n",
      "Epoch 1200, Train loss: 6.965e+06, Test loss: 8.633e+06, MSE(e): 6.926e-01, MSE(pi1): 2.491e+00, MSE(pi2): 3.707e-01, MSE(pi3): 1.461e-01\n",
      "Epoch 1300, Train loss: 6.753e+06, Test loss: 8.499e+06, MSE(e): 6.715e-01, MSE(pi1): 2.380e+00, MSE(pi2): 3.591e-01, MSE(pi3): 1.405e-01\n",
      "Epoch 1400, Train loss: 6.564e+06, Test loss: 8.370e+06, MSE(e): 6.525e-01, MSE(pi1): 2.462e+00, MSE(pi2): 3.486e-01, MSE(pi3): 1.370e-01\n",
      "Epoch 1500, Train loss: 6.396e+06, Test loss: 8.238e+06, MSE(e): 6.357e-01, MSE(pi1): 2.537e+00, MSE(pi2): 3.393e-01, MSE(pi3): 1.341e-01\n",
      "Epoch 1600, Train loss: 6.243e+06, Test loss: 8.106e+06, MSE(e): 6.206e-01, MSE(pi1): 2.386e+00, MSE(pi2): 3.310e-01, MSE(pi3): 1.292e-01\n",
      "Epoch 1700, Train loss: 6.101e+06, Test loss: 7.982e+06, MSE(e): 6.065e-01, MSE(pi1): 2.346e+00, MSE(pi2): 3.232e-01, MSE(pi3): 1.257e-01\n",
      "Epoch 1800, Train loss: 5.972e+06, Test loss: 7.864e+06, MSE(e): 5.936e-01, MSE(pi1): 2.326e+00, MSE(pi2): 3.161e-01, MSE(pi3): 1.228e-01\n",
      "Epoch 1900, Train loss: 5.854e+06, Test loss: 7.747e+06, MSE(e): 5.819e-01, MSE(pi1): 2.295e+00, MSE(pi2): 3.097e-01, MSE(pi3): 1.201e-01\n",
      "Epoch 2000, Train loss: 5.748e+06, Test loss: 7.626e+06, MSE(e): 5.713e-01, MSE(pi1): 2.250e+00, MSE(pi2): 3.039e-01, MSE(pi3): 1.179e-01\n",
      "Epoch 2100, Train loss: 5.652e+06, Test loss: 7.503e+06, MSE(e): 5.618e-01, MSE(pi1): 2.223e+00, MSE(pi2): 2.987e-01, MSE(pi3): 1.160e-01\n",
      "Epoch 2200, Train loss: 5.567e+06, Test loss: 7.378e+06, MSE(e): 5.533e-01, MSE(pi1): 2.216e+00, MSE(pi2): 2.941e-01, MSE(pi3): 1.147e-01\n",
      "Epoch 2300, Train loss: 5.491e+06, Test loss: 7.255e+06, MSE(e): 5.457e-01, MSE(pi1): 2.220e+00, MSE(pi2): 2.899e-01, MSE(pi3): 1.136e-01\n",
      "Epoch 2400, Train loss: 5.421e+06, Test loss: 7.135e+06, MSE(e): 5.387e-01, MSE(pi1): 2.201e+00, MSE(pi2): 2.862e-01, MSE(pi3): 1.127e-01\n",
      "Epoch 2500, Train loss: 5.356e+06, Test loss: 7.018e+06, MSE(e): 5.323e-01, MSE(pi1): 2.181e+00, MSE(pi2): 2.827e-01, MSE(pi3): 1.118e-01\n",
      "Epoch 2600, Train loss: 5.295e+06, Test loss: 6.904e+06, MSE(e): 5.262e-01, MSE(pi1): 2.180e+00, MSE(pi2): 2.794e-01, MSE(pi3): 1.111e-01\n",
      "Epoch 2700, Train loss: 5.235e+06, Test loss: 6.790e+06, MSE(e): 5.202e-01, MSE(pi1): 2.195e+00, MSE(pi2): 2.761e-01, MSE(pi3): 1.107e-01\n",
      "Epoch 2800, Train loss: 5.178e+06, Test loss: 6.681e+06, MSE(e): 5.145e-01, MSE(pi1): 2.220e+00, MSE(pi2): 2.730e-01, MSE(pi3): 1.104e-01\n",
      "Epoch 2900, Train loss: 5.125e+06, Test loss: 6.587e+06, MSE(e): 5.092e-01, MSE(pi1): 2.203e+00, MSE(pi2): 2.701e-01, MSE(pi3): 1.098e-01\n",
      "Epoch 3000, Train loss: 5.075e+06, Test loss: 6.496e+06, MSE(e): 5.041e-01, MSE(pi1): 2.288e+00, MSE(pi2): 2.673e-01, MSE(pi3): 1.105e-01\n",
      "Epoch 3100, Train loss: 5.027e+06, Test loss: 6.413e+06, MSE(e): 4.994e-01, MSE(pi1): 2.165e+00, MSE(pi2): 2.648e-01, MSE(pi3): 1.087e-01\n",
      "Epoch 3200, Train loss: 4.981e+06, Test loss: 6.330e+06, MSE(e): 4.947e-01, MSE(pi1): 2.261e+00, MSE(pi2): 2.622e-01, MSE(pi3): 1.091e-01\n",
      "Epoch 3300, Train loss: 4.936e+06, Test loss: 6.258e+06, MSE(e): 4.904e-01, MSE(pi1): 2.155e+00, MSE(pi2): 2.598e-01, MSE(pi3): 1.071e-01\n",
      "Epoch 3400, Train loss: 4.891e+06, Test loss: 6.185e+06, MSE(e): 4.860e-01, MSE(pi1): 2.104e+00, MSE(pi2): 2.574e-01, MSE(pi3): 1.056e-01\n",
      "Epoch 3500, Train loss: 4.847e+06, Test loss: 6.109e+06, MSE(e): 4.812e-01, MSE(pi1): 2.340e+00, MSE(pi2): 2.548e-01, MSE(pi3): 1.070e-01\n",
      "Epoch 3600, Train loss: 4.807e+06, Test loss: 6.067e+06, MSE(e): 4.776e-01, MSE(pi1): 1.968e+00, MSE(pi2): 2.528e-01, MSE(pi3): 1.032e-01\n",
      "Epoch 3700, Train loss: 4.767e+06, Test loss: 6.008e+06, MSE(e): 4.737e-01, MSE(pi1): 1.976e+00, MSE(pi2): 2.506e-01, MSE(pi3): 1.029e-01\n",
      "Epoch 3800, Train loss: 4.727e+06, Test loss: 5.938e+06, MSE(e): 4.693e-01, MSE(pi1): 2.328e+00, MSE(pi2): 2.482e-01, MSE(pi3): 1.064e-01\n",
      "Epoch 3900, Train loss: 4.685e+06, Test loss: 5.885e+06, MSE(e): 4.652e-01, MSE(pi1): 2.167e+00, MSE(pi2): 2.459e-01, MSE(pi3): 1.037e-01\n",
      "Epoch 4000, Train loss: 4.644e+06, Test loss: 5.834e+06, MSE(e): 4.611e-01, MSE(pi1): 2.179e+00, MSE(pi2): 2.437e-01, MSE(pi3): 1.029e-01\n",
      "Epoch 4100, Train loss: 4.605e+06, Test loss: 5.803e+06, MSE(e): 4.578e-01, MSE(pi1): 1.662e+00, MSE(pi2): 2.418e-01, MSE(pi3): 9.778e-02\n",
      "Epoch 4200, Train loss: 4.572e+06, Test loss: 5.768e+06, MSE(e): 4.544e-01, MSE(pi1): 1.760e+00, MSE(pi2): 2.399e-01, MSE(pi3): 9.836e-02\n",
      "Epoch 4300, Train loss: 4.530e+06, Test loss: 5.707e+06, MSE(e): 4.501e-01, MSE(pi1): 1.860e+00, MSE(pi2): 2.376e-01, MSE(pi3): 9.838e-02\n",
      "Epoch 4400, Train loss: 4.493e+06, Test loss: 5.678e+06, MSE(e): 4.468e-01, MSE(pi1): 1.511e+00, MSE(pi2): 2.357e-01, MSE(pi3): 9.525e-02\n",
      "Epoch 4500, Train loss: 4.459e+06, Test loss: 5.638e+06, MSE(e): 4.431e-01, MSE(pi1): 1.795e+00, MSE(pi2): 2.336e-01, MSE(pi3): 9.679e-02\n",
      "Epoch 4600, Train loss: 4.418e+06, Test loss: 5.587e+06, MSE(e): 4.393e-01, MSE(pi1): 1.550e+00, MSE(pi2): 2.316e-01, MSE(pi3): 9.443e-02\n",
      "Epoch 4700, Train loss: 4.381e+06, Test loss: 5.540e+06, MSE(e): 4.357e-01, MSE(pi1): 1.431e+00, MSE(pi2): 2.296e-01, MSE(pi3): 9.254e-02\n",
      "Epoch 4800, Train loss: 4.346e+06, Test loss: 5.496e+06, MSE(e): 4.323e-01, MSE(pi1): 1.438e+00, MSE(pi2): 2.276e-01, MSE(pi3): 9.157e-02\n",
      "Epoch 4900, Train loss: 4.315e+06, Test loss: 5.459e+06, MSE(e): 4.291e-01, MSE(pi1): 1.483e+00, MSE(pi2): 2.258e-01, MSE(pi3): 9.107e-02\n",
      "Epoch 5000, Train loss: 4.286e+06, Test loss: 5.431e+06, MSE(e): 4.261e-01, MSE(pi1): 1.608e+00, MSE(pi2): 2.242e-01, MSE(pi3): 9.155e-02\n",
      "Epoch 5100, Train loss: 4.260e+06, Test loss: 5.408e+06, MSE(e): 4.234e-01, MSE(pi1): 1.592e+00, MSE(pi2): 2.227e-01, MSE(pi3): 9.102e-02\n",
      "Epoch 5200, Train loss: 4.233e+06, Test loss: 5.385e+06, MSE(e): 4.209e-01, MSE(pi1): 1.528e+00, MSE(pi2): 2.213e-01, MSE(pi3): 9.074e-02\n",
      "Epoch 5300, Train loss: 4.208e+06, Test loss: 5.366e+06, MSE(e): 4.185e-01, MSE(pi1): 1.429e+00, MSE(pi2): 2.199e-01, MSE(pi3): 8.916e-02\n",
      "Epoch 5400, Train loss: 4.188e+06, Test loss: 5.358e+06, MSE(e): 4.163e-01, MSE(pi1): 1.589e+00, MSE(pi2): 2.187e-01, MSE(pi3): 8.965e-02\n",
      "Epoch 5500, Train loss: 4.168e+06, Test loss: 5.342e+06, MSE(e): 4.141e-01, MSE(pi1): 1.768e+00, MSE(pi2): 2.175e-01, MSE(pi3): 9.069e-02\n",
      "Epoch 5600, Train loss: 4.144e+06, Test loss: 5.331e+06, MSE(e): 4.120e-01, MSE(pi1): 1.461e+00, MSE(pi2): 2.164e-01, MSE(pi3): 8.819e-02\n",
      "Epoch 5700, Train loss: 4.122e+06, Test loss: 5.311e+06, MSE(e): 4.099e-01, MSE(pi1): 1.423e+00, MSE(pi2): 2.153e-01, MSE(pi3): 8.849e-02\n",
      "Epoch 5800, Train loss: 4.098e+06, Test loss: 5.288e+06, MSE(e): 4.076e-01, MSE(pi1): 1.289e+00, MSE(pi2): 2.140e-01, MSE(pi3): 8.686e-02\n",
      "Epoch 5900, Train loss: 4.076e+06, Test loss: 5.265e+06, MSE(e): 4.054e-01, MSE(pi1): 1.282e+00, MSE(pi2): 2.128e-01, MSE(pi3): 8.629e-02\n",
      "Epoch 6000, Train loss: 4.054e+06, Test loss: 5.244e+06, MSE(e): 4.033e-01, MSE(pi1): 1.280e+00, MSE(pi2): 2.116e-01, MSE(pi3): 8.573e-02\n",
      "Epoch 6100, Train loss: 4.035e+06, Test loss: 5.226e+06, MSE(e): 4.013e-01, MSE(pi1): 1.344e+00, MSE(pi2): 2.106e-01, MSE(pi3): 8.547e-02\n",
      "Epoch 6200, Train loss: 4.020e+06, Test loss: 5.217e+06, MSE(e): 3.995e-01, MSE(pi1): 1.578e+00, MSE(pi2): 2.096e-01, MSE(pi3): 8.643e-02\n",
      "Epoch 6300, Train loss: 4.004e+06, Test loss: 5.205e+06, MSE(e): 3.978e-01, MSE(pi1): 1.710e+00, MSE(pi2): 2.088e-01, MSE(pi3): 8.824e-02\n",
      "Epoch 6400, Train loss: 3.981e+06, Test loss: 5.179e+06, MSE(e): 3.961e-01, MSE(pi1): 1.140e+00, MSE(pi2): 2.078e-01, MSE(pi3): 8.410e-02\n",
      "Epoch 6500, Train loss: 3.965e+06, Test loss: 5.166e+06, MSE(e): 3.945e-01, MSE(pi1): 1.187e+00, MSE(pi2): 2.068e-01, MSE(pi3): 8.386e-02\n",
      "Epoch 6600, Train loss: 3.953e+06, Test loss: 5.159e+06, MSE(e): 3.932e-01, MSE(pi1): 1.310e+00, MSE(pi2): 2.061e-01, MSE(pi3): 8.451e-02\n",
      "Epoch 6700, Train loss: 3.949e+06, Test loss: 5.162e+06, MSE(e): 3.926e-01, MSE(pi1): 1.357e+00, MSE(pi2): 2.057e-01, MSE(pi3): 8.448e-02\n",
      "Epoch 6800, Train loss: 3.974e+06, Test loss: 5.253e+06, MSE(e): 3.936e-01, MSE(pi1): 2.763e+00, MSE(pi2): 2.064e-01, MSE(pi3): 1.014e-01\n",
      "Epoch 6900, Train loss: 3.946e+06, Test loss: 5.268e+06, MSE(e): 3.918e-01, MSE(pi1): 1.951e+00, MSE(pi2): 2.057e-01, MSE(pi3): 9.088e-02\n",
      "Epoch 7000, Train loss: 3.893e+06, Test loss: 5.170e+06, MSE(e): 3.870e-01, MSE(pi1): 1.418e+00, MSE(pi2): 2.036e-01, MSE(pi3): 8.599e-02\n",
      "Epoch 7100, Train loss: 3.860e+06, Test loss: 5.103e+06, MSE(e): 3.840e-01, MSE(pi1): 1.124e+00, MSE(pi2): 2.020e-01, MSE(pi3): 8.308e-02\n",
      "Epoch 7200, Train loss: 3.842e+06, Test loss: 5.073e+06, MSE(e): 3.823e-01, MSE(pi1): 1.078e+00, MSE(pi2): 2.010e-01, MSE(pi3): 8.201e-02\n",
      "Epoch 7300, Train loss: 3.824e+06, Test loss: 5.056e+06, MSE(e): 3.805e-01, MSE(pi1): 1.112e+00, MSE(pi2): 2.000e-01, MSE(pi3): 8.150e-02\n",
      "Epoch 7400, Train loss: 3.808e+06, Test loss: 5.043e+06, MSE(e): 3.787e-01, MSE(pi1): 1.243e+00, MSE(pi2): 1.990e-01, MSE(pi3): 8.158e-02\n",
      "Epoch 7500, Train loss: 3.794e+06, Test loss: 5.030e+06, MSE(e): 3.774e-01, MSE(pi1): 1.163e+00, MSE(pi2): 1.982e-01, MSE(pi3): 8.126e-02\n",
      "Epoch 7600, Train loss: 3.777e+06, Test loss: 5.018e+06, MSE(e): 3.758e-01, MSE(pi1): 1.091e+00, MSE(pi2): 1.973e-01, MSE(pi3): 8.045e-02\n",
      "Epoch 7700, Train loss: 3.764e+06, Test loss: 5.009e+06, MSE(e): 3.744e-01, MSE(pi1): 1.188e+00, MSE(pi2): 1.965e-01, MSE(pi3): 8.028e-02\n",
      "Epoch 7800, Train loss: 3.752e+06, Test loss: 4.999e+06, MSE(e): 3.732e-01, MSE(pi1): 1.195e+00, MSE(pi2): 1.957e-01, MSE(pi3): 8.004e-02\n",
      "Epoch 7900, Train loss: 3.742e+06, Test loss: 4.997e+06, MSE(e): 3.718e-01, MSE(pi1): 1.517e+00, MSE(pi2): 1.950e-01, MSE(pi3): 8.209e-02\n",
      "Epoch 8000, Train loss: 3.732e+06, Test loss: 4.989e+06, MSE(e): 3.709e-01, MSE(pi1): 1.475e+00, MSE(pi2): 1.944e-01, MSE(pi3): 8.127e-02\n",
      "Epoch 8100, Train loss: 3.726e+06, Test loss: 4.985e+06, MSE(e): 3.703e-01, MSE(pi1): 1.531e+00, MSE(pi2): 1.939e-01, MSE(pi3): 8.145e-02\n",
      "Epoch 8200, Train loss: 3.734e+06, Test loss: 4.988e+06, MSE(e): 3.707e-01, MSE(pi1): 1.843e+00, MSE(pi2): 1.940e-01, MSE(pi3): 8.464e-02\n",
      "Epoch 8300, Train loss: 3.899e+06, Test loss: 5.271e+06, MSE(e): 3.866e-01, MSE(pi1): 2.347e+00, MSE(pi2): 2.014e-01, MSE(pi3): 9.489e-02\n",
      "Epoch 8400, Train loss: 3.710e+06, Test loss: 5.060e+06, MSE(e): 3.689e-01, MSE(pi1): 1.281e+00, MSE(pi2): 1.940e-01, MSE(pi3): 8.230e-02\n",
      "Epoch 8500, Train loss: 3.680e+06, Test loss: 5.014e+06, MSE(e): 3.659e-01, MSE(pi1): 1.274e+00, MSE(pi2): 1.921e-01, MSE(pi3): 8.041e-02\n",
      "Epoch 8600, Train loss: 3.665e+06, Test loss: 4.988e+06, MSE(e): 3.644e-01, MSE(pi1): 1.289e+00, MSE(pi2): 1.910e-01, MSE(pi3): 7.934e-02\n",
      "Epoch 8700, Train loss: 3.653e+06, Test loss: 4.975e+06, MSE(e): 3.630e-01, MSE(pi1): 1.435e+00, MSE(pi2): 1.901e-01, MSE(pi3): 7.951e-02\n",
      "Epoch 8800, Train loss: 3.644e+06, Test loss: 4.965e+06, MSE(e): 3.620e-01, MSE(pi1): 1.508e+00, MSE(pi2): 1.895e-01, MSE(pi3): 7.989e-02\n",
      "Epoch 8900, Train loss: 3.653e+06, Test loss: 4.985e+06, MSE(e): 3.621e-01, MSE(pi1): 2.292e+00, MSE(pi2): 1.892e-01, MSE(pi3): 8.853e-02\n",
      "Epoch 9000, Train loss: 3.829e+06, Test loss: 5.319e+06, MSE(e): 3.801e-01, MSE(pi1): 1.887e+00, MSE(pi2): 1.979e-01, MSE(pi3): 8.893e-02\n",
      "Epoch 9100, Train loss: 3.632e+06, Test loss: 5.045e+06, MSE(e): 3.609e-01, MSE(pi1): 1.458e+00, MSE(pi2): 1.896e-01, MSE(pi3): 8.276e-02\n",
      "Epoch 9200, Train loss: 3.602e+06, Test loss: 5.006e+06, MSE(e): 3.582e-01, MSE(pi1): 1.157e+00, MSE(pi2): 1.877e-01, MSE(pi3): 7.824e-02\n",
      "Epoch 9300, Train loss: 3.592e+06, Test loss: 4.983e+06, MSE(e): 3.572e-01, MSE(pi1): 1.193e+00, MSE(pi2): 1.867e-01, MSE(pi3): 7.724e-02\n",
      "Epoch 9400, Train loss: 3.607e+06, Test loss: 5.003e+06, MSE(e): 3.580e-01, MSE(pi1): 1.817e+00, MSE(pi2): 1.868e-01, MSE(pi3): 8.249e-02\n",
      "Epoch 9500, Train loss: 3.691e+06, Test loss: 5.263e+06, MSE(e): 3.655e-01, MSE(pi1): 2.532e+00, MSE(pi2): 1.914e-01, MSE(pi3): 9.743e-02\n",
      "Epoch 9600, Train loss: 3.569e+06, Test loss: 5.041e+06, MSE(e): 3.546e-01, MSE(pi1): 1.507e+00, MSE(pi2): 1.860e-01, MSE(pi3): 8.154e-02\n",
      "Epoch 9700, Train loss: 3.541e+06, Test loss: 4.992e+06, MSE(e): 3.521e-01, MSE(pi1): 1.202e+00, MSE(pi2): 1.843e-01, MSE(pi3): 7.681e-02\n",
      "Epoch 9800, Train loss: 3.532e+06, Test loss: 4.970e+06, MSE(e): 3.511e-01, MSE(pi1): 1.349e+00, MSE(pi2): 1.833e-01, MSE(pi3): 7.660e-02\n",
      "Epoch 9900, Train loss: 3.553e+06, Test loss: 4.990e+06, MSE(e): 3.523e-01, MSE(pi1): 2.172e+00, MSE(pi2): 1.836e-01, MSE(pi3): 8.517e-02\n",
      "\n",
      "Training process finished after 10000 epochs\n",
      "\n"
     ]
    }
   ],
   "source": [
    "# model = PGNNIVBaseline(input_shape, predictive_layers, predictive_output, explanatory_input, explanatory_layers, explanatory_output, n_filters_explanatory).to(DEVICE)\n",
    "params_to_update = filter(lambda p: p.requires_grad, pretrained_pgnniv.parameters())\n",
    "optimizer = torch.optim.Adam(params_to_update, lr=3e-3)\n",
    "\n",
    "# Parametros de entrenamiento\n",
    "start_epoch = 0\n",
    "n_epochs = 10000\n",
    "\n",
    "batch_size = 64\n",
    "n_checkpoints = 5\n",
    "\n",
    "train_loop(pretrained_pgnniv, optimizer, X_train, y_train, f_train, X_test, y_test, f_test,\n",
    "           D, n_checkpoints, start_epoch=start_epoch, n_epochs=n_epochs, batch_size=batch_size, \n",
    "           model_results_path=MODEL_RESULTS_TRANSFERLEARNING_PATH, device=DEVICE)"
   ]
  },
  {
   "cell_type": "code",
   "execution_count": 15,
   "metadata": {},
   "outputs": [],
   "source": [
    "# start_epoch = n_epochs-1\n",
    "# n_epochs = 20000\n",
    "\n",
    "# batch_size = 64 \n",
    "# n_checkpoints = 5\n",
    "\n",
    "# second_lr = 3e-4\n",
    "\n",
    "# train_loop(pretrained_pgnniv, optimizer, X_train, y_train, f_train, X_test, y_test, f_test,\n",
    "#            D, n_checkpoints, start_epoch=start_epoch, n_epochs=n_epochs, batch_size=batch_size, \n",
    "#            model_results_path=MODEL_RESULTS_TRANSFERLEARNING_PATH, device=DEVICE)"
   ]
  },
  {
   "cell_type": "code",
   "execution_count": 16,
   "metadata": {},
   "outputs": [
    {
     "data": {
      "text/plain": [
       "<matplotlib.collections.PathCollection at 0x7f4cad11e4e0>"
      ]
     },
     "execution_count": 16,
     "metadata": {},
     "output_type": "execute_result"
    },
    {
     "data": {
      "image/png": "[encoded data removed]",
      "text/plain": [
       "<Figure size 640x480 with 1 Axes>"
      ]
     },
     "metadata": {},
     "output_type": "display_data"
    }
   ],
   "source": [
    "plt.scatter(Mx(My(TensOps(pretrained_pgnniv(X_train)[0], space_dimension=2, contravariance=0, covariance=0))).values.cpu().detach().numpy().flatten(), \n",
    "            pretrained_pgnniv(X_train)[1].cpu().detach().numpy().flatten())\n",
    "\n",
    "plt.scatter(y_train.values.cpu().detach().numpy().flatten(), \n",
    "           K_train.values.cpu().detach().numpy().flatten())"
   ]
  },
  {
   "cell_type": "code",
   "execution_count": null,
   "metadata": {},
   "outputs": [],
   "source": []
  }
 ],
 "metadata": {
  "kernelspec": {
   "display_name": "SciML_test_env",
   "language": "python",
   "name": "python3"
  },
  "language_info": {
   "codemirror_mode": {
    "name": "ipython",
    "version": 3
   },
   "file_extension": ".py",
   "mimetype": "text/x-python",
   "name": "python",
   "nbconvert_exporter": "python",
   "pygments_lexer": "ipython3",
   "version": "3.12.4"
  }
 },
 "nbformat": 4,
 "nbformat_minor": 2
}
