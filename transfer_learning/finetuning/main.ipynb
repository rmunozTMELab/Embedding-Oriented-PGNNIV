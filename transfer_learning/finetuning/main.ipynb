{
 "cells": [
  {
   "cell_type": "code",
   "execution_count": 1,
   "metadata": {},
   "outputs": [],
   "source": [
    "import os \n",
    "import sys\n",
    "\n",
    "sys.path.append(os.path.abspath(os.path.join(os.getcwd(), \"../../\")))"
   ]
  },
  {
   "cell_type": "code",
   "execution_count": 2,
   "metadata": {},
   "outputs": [],
   "source": [
    "import torch\n",
    "import GPUtil\n",
    "import random\n",
    "from sklearn.model_selection import train_test_split\n",
    "import matplotlib.pyplot as plt\n",
    "\n",
    "# Imports de la libreria propia\n",
    "from vecopsciml.kernels.derivative import DerivativeKernels\n",
    "from vecopsciml.utils import TensOps\n",
    "\n",
    "# Imports de las funciones creadas para este programa\n",
    "from utils.folders import create_folder\n",
    "from utils.load_data import load_data\n",
    "from trainers.train import train_loop\n",
    "\n",
    "from vecopsciml.operators.zero_order import Mx, My\n",
    "from utils.checkpoints import load_results\n",
    "\n",
    "from architectures.pgnniv_baseline import PGNNIVBaseline"
   ]
  },
  {
   "cell_type": "code",
   "execution_count": 3,
   "metadata": {},
   "outputs": [],
   "source": [
    "seed = 42\n",
    "random.seed(seed)\n",
    "\n",
    "torch.manual_seed(seed)\n",
    "torch.cuda.manual_seed(seed)\n",
    "torch.cuda.manual_seed_all(seed)  \n",
    "torch.backends.cudnn.deterministic = True\n",
    "torch.backends.cudnn.benchmark = False"
   ]
  },
  {
   "cell_type": "code",
   "execution_count": 4,
   "metadata": {},
   "outputs": [
    {
     "name": "stdout",
     "output_type": "stream",
     "text": [
      "Folder already exists at: /home/rmunoz/Escritorio/rmunozTMELab/Physically-Guided-Machine-Learning/results/transfer_learning\n",
      "Folder successfully created at: /home/rmunoz/Escritorio/rmunozTMELab/Physically-Guided-Machine-Learning/results/transfer_learning/finetuning\n"
     ]
    }
   ],
   "source": [
    "# Creamos los paths para las distintas carpetas\n",
    "ROOT_PATH = r'/home/rmunoz/Escritorio/rmunozTMELab/Physically-Guided-Machine-Learning'\n",
    "DATA_PATH = os.path.join(ROOT_PATH, r'data/sigmoid_nonlinear/sigmoid_nonlinear.pkl')\n",
    "RESULTS_FOLDER_PATH = os.path.join(ROOT_PATH, r'results/transfer_learning')\n",
    "\n",
    "PRETRAINED_RESULTS_PATH = os.path.join(ROOT_PATH, r'results/non_linear_1000_0/baseline_model_10')\n",
    "MODEL_RESULTS_TRANSFERLEARNING_PATH = os.path.join(ROOT_PATH, r'results/transfer_learning/finetuning')\n",
    "\n",
    "# Creamos las carpetas que sean necesarias (si ya están creadas se avisará de ello)\n",
    "create_folder(RESULTS_FOLDER_PATH)\n",
    "create_folder(MODEL_RESULTS_TRANSFERLEARNING_PATH)"
   ]
  },
  {
   "cell_type": "code",
   "execution_count": 5,
   "metadata": {},
   "outputs": [
    {
     "name": "stdout",
     "output_type": "stream",
     "text": [
      "Data successfully loaded from: /home/rmunoz/Escritorio/rmunozTMELab/Physically-Guided-Machine-Learning/data/sigmoid_nonlinear/sigmoid_nonlinear.pkl\n"
     ]
    }
   ],
   "source": [
    "# Load dataset\n",
    "dataset = load_data(DATA_PATH)"
   ]
  },
  {
   "cell_type": "code",
   "execution_count": 6,
   "metadata": {},
   "outputs": [],
   "source": [
    "# Convolutional filters to derivate\n",
    "dx = dataset['x_step_size']\n",
    "dy = dataset['y_step_size']\n",
    "D = DerivativeKernels(dx, dy, 0).grad_kernels_two_dimensions()"
   ]
  },
  {
   "cell_type": "code",
   "execution_count": 7,
   "metadata": {},
   "outputs": [
    {
     "name": "stdout",
     "output_type": "stream",
     "text": [
      "Using device: cuda:1\n"
     ]
    }
   ],
   "source": [
    "DEVICE = torch.device(\"cuda:1\" if torch.cuda.is_available() else \"cpu\")\n",
    "\n",
    "print(f\"Using device: {DEVICE}\")"
   ]
  },
  {
   "cell_type": "markdown",
   "metadata": {},
   "source": [
    "### División de los datos"
   ]
  },
  {
   "cell_type": "code",
   "execution_count": 8,
   "metadata": {},
   "outputs": [
    {
     "name": "stdout",
     "output_type": "stream",
     "text": [
      "Train dataset length: 800\n",
      "Validation dataset length: 200\n"
     ]
    }
   ],
   "source": [
    "X_train = torch.Tensor(dataset['X_train']).unsqueeze(1)\n",
    "y_train = torch.Tensor(dataset['y_train']).unsqueeze(1)\n",
    "K_train = torch.tensor(dataset['k_train']).unsqueeze(1)\n",
    "f_train = torch.tensor(dataset['f_train']).unsqueeze(1).to(torch.float32)\n",
    "\n",
    "X_val = torch.Tensor(dataset['X_val']).unsqueeze(1)\n",
    "y_val = TensOps(torch.Tensor(dataset['y_val']).unsqueeze(1).requires_grad_(True), space_dimension=2, contravariance=0, covariance=0)\n",
    "K_val = TensOps(torch.tensor(dataset['k_val']).unsqueeze(1).requires_grad_(True), space_dimension=2, contravariance=0, covariance=0)\n",
    "f_val = TensOps(torch.tensor(dataset['f_val']).to(torch.float32).unsqueeze(1).requires_grad_(True), space_dimension=2, contravariance=0, covariance=0)\n",
    "\n",
    "print(\"Train dataset length:\", len(X_train))\n",
    "print(\"Validation dataset length:\", len(X_val))"
   ]
  },
  {
   "cell_type": "code",
   "execution_count": 9,
   "metadata": {},
   "outputs": [],
   "source": [
    "X_train, X_test, y_train, y_test, K_train, K_test, f_train, f_test = train_test_split(X_train, y_train, K_train, f_train, test_size=0.2, random_state=42)\n",
    "\n",
    "X_train = X_train.to(DEVICE)\n",
    "X_test = X_test.to(DEVICE)\n",
    "\n",
    "y_train = TensOps(y_train.requires_grad_(True).to(DEVICE), space_dimension=2, contravariance=0, covariance=0)\n",
    "y_test = TensOps(y_test.requires_grad_(True).to(DEVICE), space_dimension=2, contravariance=0, covariance=0)\n",
    "\n",
    "K_train = TensOps(K_train.to(DEVICE), space_dimension=2, contravariance=0, covariance=0)\n",
    "K_test = TensOps(K_test.to(DEVICE), space_dimension=2, contravariance=0, covariance=0)\n",
    "\n",
    "f_train = TensOps(f_train.to(DEVICE), space_dimension=2, contravariance=0, covariance=0)\n",
    "f_test = TensOps(f_test.to(DEVICE), space_dimension=2, contravariance=0, covariance=0)"
   ]
  },
  {
   "cell_type": "code",
   "execution_count": 10,
   "metadata": {},
   "outputs": [],
   "source": [
    "# Other parameters\n",
    "n_filters_explanatory = 5\n",
    "n_modes = 10\n",
    "\n",
    "# Predictive network architecture\n",
    "input_shape = X_train[0].shape\n",
    "predictive_layers = [20, 10, n_modes, 10, 20]\n",
    "predictive_output = y_train.values[0].shape\n",
    "\n",
    "# Explanatory network architecture\n",
    "explanatory_input = Mx(My(y_train)).values[0].shape\n",
    "explanatory_layers = [10]\n",
    "explanatory_output = Mx(My(f_train)).values[0].shape"
   ]
  },
  {
   "cell_type": "code",
   "execution_count": 11,
   "metadata": {},
   "outputs": [],
   "source": [
    "# pretrained_autoencoder = PretrainedAutoencoder(autoencoder_input_shape, latent_space_dim, autoencoder_output_shape).to(DEVICE)\n",
    "pretrained_pgnniv = PGNNIVBaseline(input_shape, predictive_layers, predictive_output, explanatory_input, explanatory_layers, explanatory_output, n_filters_explanatory).to(DEVICE)\n",
    "optimizer = torch.optim.Adam(pretrained_pgnniv.parameters(), lr=1e-4)\n",
    "pretrained_pgnniv, optimizer, lists = load_results(pretrained_pgnniv, optimizer, PRETRAINED_RESULTS_PATH, map_location=torch.device('cpu'))"
   ]
  },
  {
   "cell_type": "code",
   "execution_count": 12,
   "metadata": {},
   "outputs": [
    {
     "data": {
      "text/plain": [
       "<matplotlib.collections.PathCollection at 0x7fbb870caa50>"
      ]
     },
     "execution_count": 12,
     "metadata": {},
     "output_type": "execute_result"
    },
    {
     "data": {
      "image/png": "[encoded data removed]",
      "text/plain": [
       "<Figure size 640x480 with 1 Axes>"
      ]
     },
     "metadata": {},
     "output_type": "display_data"
    }
   ],
   "source": [
    "plt.scatter(Mx(My(TensOps(pretrained_pgnniv(X_train)[0], space_dimension=2, contravariance=0, covariance=0))).values.cpu().detach().numpy().flatten(), \n",
    "            pretrained_pgnniv(X_train)[1].cpu().detach().numpy().flatten())\n",
    "\n",
    "plt.scatter(y_train.values.cpu().detach().numpy().flatten(), \n",
    "           K_train.values.cpu().detach().numpy().flatten())"
   ]
  },
  {
   "cell_type": "code",
   "execution_count": 13,
   "metadata": {},
   "outputs": [],
   "source": [
    "pgnniv_pretrained_encoder = pretrained_pgnniv.encoder\n",
    "pgnniv_pretrained_decoder = pretrained_pgnniv.decoder\n",
    "pgnniv_pretrained_exp = pretrained_pgnniv.explanatory\n",
    "\n",
    "for param in pgnniv_pretrained_encoder.parameters():\n",
    "    param.requires_grad = True\n",
    "\n",
    "for param in pgnniv_pretrained_decoder.parameters():\n",
    "    param.requires_grad = True\n",
    "\n",
    "for param in pgnniv_pretrained_exp.parameters():\n",
    "    param.requires_grad = True"
   ]
  },
  {
   "cell_type": "code",
   "execution_count": 14,
   "metadata": {},
   "outputs": [
    {
     "name": "stdout",
     "output_type": "stream",
     "text": [
      "Starting training from scratch.\n",
      "Epoch 0, Train loss: 2.333e+08, Test loss: 1.681e+08, MSE(e): 2.327e+01, MSE(pi1): 3.111e+01, MSE(pi2): 1.108e+01, MSE(pi3): 2.611e+00\n",
      "Epoch 100, Train loss: 9.671e+05, Test loss: 1.206e+06, MSE(e): 9.611e-02, MSE(pi1): 2.594e-01, MSE(pi2): 5.661e-02, MSE(pi3): 3.373e-02\n",
      "Epoch 200, Train loss: 3.110e+05, Test loss: 4.647e+05, MSE(e): 3.085e-02, MSE(pi1): 8.729e-02, MSE(pi2): 1.715e-02, MSE(pi3): 1.578e-02\n",
      "Epoch 300, Train loss: 1.890e+05, Test loss: 2.887e+05, MSE(e): 1.871e-02, MSE(pi1): 6.198e-02, MSE(pi2): 1.017e-02, MSE(pi3): 1.277e-02\n",
      "Epoch 400, Train loss: 1.420e+05, Test loss: 2.206e+05, MSE(e): 1.401e-02, MSE(pi1): 7.911e-02, MSE(pi2): 7.580e-03, MSE(pi3): 1.157e-02\n",
      "Epoch 500, Train loss: 9.652e+04, Test loss: 1.308e+05, MSE(e): 9.252e-03, MSE(pi1): 2.881e-01, MSE(pi2): 5.278e-03, MSE(pi3): 1.113e-02\n",
      "Epoch 600, Train loss: 6.725e+04, Test loss: 1.065e+05, MSE(e): 6.355e-03, MSE(pi1): 2.646e-01, MSE(pi2): 3.726e-03, MSE(pi3): 1.051e-02\n",
      "Epoch 700, Train loss: 5.367e+04, Test loss: 7.910e+04, MSE(e): 5.030e-03, MSE(pi1): 2.343e-01, MSE(pi2): 2.819e-03, MSE(pi3): 1.017e-02\n",
      "Epoch 800, Train loss: 3.354e+04, Test loss: 5.260e+04, MSE(e): 3.113e-03, MSE(pi1): 1.468e-01, MSE(pi2): 1.830e-03, MSE(pi3): 9.388e-03\n",
      "Epoch 900, Train loss: 2.216e+04, Test loss: 3.097e+04, MSE(e): 1.988e-03, MSE(pi1): 1.388e-01, MSE(pi2): 1.168e-03, MSE(pi3): 8.855e-03\n",
      "Epoch 1000, Train loss: 2.808e+04, Test loss: 3.588e+04, MSE(e): 2.445e-03, MSE(pi1): 2.671e-01, MSE(pi2): 1.393e-03, MSE(pi3): 9.539e-03\n",
      "Epoch 1100, Train loss: 1.735e+04, Test loss: 2.348e+04, MSE(e): 1.466e-03, MSE(pi1): 1.811e-01, MSE(pi2): 8.683e-04, MSE(pi3): 8.806e-03\n",
      "Epoch 1200, Train loss: 1.815e+04, Test loss: 2.531e+04, MSE(e): 1.634e-03, MSE(pi1): 9.182e-02, MSE(pi2): 9.807e-04, MSE(pi3): 8.938e-03\n",
      "Epoch 1300, Train loss: 2.107e+04, Test loss: 2.931e+04, MSE(e): 1.848e-03, MSE(pi1): 1.718e-01, MSE(pi2): 9.875e-04, MSE(pi3): 8.721e-03\n",
      "Epoch 1400, Train loss: 1.538e+04, Test loss: 2.101e+04, MSE(e): 1.222e-03, MSE(pi1): 2.286e-01, MSE(pi2): 6.615e-04, MSE(pi3): 8.695e-03\n",
      "Epoch 1500, Train loss: 6.220e+04, Test loss: 4.577e+04, MSE(e): 6.007e-03, MSE(pi1): 1.122e-01, MSE(pi2): 2.967e-03, MSE(pi3): 9.997e-03\n",
      "Epoch 1600, Train loss: 2.984e+04, Test loss: 2.671e+04, MSE(e): 2.678e-03, MSE(pi1): 2.167e-01, MSE(pi2): 1.257e-03, MSE(pi3): 8.882e-03\n",
      "Epoch 1700, Train loss: 1.841e+04, Test loss: 2.487e+04, MSE(e): 1.496e-03, MSE(pi1): 2.554e-01, MSE(pi2): 7.471e-04, MSE(pi3): 8.909e-03\n",
      "Epoch 1800, Train loss: 2.087e+04, Test loss: 2.695e+04, MSE(e): 1.927e-03, MSE(pi1): 7.628e-02, MSE(pi2): 9.383e-04, MSE(pi3): 8.384e-03\n",
      "Epoch 1900, Train loss: 1.509e+04, Test loss: 1.436e+04, MSE(e): 1.266e-03, MSE(pi1): 1.577e-01, MSE(pi2): 6.346e-04, MSE(pi3): 8.538e-03\n",
      "Epoch 2000, Train loss: 3.561e+04, Test loss: 5.162e+04, MSE(e): 3.227e-03, MSE(pi1): 2.404e-01, MSE(pi2): 1.502e-03, MSE(pi3): 9.333e-03\n",
      "Epoch 2100, Train loss: 1.210e+04, Test loss: 2.507e+04, MSE(e): 1.033e-03, MSE(pi1): 9.457e-02, MSE(pi2): 5.451e-04, MSE(pi3): 8.230e-03\n",
      "Epoch 2200, Train loss: 1.090e+04, Test loss: 2.365e+04, MSE(e): 7.309e-04, MSE(pi1): 2.702e-01, MSE(pi2): 4.154e-04, MSE(pi3): 8.891e-03\n",
      "Epoch 2300, Train loss: 1.287e+04, Test loss: 2.076e+04, MSE(e): 1.015e-03, MSE(pi1): 1.858e-01, MSE(pi2): 5.419e-04, MSE(pi3): 8.554e-03\n",
      "Epoch 2400, Train loss: 5.397e+04, Test loss: 8.903e+04, MSE(e): 5.038e-03, MSE(pi1): 2.566e-01, MSE(pi2): 2.562e-03, MSE(pi3): 1.017e-02\n",
      "Epoch 2500, Train loss: 8.692e+03, Test loss: 1.481e+04, MSE(e): 5.719e-04, MSE(pi1): 2.121e-01, MSE(pi2): 3.122e-04, MSE(pi3): 8.516e-03\n",
      "Epoch 2600, Train loss: 7.821e+03, Test loss: 1.455e+04, MSE(e): 6.163e-04, MSE(pi1): 8.440e-02, MSE(pi2): 3.572e-04, MSE(pi3): 8.130e-03\n",
      "Epoch 2700, Train loss: 8.377e+03, Test loss: 1.602e+04, MSE(e): 5.935e-04, MSE(pi1): 1.597e-01, MSE(pi2): 3.456e-04, MSE(pi3): 8.451e-03\n",
      "Epoch 2800, Train loss: 4.022e+04, Test loss: 5.056e+04, MSE(e): 3.707e-03, MSE(pi1): 2.237e-01, MSE(pi2): 1.746e-03, MSE(pi3): 9.142e-03\n",
      "Epoch 2900, Train loss: 7.909e+03, Test loss: 1.921e+04, MSE(e): 4.457e-04, MSE(pi1): 2.590e-01, MSE(pi2): 2.474e-04, MSE(pi3): 8.620e-03\n",
      "Epoch 3000, Train loss: 6.494e+03, Test loss: 2.109e+04, MSE(e): 4.769e-04, MSE(pi1): 9.052e-02, MSE(pi2): 2.711e-04, MSE(pi3): 8.190e-03\n",
      "Epoch 3100, Train loss: 6.543e+03, Test loss: 2.648e+04, MSE(e): 4.614e-04, MSE(pi1): 1.100e-01, MSE(pi2): 2.871e-04, MSE(pi3): 8.282e-03\n",
      "Epoch 3200, Train loss: 8.641e+03, Test loss: 3.710e+04, MSE(e): 5.128e-04, MSE(pi1): 2.645e-01, MSE(pi2): 3.085e-04, MSE(pi3): 8.688e-03\n",
      "Epoch 3300, Train loss: 1.485e+04, Test loss: 5.471e+04, MSE(e): 1.108e-03, MSE(pi1): 2.864e-01, MSE(pi2): 5.768e-04, MSE(pi3): 9.046e-03\n",
      "Epoch 3400, Train loss: 1.131e+04, Test loss: 5.131e+04, MSE(e): 7.827e-04, MSE(pi1): 2.607e-01, MSE(pi2): 4.265e-04, MSE(pi3): 8.806e-03\n",
      "Epoch 3500, Train loss: 7.360e+03, Test loss: 4.338e+04, MSE(e): 5.262e-04, MSE(pi1): 1.256e-01, MSE(pi2): 3.334e-04, MSE(pi3): 8.413e-03\n",
      "Epoch 3600, Train loss: 3.299e+04, Test loss: 6.415e+04, MSE(e): 3.026e-03, MSE(pi1): 1.860e-01, MSE(pi2): 1.384e-03, MSE(pi3): 8.718e-03\n",
      "Epoch 3700, Train loss: 1.985e+04, Test loss: 5.254e+04, MSE(e): 1.815e-03, MSE(pi1): 8.382e-02, MSE(pi2): 8.610e-04, MSE(pi3): 8.650e-03\n",
      "Epoch 3800, Train loss: 6.166e+03, Test loss: 5.011e+04, MSE(e): 3.877e-04, MSE(pi1): 1.465e-01, MSE(pi2): 2.091e-04, MSE(pi3): 8.243e-03\n",
      "Epoch 3900, Train loss: 6.172e+03, Test loss: 4.767e+04, MSE(e): 3.519e-04, MSE(pi1): 1.806e-01, MSE(pi2): 2.009e-04, MSE(pi3): 8.460e-03\n",
      "Epoch 4000, Train loss: 1.413e+04, Test loss: 5.036e+04, MSE(e): 1.114e-03, MSE(pi1): 2.103e-01, MSE(pi2): 5.702e-04, MSE(pi3): 8.844e-03\n",
      "Epoch 4100, Train loss: 6.252e+03, Test loss: 4.904e+04, MSE(e): 3.523e-04, MSE(pi1): 1.883e-01, MSE(pi2): 1.967e-04, MSE(pi3): 8.451e-03\n",
      "Epoch 4200, Train loss: 1.289e+04, Test loss: 5.539e+04, MSE(e): 1.008e-03, MSE(pi1): 1.925e-01, MSE(pi2): 5.323e-04, MSE(pi3): 8.821e-03\n",
      "Epoch 4300, Train loss: 6.082e+03, Test loss: 5.013e+04, MSE(e): 3.825e-04, MSE(pi1): 1.432e-01, MSE(pi2): 2.070e-04, MSE(pi3): 8.254e-03\n",
      "Epoch 4400, Train loss: 7.434e+03, Test loss: 5.477e+04, MSE(e): 5.410e-04, MSE(pi1): 1.191e-01, MSE(pi2): 3.257e-04, MSE(pi3): 8.325e-03\n",
      "Epoch 4500, Train loss: 5.797e+03, Test loss: 5.067e+04, MSE(e): 3.629e-04, MSE(pi1): 1.350e-01, MSE(pi2): 1.939e-04, MSE(pi3): 8.168e-03\n",
      "Epoch 4600, Train loss: 7.945e+03, Test loss: 5.668e+04, MSE(e): 5.657e-04, MSE(pi1): 1.439e-01, MSE(pi2): 3.060e-04, MSE(pi3): 8.494e-03\n",
      "Epoch 4700, Train loss: 1.173e+04, Test loss: 5.538e+04, MSE(e): 8.810e-04, MSE(pi1): 2.044e-01, MSE(pi2): 4.870e-04, MSE(pi3): 8.778e-03\n",
      "Epoch 4800, Train loss: 1.192e+04, Test loss: 5.694e+04, MSE(e): 9.377e-04, MSE(pi1): 1.699e-01, MSE(pi2): 4.653e-04, MSE(pi3): 8.440e-03\n",
      "Epoch 4900, Train loss: 5.356e+03, Test loss: 5.309e+04, MSE(e): 4.090e-04, MSE(pi1): 4.571e-02, MSE(pi2): 2.229e-04, MSE(pi3): 8.081e-03\n",
      "Epoch 5000, Train loss: 4.128e+04, Test loss: 6.967e+04, MSE(e): 3.909e-03, MSE(pi1): 1.295e-01, MSE(pi2): 1.788e-03, MSE(pi3): 8.959e-03\n",
      "Epoch 5100, Train loss: 5.797e+03, Test loss: 5.324e+04, MSE(e): 2.858e-04, MSE(pi1): 2.094e-01, MSE(pi2): 1.623e-04, MSE(pi3): 8.453e-03\n",
      "Epoch 5200, Train loss: 6.052e+03, Test loss: 5.405e+04, MSE(e): 2.878e-04, MSE(pi1): 2.319e-01, MSE(pi2): 1.621e-04, MSE(pi3): 8.536e-03\n",
      "Epoch 5300, Train loss: 1.005e+04, Test loss: 5.820e+04, MSE(e): 7.876e-04, MSE(pi1): 1.346e-01, MSE(pi2): 3.780e-04, MSE(pi3): 8.308e-03\n",
      "Epoch 5400, Train loss: 6.576e+03, Test loss: 5.624e+04, MSE(e): 3.932e-04, MSE(pi1): 1.805e-01, MSE(pi2): 2.215e-04, MSE(pi3): 8.394e-03\n",
      "Epoch 5500, Train loss: 7.910e+03, Test loss: 5.839e+04, MSE(e): 3.311e-04, MSE(pi1): 3.684e-01, MSE(pi2): 1.731e-04, MSE(pi3): 9.146e-03\n",
      "Epoch 5600, Train loss: 2.334e+04, Test loss: 8.076e+04, MSE(e): 1.942e-03, MSE(pi1): 2.979e-01, MSE(pi2): 9.618e-04, MSE(pi3): 9.426e-03\n",
      "Epoch 5700, Train loss: 4.873e+03, Test loss: 5.104e+04, MSE(e): 2.654e-04, MSE(pi1): 1.393e-01, MSE(pi2): 1.541e-04, MSE(pi3): 8.258e-03\n",
      "Epoch 5800, Train loss: 8.716e+03, Test loss: 5.456e+04, MSE(e): 6.715e-04, MSE(pi1): 1.182e-01, MSE(pi2): 3.444e-04, MSE(pi3): 8.192e-03\n",
      "Epoch 5900, Train loss: 7.340e+03, Test loss: 5.557e+04, MSE(e): 3.803e-04, MSE(pi1): 2.678e-01, MSE(pi2): 2.191e-04, MSE(pi3): 8.598e-03\n",
      "Epoch 6000, Train loss: 7.365e+03, Test loss: 5.331e+04, MSE(e): 5.632e-04, MSE(pi1): 9.217e-02, MSE(pi2): 2.953e-04, MSE(pi3): 8.106e-03\n",
      "Epoch 6100, Train loss: 9.867e+03, Test loss: 5.397e+04, MSE(e): 8.352e-04, MSE(pi1): 6.899e-02, MSE(pi2): 4.851e-04, MSE(pi3): 8.242e-03\n",
      "Epoch 6200, Train loss: 9.879e+03, Test loss: 5.422e+04, MSE(e): 7.325e-04, MSE(pi1): 1.723e-01, MSE(pi2): 4.047e-04, MSE(pi3): 8.304e-03\n",
      "Epoch 6300, Train loss: 1.050e+04, Test loss: 5.737e+04, MSE(e): 6.902e-04, MSE(pi1): 2.704e-01, MSE(pi2): 3.374e-04, MSE(pi3): 8.914e-03\n",
      "Epoch 6400, Train loss: 4.671e+03, Test loss: 4.957e+04, MSE(e): 2.958e-04, MSE(pi1): 8.969e-02, MSE(pi2): 1.772e-04, MSE(pi3): 8.161e-03\n",
      "Epoch 6500, Train loss: 3.722e+03, Test loss: 4.859e+04, MSE(e): 2.467e-04, MSE(pi1): 4.502e-02, MSE(pi2): 1.492e-04, MSE(pi3): 8.049e-03\n",
      "Epoch 6600, Train loss: 5.138e+03, Test loss: 5.017e+04, MSE(e): 2.592e-04, MSE(pi1): 1.711e-01, MSE(pi2): 1.553e-04, MSE(pi3): 8.345e-03\n",
      "Epoch 6700, Train loss: 9.130e+03, Test loss: 5.570e+04, MSE(e): 5.246e-04, MSE(pi1): 3.003e-01, MSE(pi2): 2.642e-04, MSE(pi3): 8.806e-03\n",
      "Epoch 6800, Train loss: 3.868e+04, Test loss: 7.519e+04, MSE(e): 3.687e-03, MSE(pi1): 9.163e-02, MSE(pi2): 1.780e-03, MSE(pi3): 8.876e-03\n",
      "Epoch 6900, Train loss: 6.143e+03, Test loss: 5.005e+04, MSE(e): 2.696e-04, MSE(pi1): 2.579e-01, MSE(pi2): 1.472e-04, MSE(pi3): 8.678e-03\n",
      "Epoch 7000, Train loss: 6.297e+03, Test loss: 4.965e+04, MSE(e): 2.621e-04, MSE(pi1): 2.802e-01, MSE(pi2): 1.434e-04, MSE(pi3): 8.740e-03\n",
      "Epoch 7100, Train loss: 7.797e+03, Test loss: 5.541e+04, MSE(e): 4.937e-04, MSE(pi1): 2.018e-01, MSE(pi2): 2.320e-04, MSE(pi3): 8.423e-03\n",
      "Epoch 7200, Train loss: 7.922e+03, Test loss: 4.962e+04, MSE(e): 5.277e-04, MSE(pi1): 1.777e-01, MSE(pi2): 3.435e-04, MSE(pi3): 8.680e-03\n",
      "Epoch 7300, Train loss: 9.481e+03, Test loss: 5.491e+04, MSE(e): 6.646e-04, MSE(pi1): 1.969e-01, MSE(pi2): 3.898e-04, MSE(pi3): 8.652e-03\n",
      "Epoch 7400, Train loss: 1.651e+04, Test loss: 5.798e+04, MSE(e): 1.343e-03, MSE(pi1): 2.203e-01, MSE(pi2): 6.448e-04, MSE(pi3): 8.715e-03\n",
      "Epoch 7500, Train loss: 3.623e+03, Test loss: 4.278e+04, MSE(e): 2.567e-04, MSE(pi1): 2.631e-02, MSE(pi2): 1.476e-04, MSE(pi3): 7.929e-03\n",
      "Epoch 7600, Train loss: 5.124e+03, Test loss: 4.376e+04, MSE(e): 2.710e-04, MSE(pi1): 1.596e-01, MSE(pi2): 1.481e-04, MSE(pi3): 8.183e-03\n",
      "Epoch 7700, Train loss: 5.869e+03, Test loss: 4.489e+04, MSE(e): 2.565e-04, MSE(pi1): 2.452e-01, MSE(pi2): 1.503e-04, MSE(pi3): 8.518e-03\n",
      "Epoch 7800, Train loss: 4.792e+03, Test loss: 4.208e+04, MSE(e): 2.624e-04, MSE(pi1): 1.343e-01, MSE(pi2): 1.526e-04, MSE(pi3): 8.248e-03\n",
      "Epoch 7900, Train loss: 1.021e+04, Test loss: 4.754e+04, MSE(e): 8.286e-04, MSE(pi1): 1.105e-01, MSE(pi2): 4.357e-04, MSE(pi3): 8.167e-03\n",
      "Epoch 8000, Train loss: 5.217e+03, Test loss: 4.109e+04, MSE(e): 2.881e-04, MSE(pi1): 1.504e-01, MSE(pi2): 1.549e-04, MSE(pi3): 8.314e-03\n",
      "Epoch 8100, Train loss: 4.591e+03, Test loss: 3.924e+04, MSE(e): 2.308e-04, MSE(pi1): 1.459e-01, MSE(pi2): 1.315e-04, MSE(pi3): 8.242e-03\n",
      "Epoch 8200, Train loss: 8.514e+03, Test loss: 3.910e+04, MSE(e): 5.847e-04, MSE(pi1): 1.818e-01, MSE(pi2): 2.860e-04, MSE(pi3): 8.484e-03\n",
      "Epoch 8300, Train loss: 5.235e+03, Test loss: 3.613e+04, MSE(e): 2.846e-04, MSE(pi1): 1.572e-01, MSE(pi2): 1.496e-04, MSE(pi3): 8.168e-03\n",
      "Epoch 8400, Train loss: 6.413e+03, Test loss: 3.878e+04, MSE(e): 4.509e-04, MSE(pi1): 1.071e-01, MSE(pi2): 2.760e-04, MSE(pi3): 8.321e-03\n",
      "Epoch 8500, Train loss: 4.783e+03, Test loss: 3.812e+04, MSE(e): 2.262e-04, MSE(pi1): 1.685e-01, MSE(pi2): 1.264e-04, MSE(pi3): 8.356e-03\n",
      "Epoch 8600, Train loss: 5.122e+03, Test loss: 3.724e+04, MSE(e): 2.136e-04, MSE(pi1): 2.137e-01, MSE(pi2): 1.210e-04, MSE(pi3): 8.487e-03\n",
      "Epoch 8700, Train loss: 8.311e+03, Test loss: 3.642e+04, MSE(e): 5.609e-04, MSE(pi1): 1.845e-01, MSE(pi2): 2.889e-04, MSE(pi3): 8.564e-03\n",
      "Epoch 8800, Train loss: 1.268e+04, Test loss: 3.628e+04, MSE(e): 1.029e-03, MSE(pi1): 1.545e-01, MSE(pi2): 4.865e-04, MSE(pi3): 8.469e-03\n",
      "Epoch 8900, Train loss: 8.114e+03, Test loss: 4.108e+04, MSE(e): 6.051e-04, MSE(pi1): 1.240e-01, MSE(pi2): 3.036e-04, MSE(pi3): 8.226e-03\n",
      "Epoch 9000, Train loss: 6.206e+03, Test loss: 3.825e+04, MSE(e): 2.663e-04, MSE(pi1): 2.686e-01, MSE(pi2): 1.454e-04, MSE(pi3): 8.572e-03\n",
      "Epoch 9100, Train loss: 1.290e+04, Test loss: 4.038e+04, MSE(e): 1.013e-03, MSE(pi1): 1.912e-01, MSE(pi2): 5.258e-04, MSE(pi3): 8.553e-03\n",
      "Epoch 9200, Train loss: 6.082e+03, Test loss: 3.409e+04, MSE(e): 2.077e-04, MSE(pi1): 3.127e-01, MSE(pi2): 1.135e-04, MSE(pi3): 8.776e-03\n",
      "Epoch 9300, Train loss: 3.691e+03, Test loss: 2.948e+04, MSE(e): 1.997e-04, MSE(pi1): 8.906e-02, MSE(pi2): 1.131e-04, MSE(pi3): 8.032e-03\n",
      "Epoch 9400, Train loss: 4.509e+03, Test loss: 3.022e+04, MSE(e): 1.865e-04, MSE(pi1): 1.815e-01, MSE(pi2): 1.035e-04, MSE(pi3): 8.293e-03\n",
      "Epoch 9500, Train loss: 1.516e+04, Test loss: 4.480e+04, MSE(e): 1.304e-03, MSE(pi1): 1.278e-01, MSE(pi2): 6.039e-04, MSE(pi3): 8.338e-03\n",
      "Epoch 9600, Train loss: 6.356e+03, Test loss: 3.132e+04, MSE(e): 3.559e-04, MSE(pi1): 1.963e-01, MSE(pi2): 1.776e-04, MSE(pi3): 8.339e-03\n",
      "Epoch 9700, Train loss: 3.226e+03, Test loss: 2.713e+04, MSE(e): 1.859e-04, MSE(pi1): 5.732e-02, MSE(pi2): 1.036e-04, MSE(pi3): 7.941e-03\n",
      "Epoch 9800, Train loss: 2.804e+04, Test loss: 6.301e+04, MSE(e): 2.510e-03, MSE(pi1): 2.029e-01, MSE(pi2): 1.225e-03, MSE(pi3): 9.086e-03\n",
      "Epoch 9900, Train loss: 1.987e+04, Test loss: 4.826e+04, MSE(e): 1.612e-03, MSE(pi1): 2.811e-01, MSE(pi2): 9.092e-04, MSE(pi3): 9.425e-03\n",
      "\n",
      "Training process finished after 10000 epochs\n",
      "\n"
     ]
    }
   ],
   "source": [
    "# model = PGNNIVBaseline(input_shape, predictive_layers, predictive_output, explanatory_input, explanatory_layers, explanatory_output, n_filters_explanatory).to(DEVICE)\n",
    "params_to_update = filter(lambda p: p.requires_grad, pretrained_pgnniv.parameters())\n",
    "optimizer = torch.optim.Adam(params_to_update, lr=3e-3)\n",
    "\n",
    "# Parametros de entrenamiento\n",
    "start_epoch = 0\n",
    "n_epochs = 10000\n",
    "\n",
    "batch_size = 64\n",
    "n_checkpoints = 5\n",
    "\n",
    "train_loop(pretrained_pgnniv, optimizer, X_train, y_train, f_train, X_test, y_test, f_test,\n",
    "           D, n_checkpoints, start_epoch=start_epoch, n_epochs=n_epochs, batch_size=batch_size, \n",
    "           model_results_path=MODEL_RESULTS_TRANSFERLEARNING_PATH, device=DEVICE)"
   ]
  },
  {
   "cell_type": "code",
   "execution_count": 15,
   "metadata": {},
   "outputs": [],
   "source": [
    "# start_epoch = n_epochs-1\n",
    "# n_epochs = 20000\n",
    "\n",
    "# batch_size = 64 \n",
    "# n_checkpoints = 5\n",
    "\n",
    "# second_lr = 3e-4\n",
    "\n",
    "# train_loop(pretrained_pgnniv, optimizer, X_train, y_train, f_train, X_test, y_test, f_test,\n",
    "#            D, n_checkpoints, start_epoch=start_epoch, n_epochs=n_epochs, batch_size=batch_size, \n",
    "#            model_results_path=MODEL_RESULTS_TRANSFERLEARNING_PATH, device=DEVICE)"
   ]
  },
  {
   "cell_type": "code",
   "execution_count": 16,
   "metadata": {},
   "outputs": [
    {
     "data": {
      "text/plain": [
       "<matplotlib.collections.PathCollection at 0x7fbb8e37a7b0>"
      ]
     },
     "execution_count": 16,
     "metadata": {},
     "output_type": "execute_result"
    },
    {
     "data": {
      "image/png": "[encoded data removed]",
      "text/plain": [
       "<Figure size 640x480 with 1 Axes>"
      ]
     },
     "metadata": {},
     "output_type": "display_data"
    }
   ],
   "source": [
    "plt.scatter(Mx(My(TensOps(pretrained_pgnniv(X_train)[0], space_dimension=2, contravariance=0, covariance=0))).values.cpu().detach().numpy().flatten(), \n",
    "            pretrained_pgnniv(X_train)[1].cpu().detach().numpy().flatten())\n",
    "\n",
    "plt.scatter(y_train.values.cpu().detach().numpy().flatten(), \n",
    "           K_train.values.cpu().detach().numpy().flatten())"
   ]
  },
  {
   "cell_type": "code",
   "execution_count": 17,
   "metadata": {},
   "outputs": [],
   "source": [
    "# # Parametros de entrenamiento\n",
    "# start_epoch = 9000\n",
    "# n_epochs = 100000\n",
    "\n",
    "# batch_size = 64 \n",
    "# n_checkpoints = 100\n",
    "\n",
    "# second_lr = 1e-4\n",
    "\n",
    "# train_loop(model, optimizer, X_train_NN, y_train_NN, f_train_NN, X_test_NN, y_test_NN, f_test_NN,\n",
    "#            D, n_checkpoints, start_epoch=start_epoch, n_epochs=n_epochs, batch_size=batch_size, \n",
    "#            model_results_path=MODEL_RESULTS_TRANSFERLEARNING_PATH, device=DEVICE, new_lr=second_lr)"
   ]
  }
 ],
 "metadata": {
  "kernelspec": {
   "display_name": "SciML_test_env",
   "language": "python",
   "name": "python3"
  },
  "language_info": {
   "codemirror_mode": {
    "name": "ipython",
    "version": 3
   },
   "file_extension": ".py",
   "mimetype": "text/x-python",
   "name": "python",
   "nbconvert_exporter": "python",
   "pygments_lexer": "ipython3",
   "version": "3.12.4"
  }
 },
 "nbformat": 4,
 "nbformat_minor": 2
}
