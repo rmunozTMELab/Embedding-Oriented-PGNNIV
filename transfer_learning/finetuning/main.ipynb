{
 "cells": [
  {
   "cell_type": "code",
   "execution_count": 1,
   "metadata": {},
   "outputs": [],
   "source": [
    "import os \n",
    "import sys\n",
    "\n",
    "sys.path.append(os.path.abspath(os.path.join(os.getcwd(), \"../../\")))"
   ]
  },
  {
   "cell_type": "code",
   "execution_count": 2,
   "metadata": {},
   "outputs": [],
   "source": [
    "import torch\n",
    "import matplotlib.pyplot as plt\n",
    "import random\n",
    "import gc\n",
    "\n",
    "from sklearn.model_selection import train_test_split\n",
    "\n",
    "# Own library imports\n",
    "from vecopsciml.utils import TensOps\n",
    "from vecopsciml.operators.zero_order import Mx, My\n",
    "from vecopsciml.kernels.derivative import DerivativeKernels\n",
    "\n",
    "# Function from this project\n",
    "from utils.folders import create_folder\n",
    "from utils.load_data import load_data\n",
    "from utils.checkpoints import load_results\n",
    "from trainers.train import train_loop\n",
    "\n",
    "# Import model\n",
    "from architectures.pgnniv_baseline import PGNNIVBaseline"
   ]
  },
  {
   "cell_type": "code",
   "execution_count": 3,
   "metadata": {},
   "outputs": [],
   "source": [
    "seed = 42\n",
    "random.seed(seed)\n",
    "\n",
    "torch.manual_seed(seed)\n",
    "torch.cuda.manual_seed(seed)\n",
    "torch.cuda.manual_seed_all(seed)  \n",
    "torch.backends.cudnn.deterministic = True\n",
    "torch.backends.cudnn.benchmark = False\n",
    "\n",
    "gc.collect()\n",
    "torch.cuda.empty_cache()\n",
    "torch.cuda.reset_peak_memory_stats()"
   ]
  },
  {
   "cell_type": "code",
   "execution_count": 4,
   "metadata": {},
   "outputs": [
    {
     "name": "stdout",
     "output_type": "stream",
     "text": [
      "Folder already exists at: /home/rmunoz/Escritorio/rmunozTMELab/Embedding-Oriented-PGNNIV/results/transfer_learning_1000\n",
      "Folder already exists at: /home/rmunoz/Escritorio/rmunozTMELab/Embedding-Oriented-PGNNIV/results/transfer_learning_1000/finetuning\n"
     ]
    }
   ],
   "source": [
    "# Create folders paths\n",
    "ROOT_PATH = os.path.abspath(os.path.join(os.getcwd(), \"../../\"))\n",
    "DATA_PATH = os.path.join(ROOT_PATH, r'data/sigmoid_nonlinear_1000/sigmoid_nonlinear_1000.pkl')\n",
    "RESULTS_FOLDER_PATH = os.path.join(ROOT_PATH, r'results/transfer_learning_1000')\n",
    "\n",
    "PRETRAINED_RESULTS_PATH = os.path.join(ROOT_PATH, r'results/non_linear_1000_0/baseline_model_10')\n",
    "MODEL_RESULTS_TRANSFERLEARNING_PATH = os.path.join(ROOT_PATH, r'results/transfer_learning_1000/finetuning')\n",
    "\n",
    "# Create folders (if necessary)\n",
    "create_folder(RESULTS_FOLDER_PATH)\n",
    "create_folder(MODEL_RESULTS_TRANSFERLEARNING_PATH)"
   ]
  },
  {
   "cell_type": "code",
   "execution_count": 5,
   "metadata": {},
   "outputs": [
    {
     "name": "stdout",
     "output_type": "stream",
     "text": [
      "Data successfully loaded from: /home/rmunoz/Escritorio/rmunozTMELab/Embedding-Oriented-PGNNIV/data/sigmoid_nonlinear_1000/sigmoid_nonlinear_1000.pkl\n"
     ]
    }
   ],
   "source": [
    "# Load dataset\n",
    "dataset = load_data(DATA_PATH)"
   ]
  },
  {
   "cell_type": "code",
   "execution_count": 6,
   "metadata": {},
   "outputs": [],
   "source": [
    "# Convolutional filters to derivate\n",
    "dx = dataset['x_step_size']\n",
    "dy = dataset['y_step_size']\n",
    "D = DerivativeKernels(dx, dy, 0).grad_kernels_two_dimensions()"
   ]
  },
  {
   "cell_type": "code",
   "execution_count": 7,
   "metadata": {},
   "outputs": [
    {
     "name": "stdout",
     "output_type": "stream",
     "text": [
      "Using device: cuda:0\n"
     ]
    }
   ],
   "source": [
    "DEVICE = torch.device(\"cuda:0\" if torch.cuda.is_available() else \"cpu\")\n",
    "\n",
    "print(f\"Using device: {DEVICE}\")"
   ]
  },
  {
   "cell_type": "markdown",
   "metadata": {},
   "source": [
    "### División de los datos"
   ]
  },
  {
   "cell_type": "code",
   "execution_count": 8,
   "metadata": {},
   "outputs": [
    {
     "name": "stdout",
     "output_type": "stream",
     "text": [
      "Train dataset length: 800\n",
      "Validation dataset length: 200\n"
     ]
    }
   ],
   "source": [
    "X_train = torch.Tensor(dataset['X_train']).unsqueeze(1)\n",
    "y_train = torch.Tensor(dataset['y_train']).unsqueeze(1)\n",
    "K_train = torch.tensor(dataset['k_train']).unsqueeze(1)\n",
    "f_train = torch.tensor(dataset['f_train']).unsqueeze(1).to(torch.float32)\n",
    "\n",
    "X_val = torch.Tensor(dataset['X_val']).unsqueeze(1)\n",
    "y_val = TensOps(torch.Tensor(dataset['y_val']).unsqueeze(1).requires_grad_(True), space_dimension=2, contravariance=0, covariance=0)\n",
    "K_val = TensOps(torch.tensor(dataset['k_val']).unsqueeze(1).requires_grad_(True), space_dimension=2, contravariance=0, covariance=0)\n",
    "f_val = TensOps(torch.tensor(dataset['f_val']).to(torch.float32).unsqueeze(1).requires_grad_(True), space_dimension=2, contravariance=0, covariance=0)\n",
    "\n",
    "print(\"Train dataset length:\", len(X_train))\n",
    "print(\"Validation dataset length:\", len(X_val))"
   ]
  },
  {
   "cell_type": "code",
   "execution_count": 9,
   "metadata": {},
   "outputs": [],
   "source": [
    "X_train, X_test, y_train, y_test, K_train, K_test, f_train, f_test = train_test_split(X_train, y_train, K_train, f_train, test_size=0.2, random_state=42)\n",
    "\n",
    "X_train = X_train.to(DEVICE)\n",
    "X_test = X_test.to(DEVICE)\n",
    "\n",
    "y_train = TensOps(y_train.requires_grad_(True).to(DEVICE), space_dimension=2, contravariance=0, covariance=0)\n",
    "y_test = TensOps(y_test.requires_grad_(True).to(DEVICE), space_dimension=2, contravariance=0, covariance=0)\n",
    "\n",
    "K_train = TensOps(K_train.to(DEVICE), space_dimension=2, contravariance=0, covariance=0)\n",
    "K_test = TensOps(K_test.to(DEVICE), space_dimension=2, contravariance=0, covariance=0)\n",
    "\n",
    "f_train = TensOps(f_train.to(DEVICE), space_dimension=2, contravariance=0, covariance=0)\n",
    "f_test = TensOps(f_test.to(DEVICE), space_dimension=2, contravariance=0, covariance=0)"
   ]
  },
  {
   "cell_type": "code",
   "execution_count": 10,
   "metadata": {},
   "outputs": [],
   "source": [
    "# Other parameters\n",
    "n_filters_explanatory = 5\n",
    "n_modes = 10\n",
    "\n",
    "# Predictive network architecture\n",
    "input_shape = X_train[0].shape\n",
    "predictive_layers = [20, 10, n_modes, 10, 20]\n",
    "predictive_output = y_train.values[0].shape\n",
    "\n",
    "# Explanatory network architecture\n",
    "explanatory_input = Mx(My(y_train)).values[0].shape\n",
    "explanatory_layers = [10]\n",
    "explanatory_output = Mx(My(f_train)).values[0].shape"
   ]
  },
  {
   "cell_type": "code",
   "execution_count": 11,
   "metadata": {},
   "outputs": [],
   "source": [
    "pretrained_pgnniv = PGNNIVBaseline(input_shape, predictive_layers, predictive_output, explanatory_input, explanatory_layers, explanatory_output, n_filters_explanatory).to(DEVICE)\n",
    "optimizer = torch.optim.Adam(pretrained_pgnniv.parameters(), lr=1e-4)\n",
    "pretrained_pgnniv, optimizer, lists = load_results(pretrained_pgnniv, optimizer, PRETRAINED_RESULTS_PATH, map_location=torch.device('cpu'))"
   ]
  },
  {
   "cell_type": "code",
   "execution_count": 12,
   "metadata": {},
   "outputs": [
    {
     "data": {
      "text/plain": [
       "<matplotlib.collections.PathCollection at 0x7f4750211dc0>"
      ]
     },
     "execution_count": 12,
     "metadata": {},
     "output_type": "execute_result"
    },
    {
     "data": {
      "image/png": "[encoded data removed]",
      "text/plain": [
       "<Figure size 640x480 with 1 Axes>"
      ]
     },
     "metadata": {},
     "output_type": "display_data"
    }
   ],
   "source": [
    "plt.scatter(Mx(My(TensOps(pretrained_pgnniv(X_train)[0], space_dimension=2, contravariance=0, covariance=0))).values.cpu().detach().numpy().flatten(), \n",
    "            pretrained_pgnniv(X_train)[1].cpu().detach().numpy().flatten())\n",
    "\n",
    "plt.scatter(y_train.values.cpu().detach().numpy().flatten(), \n",
    "           K_train.values.cpu().detach().numpy().flatten())"
   ]
  },
  {
   "cell_type": "code",
   "execution_count": 13,
   "metadata": {},
   "outputs": [],
   "source": [
    "pgnniv_pretrained_encoder = pretrained_pgnniv.encoder\n",
    "pgnniv_pretrained_decoder = pretrained_pgnniv.decoder\n",
    "pgnniv_pretrained_exp = pretrained_pgnniv.explanatory\n",
    "\n",
    "for param in pgnniv_pretrained_encoder.parameters():\n",
    "    param.requires_grad = True\n",
    "\n",
    "for param in pgnniv_pretrained_decoder.parameters():\n",
    "    param.requires_grad = True\n",
    "\n",
    "for param in pgnniv_pretrained_exp.parameters():\n",
    "    param.requires_grad = True"
   ]
  },
  {
   "cell_type": "code",
   "execution_count": 14,
   "metadata": {},
   "outputs": [],
   "source": [
    "gc.collect()\n",
    "torch.cuda.empty_cache()\n",
    "torch.cuda.reset_peak_memory_stats()"
   ]
  },
  {
   "cell_type": "code",
   "execution_count": 15,
   "metadata": {},
   "outputs": [
    {
     "name": "stdout",
     "output_type": "stream",
     "text": [
      "Starting training from scratch.\n",
      "Epoch 0, Train loss: 4.094e+08, Test loss: 4.201e+08, MSE(e): 4.089e+01, MSE(pi1): 2.640e+01, MSE(pi2): 1.746e+01, MSE(pi3): 2.147e+00\n",
      "Epoch 10, Train loss: 2.353e+08, Test loss: 2.456e+08, MSE(e): 2.346e+01, MSE(pi1): 4.718e+01, MSE(pi2): 1.105e+01, MSE(pi3): 2.961e+00\n",
      "Epoch 20, Train loss: 1.334e+08, Test loss: 1.405e+08, MSE(e): 1.323e+01, MSE(pi1): 6.604e+01, MSE(pi2): 7.249e+00, MSE(pi3): 3.715e+00\n",
      "Epoch 30, Train loss: 8.404e+07, Test loss: 8.918e+07, MSE(e): 8.309e+00, MSE(pi1): 5.601e+01, MSE(pi2): 4.709e+00, MSE(pi3): 3.838e+00\n",
      "Epoch 40, Train loss: 5.992e+07, Test loss: 6.405e+07, MSE(e): 5.906e+00, MSE(pi1): 4.585e+01, MSE(pi2): 3.591e+00, MSE(pi3): 4.017e+00\n",
      "Epoch 50, Train loss: 4.755e+07, Test loss: 5.102e+07, MSE(e): 4.673e+00, MSE(pi1): 4.249e+01, MSE(pi2): 3.022e+00, MSE(pi3): 3.982e+00\n",
      "Epoch 60, Train loss: 3.853e+07, Test loss: 4.156e+07, MSE(e): 3.774e+00, MSE(pi1): 3.944e+01, MSE(pi2): 2.585e+00, MSE(pi3): 3.877e+00\n",
      "Epoch 70, Train loss: 3.205e+07, Test loss: 3.472e+07, MSE(e): 3.131e+00, MSE(pi1): 3.655e+01, MSE(pi2): 2.231e+00, MSE(pi3): 3.730e+00\n",
      "Epoch 80, Train loss: 2.711e+07, Test loss: 2.938e+07, MSE(e): 2.641e+00, MSE(pi1): 3.398e+01, MSE(pi2): 1.937e+00, MSE(pi3): 3.574e+00\n",
      "Epoch 90, Train loss: 2.334e+07, Test loss: 2.522e+07, MSE(e): 2.268e+00, MSE(pi1): 3.179e+01, MSE(pi2): 1.695e+00, MSE(pi3): 3.419e+00\n",
      "Epoch 100, Train loss: 2.053e+07, Test loss: 2.204e+07, MSE(e): 1.990e+00, MSE(pi1): 2.994e+01, MSE(pi2): 1.500e+00, MSE(pi3): 3.268e+00\n",
      "Epoch 110, Train loss: 1.843e+07, Test loss: 1.963e+07, MSE(e): 1.783e+00, MSE(pi1): 2.843e+01, MSE(pi2): 1.347e+00, MSE(pi3): 3.126e+00\n",
      "Epoch 120, Train loss: 1.682e+07, Test loss: 1.777e+07, MSE(e): 1.625e+00, MSE(pi1): 2.726e+01, MSE(pi2): 1.224e+00, MSE(pi3): 2.993e+00\n",
      "Epoch 130, Train loss: 1.554e+07, Test loss: 1.629e+07, MSE(e): 1.499e+00, MSE(pi1): 2.641e+01, MSE(pi2): 1.124e+00, MSE(pi3): 2.871e+00\n",
      "Epoch 140, Train loss: 1.448e+07, Test loss: 1.509e+07, MSE(e): 1.394e+00, MSE(pi1): 2.582e+01, MSE(pi2): 1.039e+00, MSE(pi3): 2.757e+00\n",
      "Epoch 150, Train loss: 1.356e+07, Test loss: 1.407e+07, MSE(e): 1.304e+00, MSE(pi1): 2.543e+01, MSE(pi2): 9.642e-01, MSE(pi3): 2.649e+00\n",
      "Epoch 160, Train loss: 1.276e+07, Test loss: 1.319e+07, MSE(e): 1.225e+00, MSE(pi1): 2.519e+01, MSE(pi2): 8.970e-01, MSE(pi3): 2.542e+00\n",
      "Epoch 170, Train loss: 1.203e+07, Test loss: 1.242e+07, MSE(e): 1.153e+00, MSE(pi1): 2.502e+01, MSE(pi2): 8.354e-01, MSE(pi3): 2.435e+00\n",
      "Epoch 180, Train loss: 1.135e+07, Test loss: 1.171e+07, MSE(e): 1.086e+00, MSE(pi1): 2.486e+01, MSE(pi2): 7.781e-01, MSE(pi3): 2.323e+00\n",
      "Epoch 190, Train loss: 1.070e+07, Test loss: 1.107e+07, MSE(e): 1.024e+00, MSE(pi1): 2.468e+01, MSE(pi2): 7.244e-01, MSE(pi3): 2.207e+00\n",
      "Epoch 200, Train loss: 1.010e+07, Test loss: 1.049e+07, MSE(e): 9.647e-01, MSE(pi1): 2.442e+01, MSE(pi2): 6.744e-01, MSE(pi3): 2.089e+00\n",
      "Epoch 210, Train loss: 9.542e+06, Test loss: 9.967e+06, MSE(e): 9.103e-01, MSE(pi1): 2.409e+01, MSE(pi2): 6.279e-01, MSE(pi3): 1.970e+00\n",
      "Epoch 220, Train loss: 9.029e+06, Test loss: 9.494e+06, MSE(e): 8.606e-01, MSE(pi1): 2.368e+01, MSE(pi2): 5.848e-01, MSE(pi3): 1.855e+00\n",
      "Epoch 230, Train loss: 8.554e+06, Test loss: 9.049e+06, MSE(e): 8.147e-01, MSE(pi1): 2.320e+01, MSE(pi2): 5.450e-01, MSE(pi3): 1.744e+00\n",
      "Epoch 240, Train loss: 8.109e+06, Test loss: 8.619e+06, MSE(e): 7.718e-01, MSE(pi1): 2.266e+01, MSE(pi2): 5.082e-01, MSE(pi3): 1.641e+00\n",
      "Epoch 250, Train loss: 7.686e+06, Test loss: 8.197e+06, MSE(e): 7.310e-01, MSE(pi1): 2.209e+01, MSE(pi2): 4.743e-01, MSE(pi3): 1.545e+00\n",
      "Epoch 260, Train loss: 7.283e+06, Test loss: 7.780e+06, MSE(e): 6.921e-01, MSE(pi1): 2.150e+01, MSE(pi2): 4.428e-01, MSE(pi3): 1.459e+00\n",
      "Epoch 270, Train loss: 6.896e+06, Test loss: 7.370e+06, MSE(e): 6.548e-01, MSE(pi1): 2.093e+01, MSE(pi2): 4.136e-01, MSE(pi3): 1.382e+00\n",
      "Epoch 280, Train loss: 6.526e+06, Test loss: 6.972e+06, MSE(e): 6.190e-01, MSE(pi1): 2.039e+01, MSE(pi2): 3.864e-01, MSE(pi3): 1.314e+00\n",
      "Epoch 290, Train loss: 6.172e+06, Test loss: 6.589e+06, MSE(e): 5.847e-01, MSE(pi1): 1.989e+01, MSE(pi2): 3.610e-01, MSE(pi3): 1.255e+00\n",
      "Epoch 300, Train loss: 5.833e+06, Test loss: 6.224e+06, MSE(e): 5.518e-01, MSE(pi1): 1.943e+01, MSE(pi2): 3.372e-01, MSE(pi3): 1.205e+00\n",
      "Epoch 310, Train loss: 5.510e+06, Test loss: 5.877e+06, MSE(e): 5.204e-01, MSE(pi1): 1.903e+01, MSE(pi2): 3.149e-01, MSE(pi3): 1.160e+00\n",
      "Epoch 320, Train loss: 5.202e+06, Test loss: 5.549e+06, MSE(e): 4.903e-01, MSE(pi1): 1.868e+01, MSE(pi2): 2.937e-01, MSE(pi3): 1.122e+00\n",
      "Epoch 330, Train loss: 4.910e+06, Test loss: 5.242e+06, MSE(e): 4.617e-01, MSE(pi1): 1.837e+01, MSE(pi2): 2.739e-01, MSE(pi3): 1.087e+00\n",
      "Epoch 340, Train loss: 4.636e+06, Test loss: 4.959e+06, MSE(e): 4.349e-01, MSE(pi1): 1.809e+01, MSE(pi2): 2.555e-01, MSE(pi3): 1.056e+00\n",
      "Epoch 350, Train loss: 4.384e+06, Test loss: 4.700e+06, MSE(e): 4.103e-01, MSE(pi1): 1.781e+01, MSE(pi2): 2.388e-01, MSE(pi3): 1.029e+00\n",
      "Epoch 360, Train loss: 4.154e+06, Test loss: 4.462e+06, MSE(e): 3.878e-01, MSE(pi1): 1.752e+01, MSE(pi2): 2.236e-01, MSE(pi3): 1.004e+00\n",
      "Epoch 370, Train loss: 3.946e+06, Test loss: 4.245e+06, MSE(e): 3.675e-01, MSE(pi1): 1.721e+01, MSE(pi2): 2.100e-01, MSE(pi3): 9.813e-01\n",
      "Epoch 380, Train loss: 3.758e+06, Test loss: 4.050e+06, MSE(e): 3.494e-01, MSE(pi1): 1.687e+01, MSE(pi2): 1.980e-01, MSE(pi3): 9.583e-01\n",
      "Epoch 390, Train loss: 3.590e+06, Test loss: 3.875e+06, MSE(e): 3.331e-01, MSE(pi1): 1.650e+01, MSE(pi2): 1.874e-01, MSE(pi3): 9.336e-01\n",
      "Epoch 400, Train loss: 3.438e+06, Test loss: 3.719e+06, MSE(e): 3.187e-01, MSE(pi1): 1.610e+01, MSE(pi2): 1.780e-01, MSE(pi3): 9.043e-01\n",
      "Epoch 410, Train loss: 3.301e+06, Test loss: 3.578e+06, MSE(e): 3.057e-01, MSE(pi1): 1.567e+01, MSE(pi2): 1.697e-01, MSE(pi3): 8.665e-01\n",
      "Epoch 420, Train loss: 3.173e+06, Test loss: 3.450e+06, MSE(e): 2.940e-01, MSE(pi1): 1.519e+01, MSE(pi2): 1.623e-01, MSE(pi3): 8.093e-01\n",
      "Epoch 430, Train loss: 3.042e+06, Test loss: 3.319e+06, MSE(e): 2.832e-01, MSE(pi1): 1.418e+01, MSE(pi2): 1.556e-01, MSE(pi3): 6.796e-01\n",
      "Epoch 440, Train loss: 2.840e+06, Test loss: 3.123e+06, MSE(e): 2.727e-01, MSE(pi1): 6.468e+00, MSE(pi2): 1.493e-01, MSE(pi3): 4.736e-01\n",
      "Epoch 450, Train loss: 2.715e+06, Test loss: 3.005e+06, MSE(e): 2.630e-01, MSE(pi1): 4.408e+00, MSE(pi2): 1.436e-01, MSE(pi3): 3.996e-01\n",
      "Epoch 460, Train loss: 2.612e+06, Test loss: 2.909e+06, MSE(e): 2.542e-01, MSE(pi1): 3.825e+00, MSE(pi2): 1.384e-01, MSE(pi3): 3.131e-01\n",
      "Epoch 470, Train loss: 2.517e+06, Test loss: 2.823e+06, MSE(e): 2.458e-01, MSE(pi1): 3.343e+00, MSE(pi2): 1.336e-01, MSE(pi3): 2.540e-01\n",
      "Epoch 480, Train loss: 2.426e+06, Test loss: 2.742e+06, MSE(e): 2.376e-01, MSE(pi1): 2.901e+00, MSE(pi2): 1.289e-01, MSE(pi3): 2.093e-01\n",
      "Epoch 490, Train loss: 2.338e+06, Test loss: 2.663e+06, MSE(e): 2.296e-01, MSE(pi1): 2.471e+00, MSE(pi2): 1.244e-01, MSE(pi3): 1.734e-01\n",
      "Epoch 500, Train loss: 2.252e+06, Test loss: 2.584e+06, MSE(e): 2.217e-01, MSE(pi1): 2.047e+00, MSE(pi2): 1.200e-01, MSE(pi3): 1.433e-01\n",
      "Epoch 510, Train loss: 2.168e+06, Test loss: 2.506e+06, MSE(e): 2.140e-01, MSE(pi1): 1.653e+00, MSE(pi2): 1.158e-01, MSE(pi3): 1.180e-01\n",
      "Epoch 520, Train loss: 2.089e+06, Test loss: 2.428e+06, MSE(e): 2.066e-01, MSE(pi1): 1.323e+00, MSE(pi2): 1.117e-01, MSE(pi3): 9.832e-02\n",
      "Epoch 530, Train loss: 2.013e+06, Test loss: 2.351e+06, MSE(e): 1.994e-01, MSE(pi1): 1.075e+00, MSE(pi2): 1.077e-01, MSE(pi3): 8.447e-02\n",
      "Epoch 540, Train loss: 1.943e+06, Test loss: 2.277e+06, MSE(e): 1.926e-01, MSE(pi1): 9.017e-01, MSE(pi2): 1.040e-01, MSE(pi3): 7.549e-02\n",
      "Epoch 550, Train loss: 1.877e+06, Test loss: 2.206e+06, MSE(e): 1.862e-01, MSE(pi1): 7.866e-01, MSE(pi2): 1.004e-01, MSE(pi3): 6.970e-02\n",
      "Epoch 560, Train loss: 1.814e+06, Test loss: 2.138e+06, MSE(e): 1.800e-01, MSE(pi1): 7.111e-01, MSE(pi2): 9.700e-02, MSE(pi3): 6.570e-02\n",
      "Epoch 570, Train loss: 1.754e+06, Test loss: 2.073e+06, MSE(e): 1.741e-01, MSE(pi1): 6.604e-01, MSE(pi2): 9.375e-02, MSE(pi3): 6.267e-02\n",
      "Epoch 580, Train loss: 1.697e+06, Test loss: 2.010e+06, MSE(e): 1.685e-01, MSE(pi1): 6.242e-01, MSE(pi2): 9.063e-02, MSE(pi3): 6.018e-02\n",
      "Epoch 590, Train loss: 1.643e+06, Test loss: 1.950e+06, MSE(e): 1.631e-01, MSE(pi1): 5.963e-01, MSE(pi2): 8.765e-02, MSE(pi3): 5.800e-02\n",
      "Epoch 600, Train loss: 1.591e+06, Test loss: 1.892e+06, MSE(e): 1.579e-01, MSE(pi1): 5.731e-01, MSE(pi2): 8.479e-02, MSE(pi3): 5.601e-02\n",
      "Epoch 610, Train loss: 1.541e+06, Test loss: 1.837e+06, MSE(e): 1.530e-01, MSE(pi1): 5.529e-01, MSE(pi2): 8.204e-02, MSE(pi3): 5.417e-02\n",
      "Epoch 620, Train loss: 1.493e+06, Test loss: 1.783e+06, MSE(e): 1.482e-01, MSE(pi1): 5.346e-01, MSE(pi2): 7.940e-02, MSE(pi3): 5.244e-02\n",
      "Epoch 630, Train loss: 1.447e+06, Test loss: 1.732e+06, MSE(e): 1.436e-01, MSE(pi1): 5.178e-01, MSE(pi2): 7.687e-02, MSE(pi3): 5.080e-02\n",
      "Epoch 640, Train loss: 1.402e+06, Test loss: 1.683e+06, MSE(e): 1.392e-01, MSE(pi1): 5.022e-01, MSE(pi2): 7.443e-02, MSE(pi3): 4.923e-02\n",
      "Epoch 650, Train loss: 1.360e+06, Test loss: 1.635e+06, MSE(e): 1.350e-01, MSE(pi1): 4.875e-01, MSE(pi2): 7.208e-02, MSE(pi3): 4.774e-02\n",
      "Epoch 660, Train loss: 1.319e+06, Test loss: 1.589e+06, MSE(e): 1.309e-01, MSE(pi1): 4.736e-01, MSE(pi2): 6.982e-02, MSE(pi3): 4.631e-02\n",
      "Epoch 670, Train loss: 1.279e+06, Test loss: 1.544e+06, MSE(e): 1.270e-01, MSE(pi1): 4.601e-01, MSE(pi2): 6.765e-02, MSE(pi3): 4.495e-02\n",
      "Epoch 680, Train loss: 1.242e+06, Test loss: 1.501e+06, MSE(e): 1.233e-01, MSE(pi1): 4.471e-01, MSE(pi2): 6.556e-02, MSE(pi3): 4.364e-02\n",
      "Epoch 690, Train loss: 1.205e+06, Test loss: 1.459e+06, MSE(e): 1.196e-01, MSE(pi1): 4.343e-01, MSE(pi2): 6.354e-02, MSE(pi3): 4.238e-02\n",
      "Epoch 700, Train loss: 1.170e+06, Test loss: 1.418e+06, MSE(e): 1.161e-01, MSE(pi1): 4.218e-01, MSE(pi2): 6.159e-02, MSE(pi3): 4.118e-02\n",
      "Epoch 710, Train loss: 1.136e+06, Test loss: 1.379e+06, MSE(e): 1.128e-01, MSE(pi1): 4.094e-01, MSE(pi2): 5.972e-02, MSE(pi3): 4.002e-02\n",
      "Epoch 720, Train loss: 1.103e+06, Test loss: 1.341e+06, MSE(e): 1.095e-01, MSE(pi1): 3.972e-01, MSE(pi2): 5.791e-02, MSE(pi3): 3.890e-02\n",
      "Epoch 730, Train loss: 1.072e+06, Test loss: 1.304e+06, MSE(e): 1.064e-01, MSE(pi1): 3.852e-01, MSE(pi2): 5.617e-02, MSE(pi3): 3.782e-02\n",
      "Epoch 740, Train loss: 1.041e+06, Test loss: 1.268e+06, MSE(e): 1.034e-01, MSE(pi1): 3.733e-01, MSE(pi2): 5.449e-02, MSE(pi3): 3.678e-02\n",
      "Epoch 750, Train loss: 1.012e+06, Test loss: 1.233e+06, MSE(e): 1.005e-01, MSE(pi1): 3.616e-01, MSE(pi2): 5.287e-02, MSE(pi3): 3.579e-02\n",
      "Epoch 760, Train loss: 9.835e+05, Test loss: 1.199e+06, MSE(e): 9.765e-02, MSE(pi1): 3.500e-01, MSE(pi2): 5.131e-02, MSE(pi3): 3.482e-02\n",
      "Epoch 770, Train loss: 9.562e+05, Test loss: 1.167e+06, MSE(e): 9.493e-02, MSE(pi1): 3.387e-01, MSE(pi2): 4.981e-02, MSE(pi3): 3.390e-02\n",
      "Epoch 780, Train loss: 9.298e+05, Test loss: 1.135e+06, MSE(e): 9.232e-02, MSE(pi1): 3.276e-01, MSE(pi2): 4.836e-02, MSE(pi3): 3.300e-02\n",
      "Epoch 790, Train loss: 9.043e+05, Test loss: 1.104e+06, MSE(e): 8.979e-02, MSE(pi1): 3.168e-01, MSE(pi2): 4.696e-02, MSE(pi3): 3.214e-02\n",
      "Epoch 800, Train loss: 8.797e+05, Test loss: 1.074e+06, MSE(e): 8.734e-02, MSE(pi1): 3.062e-01, MSE(pi2): 4.562e-02, MSE(pi3): 3.132e-02\n",
      "Epoch 810, Train loss: 8.559e+05, Test loss: 1.045e+06, MSE(e): 8.498e-02, MSE(pi1): 2.958e-01, MSE(pi2): 4.432e-02, MSE(pi3): 3.052e-02\n",
      "Epoch 820, Train loss: 8.329e+05, Test loss: 1.016e+06, MSE(e): 8.270e-02, MSE(pi1): 2.858e-01, MSE(pi2): 4.307e-02, MSE(pi3): 2.976e-02\n",
      "Epoch 830, Train loss: 8.107e+05, Test loss: 9.890e+05, MSE(e): 8.050e-02, MSE(pi1): 2.761e-01, MSE(pi2): 4.187e-02, MSE(pi3): 2.903e-02\n",
      "Epoch 840, Train loss: 7.892e+05, Test loss: 9.624e+05, MSE(e): 7.837e-02, MSE(pi1): 2.666e-01, MSE(pi2): 4.071e-02, MSE(pi3): 2.832e-02\n",
      "Epoch 850, Train loss: 7.685e+05, Test loss: 9.365e+05, MSE(e): 7.631e-02, MSE(pi1): 2.574e-01, MSE(pi2): 3.960e-02, MSE(pi3): 2.764e-02\n",
      "Epoch 860, Train loss: 7.484e+05, Test loss: 9.113e+05, MSE(e): 7.431e-02, MSE(pi1): 2.486e-01, MSE(pi2): 3.852e-02, MSE(pi3): 2.699e-02\n",
      "Epoch 870, Train loss: 7.289e+05, Test loss: 8.868e+05, MSE(e): 7.238e-02, MSE(pi1): 2.400e-01, MSE(pi2): 3.747e-02, MSE(pi3): 2.636e-02\n",
      "Epoch 880, Train loss: 7.099e+05, Test loss: 8.628e+05, MSE(e): 7.050e-02, MSE(pi1): 2.317e-01, MSE(pi2): 3.646e-02, MSE(pi3): 2.575e-02\n",
      "Epoch 890, Train loss: 6.916e+05, Test loss: 8.394e+05, MSE(e): 6.868e-02, MSE(pi1): 2.237e-01, MSE(pi2): 3.548e-02, MSE(pi3): 2.516e-02\n",
      "Epoch 900, Train loss: 6.737e+05, Test loss: 8.163e+05, MSE(e): 6.690e-02, MSE(pi1): 2.160e-01, MSE(pi2): 3.453e-02, MSE(pi3): 2.459e-02\n",
      "Epoch 910, Train loss: 6.563e+05, Test loss: 7.935e+05, MSE(e): 6.518e-02, MSE(pi1): 2.084e-01, MSE(pi2): 3.361e-02, MSE(pi3): 2.403e-02\n",
      "Epoch 920, Train loss: 6.393e+05, Test loss: 7.709e+05, MSE(e): 6.349e-02, MSE(pi1): 2.011e-01, MSE(pi2): 3.271e-02, MSE(pi3): 2.348e-02\n",
      "Epoch 930, Train loss: 6.228e+05, Test loss: 7.483e+05, MSE(e): 6.185e-02, MSE(pi1): 1.940e-01, MSE(pi2): 3.183e-02, MSE(pi3): 2.294e-02\n",
      "Epoch 940, Train loss: 6.067e+05, Test loss: 7.257e+05, MSE(e): 6.025e-02, MSE(pi1): 1.871e-01, MSE(pi2): 3.097e-02, MSE(pi3): 2.241e-02\n",
      "Epoch 950, Train loss: 5.910e+05, Test loss: 7.032e+05, MSE(e): 5.870e-02, MSE(pi1): 1.804e-01, MSE(pi2): 3.014e-02, MSE(pi3): 2.189e-02\n",
      "Epoch 960, Train loss: 5.760e+05, Test loss: 6.811e+05, MSE(e): 5.721e-02, MSE(pi1): 1.740e-01, MSE(pi2): 2.933e-02, MSE(pi3): 2.137e-02\n",
      "Epoch 970, Train loss: 5.616e+05, Test loss: 6.595e+05, MSE(e): 5.578e-02, MSE(pi1): 1.678e-01, MSE(pi2): 2.856e-02, MSE(pi3): 2.088e-02\n",
      "Epoch 980, Train loss: 5.479e+05, Test loss: 6.390e+05, MSE(e): 5.442e-02, MSE(pi1): 1.620e-01, MSE(pi2): 2.783e-02, MSE(pi3): 2.040e-02\n",
      "Epoch 990, Train loss: 5.350e+05, Test loss: 6.198e+05, MSE(e): 5.314e-02, MSE(pi1): 1.567e-01, MSE(pi2): 2.714e-02, MSE(pi3): 1.995e-02\n",
      "\n",
      "Training process finished after 1000 epochs\n",
      "\n"
     ]
    }
   ],
   "source": [
    "params_to_update = filter(lambda p: p.requires_grad, pretrained_pgnniv.parameters())\n",
    "optimizer = torch.optim.Adam(params_to_update, lr=3e-4)\n",
    "\n",
    "# Training parameters\n",
    "start_epoch = 0\n",
    "n_epochs = 1000\n",
    "\n",
    "batch_size = 64\n",
    "n_checkpoints = 5\n",
    "\n",
    "train_loop(pretrained_pgnniv, optimizer, X_train, y_train, f_train, X_test, y_test, f_test,\n",
    "           D, n_checkpoints, start_epoch=start_epoch, n_epochs=n_epochs, batch_size=batch_size, \n",
    "           model_results_path=MODEL_RESULTS_TRANSFERLEARNING_PATH, device=DEVICE)"
   ]
  },
  {
   "cell_type": "code",
   "execution_count": 16,
   "metadata": {},
   "outputs": [
    {
     "data": {
      "text/plain": [
       "<matplotlib.collections.PathCollection at 0x7f470a72e480>"
      ]
     },
     "execution_count": 16,
     "metadata": {},
     "output_type": "execute_result"
    },
    {
     "data": {
      "image/png": "[encoded data removed]",
      "text/plain": [
       "<Figure size 640x480 with 1 Axes>"
      ]
     },
     "metadata": {},
     "output_type": "display_data"
    }
   ],
   "source": [
    "plt.scatter(Mx(My(TensOps(pretrained_pgnniv(X_train)[0], space_dimension=2, contravariance=0, covariance=0))).values.cpu().detach().numpy().flatten(), \n",
    "            pretrained_pgnniv(X_train)[1].cpu().detach().numpy().flatten())\n",
    "\n",
    "plt.scatter(y_train.values.cpu().detach().numpy().flatten(), \n",
    "           K_train.values.cpu().detach().numpy().flatten())"
   ]
  }
 ],
 "metadata": {
  "kernelspec": {
   "display_name": "SciML_test_env",
   "language": "python",
   "name": "python3"
  },
  "language_info": {
   "codemirror_mode": {
    "name": "ipython",
    "version": 3
   },
   "file_extension": ".py",
   "mimetype": "text/x-python",
   "name": "python",
   "nbconvert_exporter": "python",
   "pygments_lexer": "ipython3",
   "version": "3.12.4"
  }
 },
 "nbformat": 4,
 "nbformat_minor": 2
}
