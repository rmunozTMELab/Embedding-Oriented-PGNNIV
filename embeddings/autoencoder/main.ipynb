{
 "cells": [
  {
   "cell_type": "code",
   "execution_count": 1,
   "metadata": {},
   "outputs": [],
   "source": [
    "import os \n",
    "import sys\n",
    "\n",
    "sys.path.append(os.path.abspath(os.path.join(os.getcwd(), \"../../\")))"
   ]
  },
  {
   "cell_type": "code",
   "execution_count": 2,
   "metadata": {},
   "outputs": [],
   "source": [
    "import torch\n",
    "import matplotlib.pyplot as plt\n",
    "\n",
    "from sklearn.model_selection import train_test_split\n",
    "\n",
    "# Own library imports\n",
    "from utilities.utils import TensOps\n",
    "from utilities.operators.zero_order import Mx, My\n",
    "from utilities.kernels.derivative import DerivativeKernels\n",
    "\n",
    "# Function from this project\n",
    "from utils.folders import create_folder\n",
    "from utils.load_data import load_data\n",
    "from trainers.train import train_loop, train_autoencoder_loop\n",
    "\n",
    "# Import model\n",
    "from architectures.autoencoder import Autoencoder\n",
    "from architectures.pgnniv_decoder import PGNNIVAutoencoder"
   ]
  },
  {
   "cell_type": "code",
   "execution_count": 3,
   "metadata": {},
   "outputs": [],
   "source": [
    "# Dataset\n",
    "dataset = 'non_linear'\n",
    "N_data = 100\n",
    "noise = 1\n",
    "\n",
    "data_name = dataset + '_' + str(N_data) + '_' + str(noise)"
   ]
  },
  {
   "cell_type": "code",
   "execution_count": 4,
   "metadata": {},
   "outputs": [],
   "source": [
    "# Model\n",
    "model = 'autoencoder'\n",
    "n_modes = 10\n",
    "\n",
    "model_name = model + '_model_' + str(n_modes)"
   ]
  },
  {
   "cell_type": "code",
   "execution_count": 5,
   "metadata": {},
   "outputs": [
    {
     "name": "stdout",
     "output_type": "stream",
     "text": [
      "Folder successfully created at: c:\\Users\\usuario\\Desktop\\rmunozTMELab\\Embedding-Oriented-PGNNIV\\results/non_linear_100_1\n",
      "Folder successfully created at: c:\\Users\\usuario\\Desktop\\rmunozTMELab\\Embedding-Oriented-PGNNIV\\results/non_linear_100_1\\autoencoder_model_10_AE\n",
      "Folder successfully created at: c:\\Users\\usuario\\Desktop\\rmunozTMELab\\Embedding-Oriented-PGNNIV\\results/non_linear_100_1\\autoencoder_model_10_NN\n"
     ]
    }
   ],
   "source": [
    "ROOT_PATH = os.path.abspath(os.path.join(os.getcwd(), \"../../\"))\n",
    "DATA_PATH = os.path.join(ROOT_PATH, r'data/', data_name, data_name) + '.pkl'\n",
    "RESULTS_FOLDER_PATH = os.path.join(ROOT_PATH, r'results/', data_name)\n",
    "\n",
    "MODEL_RESULTS_AE_PATH = os.path.join(ROOT_PATH, r'results/', data_name, model_name) + '_AE'\n",
    "MODEL_RESULTS_PGNNIV_PATH = os.path.join(ROOT_PATH, r'results/', data_name, model_name) + '_NN'\n",
    "\n",
    "# Create folders (if necessary)\n",
    "create_folder(RESULTS_FOLDER_PATH)\n",
    "create_folder(MODEL_RESULTS_AE_PATH)\n",
    "create_folder(MODEL_RESULTS_PGNNIV_PATH)"
   ]
  },
  {
   "cell_type": "code",
   "execution_count": 6,
   "metadata": {},
   "outputs": [
    {
     "name": "stdout",
     "output_type": "stream",
     "text": [
      "Data successfully loaded from: c:\\Users\\usuario\\Desktop\\rmunozTMELab\\Embedding-Oriented-PGNNIV\\data/non_linear_100_1\\non_linear_100_1.pkl\n"
     ]
    }
   ],
   "source": [
    "# Load dataset\n",
    "dataset = load_data(DATA_PATH)"
   ]
  },
  {
   "cell_type": "code",
   "execution_count": 7,
   "metadata": {},
   "outputs": [],
   "source": [
    "# Convolutional filters to derivate\n",
    "dx = dataset['x_step_size']\n",
    "dy = dataset['y_step_size']\n",
    "D = DerivativeKernels(dx, dy, 0).grad_kernels_two_dimensions()"
   ]
  },
  {
   "cell_type": "code",
   "execution_count": 8,
   "metadata": {},
   "outputs": [
    {
     "name": "stdout",
     "output_type": "stream",
     "text": [
      "Using device: cpu\n"
     ]
    }
   ],
   "source": [
    "DEVICE = torch.device(\"cuda\" if torch.cuda.is_available() else \"cpu\")\n",
    "\n",
    "print(f\"Using device: {DEVICE}\")"
   ]
  },
  {
   "cell_type": "code",
   "execution_count": 9,
   "metadata": {},
   "outputs": [
    {
     "name": "stdout",
     "output_type": "stream",
     "text": [
      "Train dataset length: 80\n",
      "Validation dataset length: 20\n"
     ]
    }
   ],
   "source": [
    "X_train = torch.Tensor(dataset['X_train']).unsqueeze(1)\n",
    "y_train = torch.Tensor(dataset['y_train']).unsqueeze(1)\n",
    "K_train = torch.tensor(dataset['k_train']).unsqueeze(1)\n",
    "f_train = torch.tensor(dataset['f_train']).unsqueeze(1).to(torch.float32)\n",
    "\n",
    "X_val = torch.Tensor(dataset['X_val']).unsqueeze(1)\n",
    "y_val = TensOps(torch.Tensor(dataset['y_val']).unsqueeze(1).requires_grad_(True), space_dimension=2, contravariance=0, covariance=0)\n",
    "K_val = TensOps(torch.tensor(dataset['k_val']).unsqueeze(1).requires_grad_(True), space_dimension=2, contravariance=0, covariance=0)\n",
    "f_val = TensOps(torch.tensor(dataset['f_val']).to(torch.float32).unsqueeze(1).requires_grad_(True), space_dimension=2, contravariance=0, covariance=0)\n",
    "\n",
    "print(\"Train dataset length:\", len(X_train))\n",
    "print(\"Validation dataset length:\", len(X_val))"
   ]
  },
  {
   "cell_type": "code",
   "execution_count": 10,
   "metadata": {},
   "outputs": [
    {
     "name": "stdout",
     "output_type": "stream",
     "text": [
      "Dataset length for the autoencoder: 40\n",
      "Dataset length for the PGNNIV: 40\n"
     ]
    }
   ],
   "source": [
    "N_data_AE = len(X_train)//2\n",
    "N_data_NN = len(X_train) - len(X_train)//2\n",
    "prop_data_NN = 1 - N_data_AE/(N_data_NN + N_data_AE)\n",
    "\n",
    "print(\"Dataset length for the autoencoder:\", N_data_AE)\n",
    "print(\"Dataset length for the PGNNIV:\", N_data_NN)\n",
    "\n",
    "X_AE, X_NN, y_AE, y_NN, K_AE, K_NN, f_AE, f_NN = train_test_split(X_train, y_train, K_train, f_train, test_size=prop_data_NN, random_state=42)"
   ]
  },
  {
   "cell_type": "code",
   "execution_count": 11,
   "metadata": {},
   "outputs": [],
   "source": [
    "y_train_AE, y_test_AE = train_test_split(y_AE, test_size=0.2, random_state=42)\n",
    "\n",
    "y_train_AE = TensOps(y_train_AE.requires_grad_(True).to(DEVICE), space_dimension=2, contravariance=0, covariance=0)\n",
    "y_test_AE = TensOps(y_test_AE.requires_grad_(True).to(DEVICE), space_dimension=2, contravariance=0, covariance=0)"
   ]
  },
  {
   "cell_type": "code",
   "execution_count": 12,
   "metadata": {},
   "outputs": [],
   "source": [
    "X_train_NN, X_test_NN, y_train_NN, y_test_NN, K_train_NN, K_test_NN, f_train_NN, f_test_NN = train_test_split(X_NN, y_NN, K_NN, f_NN, test_size=0.2, random_state=42)\n",
    "\n",
    "X_train_NN = X_train_NN.to(DEVICE)\n",
    "X_test_NN = X_test_NN.to(DEVICE)\n",
    "\n",
    "y_train_NN = TensOps(y_train_NN.requires_grad_(True).to(DEVICE), space_dimension=2, contravariance=0, covariance=0)\n",
    "y_test_NN = TensOps(y_test_NN.requires_grad_(True).to(DEVICE), space_dimension=2, contravariance=0, covariance=0)\n",
    "\n",
    "K_train_NN = TensOps(K_train_NN.to(DEVICE), space_dimension=2, contravariance=0, covariance=0)\n",
    "K_test_NN = TensOps(K_test_NN.to(DEVICE), space_dimension=2, contravariance=0, covariance=0)\n",
    "\n",
    "f_train_NN = TensOps(f_train_NN.to(DEVICE), space_dimension=2, contravariance=0, covariance=0)\n",
    "f_test_NN = TensOps(f_test_NN.to(DEVICE), space_dimension=2, contravariance=0, covariance=0)"
   ]
  },
  {
   "cell_type": "markdown",
   "metadata": {},
   "source": [
    "## Autoencoder"
   ]
  },
  {
   "cell_type": "code",
   "execution_count": 13,
   "metadata": {},
   "outputs": [],
   "source": [
    "autoencoder_input_shape = y_train_AE.values[0].shape\n",
    "latent_space_dim = [15, 10, n_modes, 10, 15]\n",
    "autoencoder_output_shape = y_train_AE.values[0].shape"
   ]
  },
  {
   "cell_type": "code",
   "execution_count": 14,
   "metadata": {},
   "outputs": [],
   "source": [
    "X_train = y_train_AE.values\n",
    "y_train = y_train_AE\n",
    "\n",
    "X_test = y_test_AE.values\n",
    "y_test = y_test_AE"
   ]
  },
  {
   "cell_type": "code",
   "execution_count": 15,
   "metadata": {},
   "outputs": [
    {
     "name": "stdout",
     "output_type": "stream",
     "text": [
      "Starting training from scratch.\n",
      "Epoch 0, Train loss: 5.377e+01, Test loss: 8.336e+01\n",
      "Epoch 10, Train loss: 6.826e+00, Test loss: 1.071e+01\n",
      "Epoch 20, Train loss: 3.159e+00, Test loss: 6.532e+00\n",
      "Epoch 30, Train loss: 2.460e+00, Test loss: 4.526e+00\n",
      "Epoch 40, Train loss: 2.054e+00, Test loss: 4.155e+00\n",
      "Epoch 50, Train loss: 1.917e+00, Test loss: 3.747e+00\n",
      "Epoch 60, Train loss: 1.885e+00, Test loss: 3.685e+00\n",
      "Epoch 70, Train loss: 1.869e+00, Test loss: 3.683e+00\n",
      "Epoch 80, Train loss: 1.864e+00, Test loss: 3.660e+00\n",
      "Epoch 90, Train loss: 1.862e+00, Test loss: 3.679e+00\n",
      "Epoch 100, Train loss: 1.861e+00, Test loss: 3.660e+00\n",
      "Epoch 110, Train loss: 1.861e+00, Test loss: 3.667e+00\n",
      "Epoch 120, Train loss: 1.860e+00, Test loss: 3.664e+00\n",
      "Epoch 130, Train loss: 1.860e+00, Test loss: 3.665e+00\n",
      "Epoch 140, Train loss: 1.858e+00, Test loss: 3.665e+00\n",
      "Epoch 150, Train loss: 1.849e+00, Test loss: 3.664e+00\n",
      "Epoch 160, Train loss: 1.812e+00, Test loss: 3.658e+00\n",
      "Epoch 170, Train loss: 1.618e+00, Test loss: 3.607e+00\n",
      "Epoch 180, Train loss: 1.095e+00, Test loss: 3.736e+00\n",
      "Epoch 190, Train loss: 1.048e+00, Test loss: 4.834e+00\n",
      "Epoch 200, Train loss: 9.019e-01, Test loss: 4.343e+00\n",
      "Epoch 210, Train loss: 8.528e-01, Test loss: 3.500e+00\n",
      "Epoch 220, Train loss: 8.129e-01, Test loss: 3.485e+00\n",
      "Epoch 230, Train loss: 7.726e-01, Test loss: 3.116e+00\n",
      "Epoch 240, Train loss: 7.906e-01, Test loss: 3.279e+00\n",
      "Epoch 250, Train loss: 7.772e-01, Test loss: 2.912e+00\n",
      "Epoch 260, Train loss: 7.037e-01, Test loss: 2.557e+00\n",
      "Epoch 270, Train loss: 6.435e-01, Test loss: 2.031e+00\n",
      "Epoch 280, Train loss: 6.065e-01, Test loss: 1.819e+00\n",
      "Epoch 290, Train loss: 3.863e-01, Test loss: 1.071e+00\n",
      "Epoch 300, Train loss: 3.411e-01, Test loss: 9.464e-01\n",
      "Epoch 310, Train loss: 4.671e-01, Test loss: 8.597e-01\n",
      "Epoch 320, Train loss: 3.582e-01, Test loss: 8.386e-01\n",
      "Epoch 330, Train loss: 2.844e-01, Test loss: 8.947e-01\n",
      "Epoch 340, Train loss: 2.897e-01, Test loss: 7.199e-01\n",
      "Epoch 350, Train loss: 2.701e-01, Test loss: 7.144e-01\n",
      "Epoch 360, Train loss: 2.584e-01, Test loss: 7.120e-01\n",
      "Epoch 370, Train loss: 2.559e-01, Test loss: 7.000e-01\n",
      "Epoch 380, Train loss: 2.547e-01, Test loss: 7.064e-01\n",
      "Epoch 390, Train loss: 2.605e-01, Test loss: 7.279e-01\n",
      "Epoch 400, Train loss: 2.480e-01, Test loss: 6.652e-01\n",
      "Epoch 410, Train loss: 2.463e-01, Test loss: 6.735e-01\n",
      "Epoch 420, Train loss: 2.511e-01, Test loss: 6.927e-01\n",
      "Epoch 430, Train loss: 2.439e-01, Test loss: 6.500e-01\n",
      "Epoch 440, Train loss: 2.438e-01, Test loss: 6.650e-01\n",
      "Epoch 450, Train loss: 2.415e-01, Test loss: 6.372e-01\n",
      "Epoch 460, Train loss: 2.375e-01, Test loss: 6.343e-01\n",
      "Epoch 470, Train loss: 2.806e-01, Test loss: 7.501e-01\n",
      "Epoch 480, Train loss: 2.652e-01, Test loss: 6.530e-01\n",
      "Epoch 490, Train loss: 2.383e-01, Test loss: 6.687e-01\n",
      "Epoch 500, Train loss: 2.366e-01, Test loss: 6.211e-01\n",
      "Epoch 510, Train loss: 2.338e-01, Test loss: 6.224e-01\n",
      "Epoch 520, Train loss: 2.339e-01, Test loss: 6.292e-01\n",
      "Epoch 530, Train loss: 2.327e-01, Test loss: 6.175e-01\n",
      "Epoch 540, Train loss: 2.318e-01, Test loss: 6.178e-01\n",
      "Epoch 550, Train loss: 2.316e-01, Test loss: 6.167e-01\n",
      "Epoch 560, Train loss: 2.480e-01, Test loss: 6.830e-01\n",
      "Epoch 570, Train loss: 2.537e-01, Test loss: 6.156e-01\n",
      "Epoch 580, Train loss: 2.365e-01, Test loss: 6.074e-01\n",
      "Epoch 590, Train loss: 2.303e-01, Test loss: 6.029e-01\n",
      "Epoch 600, Train loss: 2.301e-01, Test loss: 6.107e-01\n",
      "Epoch 610, Train loss: 2.318e-01, Test loss: 6.126e-01\n",
      "Epoch 620, Train loss: 2.348e-01, Test loss: 6.215e-01\n",
      "Epoch 630, Train loss: 2.337e-01, Test loss: 6.130e-01\n",
      "Epoch 640, Train loss: 2.295e-01, Test loss: 5.971e-01\n",
      "Epoch 650, Train loss: 2.549e-01, Test loss: 6.516e-01\n",
      "Epoch 660, Train loss: 2.490e-01, Test loss: 6.175e-01\n",
      "Epoch 670, Train loss: 2.371e-01, Test loss: 6.238e-01\n",
      "Epoch 680, Train loss: 2.293e-01, Test loss: 6.024e-01\n",
      "Epoch 690, Train loss: 2.293e-01, Test loss: 5.976e-01\n",
      "Epoch 700, Train loss: 2.297e-01, Test loss: 5.941e-01\n",
      "Epoch 710, Train loss: 2.287e-01, Test loss: 5.937e-01\n",
      "Epoch 720, Train loss: 2.291e-01, Test loss: 5.970e-01\n",
      "Epoch 730, Train loss: 2.865e-01, Test loss: 7.520e-01\n",
      "Epoch 740, Train loss: 2.319e-01, Test loss: 6.301e-01\n",
      "Epoch 750, Train loss: 2.293e-01, Test loss: 6.042e-01\n",
      "Epoch 760, Train loss: 2.322e-01, Test loss: 5.917e-01\n",
      "Epoch 770, Train loss: 2.291e-01, Test loss: 5.944e-01\n",
      "Epoch 780, Train loss: 2.295e-01, Test loss: 5.898e-01\n",
      "Epoch 790, Train loss: 2.287e-01, Test loss: 5.915e-01\n",
      "Epoch 800, Train loss: 2.298e-01, Test loss: 5.961e-01\n",
      "Epoch 810, Train loss: 2.463e-01, Test loss: 6.443e-01\n",
      "Epoch 820, Train loss: 2.366e-01, Test loss: 5.942e-01\n",
      "Epoch 830, Train loss: 2.319e-01, Test loss: 6.024e-01\n",
      "Epoch 840, Train loss: 2.296e-01, Test loss: 5.878e-01\n",
      "Epoch 850, Train loss: 2.412e-01, Test loss: 6.024e-01\n",
      "Epoch 860, Train loss: 2.307e-01, Test loss: 5.980e-01\n",
      "Epoch 870, Train loss: 2.287e-01, Test loss: 5.878e-01\n",
      "Epoch 880, Train loss: 2.384e-01, Test loss: 6.025e-01\n",
      "Epoch 890, Train loss: 2.292e-01, Test loss: 5.983e-01\n",
      "Epoch 900, Train loss: 2.282e-01, Test loss: 5.854e-01\n",
      "Epoch 910, Train loss: 2.286e-01, Test loss: 5.839e-01\n",
      "Epoch 920, Train loss: 2.295e-01, Test loss: 5.936e-01\n",
      "Epoch 930, Train loss: 2.637e-01, Test loss: 6.609e-01\n",
      "Epoch 940, Train loss: 2.315e-01, Test loss: 5.791e-01\n",
      "Epoch 950, Train loss: 2.289e-01, Test loss: 5.850e-01\n",
      "Epoch 960, Train loss: 2.278e-01, Test loss: 5.859e-01\n",
      "Epoch 970, Train loss: 2.320e-01, Test loss: 5.993e-01\n",
      "Epoch 980, Train loss: 2.357e-01, Test loss: 5.975e-01\n",
      "Epoch 990, Train loss: 2.347e-01, Test loss: 5.858e-01\n"
     ]
    }
   ],
   "source": [
    "autoencoder = Autoencoder(autoencoder_input_shape, latent_space_dim, autoencoder_output_shape).to(DEVICE)\n",
    "optimizer = torch.optim.Adam(autoencoder.parameters(), lr=1e-2)\n",
    "\n",
    "start_epoch = 0\n",
    "n_epochs = 1000\n",
    "batch_size = 64\n",
    "n_checkpoint = 10\n",
    "new_lr = None\n",
    "\n",
    "train_autoencoder_loop(autoencoder, optimizer, X_train, y_train, X_test, y_test,  \n",
    "                       n_checkpoint, start_epoch, n_epochs, batch_size, MODEL_RESULTS_AE_PATH, DEVICE, new_lr)"
   ]
  },
  {
   "cell_type": "code",
   "execution_count": null,
   "metadata": {},
   "outputs": [
    {
     "name": "stdout",
     "output_type": "stream",
     "text": [
      "Starting training from a checkpoint. Epoch 900.\n",
      "Epoch 900, Train loss: 2.285e-01, Test loss: 5.855e-01\n",
      "Epoch 1000, Train loss: 2.280e-01, Test loss: 5.850e-01\n",
      "Epoch 1100, Train loss: 2.280e-01, Test loss: 5.849e-01\n"
     ]
    }
   ],
   "source": [
    "start_epoch = 900\n",
    "n_epochs = 2000\n",
    "batch_size = 64\n",
    "n_checkpoint = 10\n",
    "new_lr = 1e-4\n",
    "4\n",
    "train_autoencoder_loop(autoencoder, optimizer, X_train, y_train, X_test, y_test,  \n",
    "                       n_checkpoint, start_epoch, n_epochs, batch_size, MODEL_RESULTS_AE_PATH, DEVICE, new_lr)"
   ]
  },
  {
   "cell_type": "markdown",
   "metadata": {},
   "source": [
    "## PGNNIV"
   ]
  },
  {
   "cell_type": "code",
   "execution_count": null,
   "metadata": {},
   "outputs": [],
   "source": [
    "# Predictive network architecture\n",
    "input_shape = X_train_NN[0].shape\n",
    "predictive_layers = [15, 10, n_modes]\n",
    "predictive_output = y_train_NN.values[0].shape\n",
    "\n",
    "# Explanatory network architecture\n",
    "explanatory_input = Mx(My(y_train_NN)).values[0].shape\n",
    "explanatory_layers = [10, 10]\n",
    "explanatory_output = Mx(My(f_train_NN)).values[0].shape\n",
    "\n",
    "# Other parameters\n",
    "n_filters_explanatory = 5"
   ]
  },
  {
   "cell_type": "code",
   "execution_count": null,
   "metadata": {},
   "outputs": [],
   "source": [
    "pretrained_decoder = autoencoder.decoder\n",
    "\n",
    "for param in pretrained_decoder.parameters():\n",
    "    param.requires_grad = False\n",
    "\n",
    "for name, param in pretrained_decoder.named_parameters():\n",
    "    print(f\"{name}: requires_grad={param.requires_grad}\")"
   ]
  },
  {
   "cell_type": "code",
   "execution_count": null,
   "metadata": {},
   "outputs": [],
   "source": [
    "model = PGNNIVAutoencoder(input_shape, predictive_layers, pretrained_decoder, predictive_output, explanatory_input,\n",
    "                                   explanatory_layers, explanatory_output, n_filters_explanatory).to(DEVICE)\n",
    "optimizer = torch.optim.Adam(model.parameters(), lr=1e-2)\n",
    "\n",
    "# Training parameters\n",
    "start_epoch = 0\n",
    "n_epochs = 1000\n",
    "\n",
    "batch_size = 64\n",
    "n_checkpoints = 10\n",
    "\n",
    "train_loop(model, optimizer, X_train_NN, y_train_NN, f_train_NN, X_test_NN, y_test_NN, f_test_NN,\n",
    "           D, n_checkpoints, start_epoch=start_epoch, n_epochs=n_epochs, batch_size=batch_size, \n",
    "           model_results_path=MODEL_RESULTS_PGNNIV_PATH, device=DEVICE)"
   ]
  },
  {
   "cell_type": "code",
   "execution_count": null,
   "metadata": {},
   "outputs": [],
   "source": [
    "# Training parameters\n",
    "start_epoch = 900\n",
    "n_epochs = 2000\n",
    "\n",
    "batch_size = 64 \n",
    "n_checkpoints = 100\n",
    "\n",
    "second_lr = 1e-4\n",
    "\n",
    "train_loop(model, optimizer, X_train_NN, y_train_NN, f_train_NN, X_test_NN, y_test_NN, f_test_NN,\n",
    "           D, n_checkpoints, start_epoch=start_epoch, n_epochs=n_epochs, batch_size=batch_size, \n",
    "           model_results_path=MODEL_RESULTS_PGNNIV_PATH, device=DEVICE, new_lr=second_lr)"
   ]
  }
 ],
 "metadata": {
  "kernelspec": {
   "display_name": "embedding_pgnniv_env",
   "language": "python",
   "name": "python3"
  },
  "language_info": {
   "codemirror_mode": {
    "name": "ipython",
    "version": 3
   },
   "file_extension": ".py",
   "mimetype": "text/x-python",
   "name": "python",
   "nbconvert_exporter": "python",
   "pygments_lexer": "ipython3",
   "version": "3.12.4"
  }
 },
 "nbformat": 4,
 "nbformat_minor": 2
}
