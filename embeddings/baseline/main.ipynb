{
 "cells": [
  {
   "cell_type": "code",
   "execution_count": 47,
   "metadata": {},
   "outputs": [],
   "source": [
    "import os \n",
    "import sys\n",
    "\n",
    "sys.path.append(os.path.abspath(os.path.join(os.getcwd(), \"../../\")))"
   ]
  },
  {
   "cell_type": "code",
   "execution_count": null,
   "metadata": {},
   "outputs": [],
   "source": [
    "import torch\n",
    "import matplotlib.pyplot as plt\n",
    "\n",
    "from sklearn.model_selection import train_test_split\n",
    "\n",
    "# Own library imports\n",
    "from vecopsciml.utils import TensOps\n",
    "from vecopsciml.operators.zero_order import Mx, My\n",
    "from vecopsciml.kernels.derivative import DerivativeKernels\n",
    "\n",
    "# Function from this project\n",
    "from utils.folders import create_folder\n",
    "from utils.load_data import load_data\n",
    "from trainers.train import train_loop\n",
    "\n",
    "# Import model\n"
   ]
  },
  {
   "cell_type": "code",
   "execution_count": 63,
   "metadata": {},
   "outputs": [],
   "source": [
    "# Dataset\n",
    "dataset = 'non_linear'\n",
    "N_data = 100\n",
    "noise = 1\n",
    "\n",
    "data_name = dataset + '_' + str(N_data) + '_' + str(noise)"
   ]
  },
  {
   "cell_type": "code",
   "execution_count": null,
   "metadata": {},
   "outputs": [],
   "source": [
    "# Model\n",
    "model = 'baseline'\n",
    "n_modes = 10\n",
    "\n",
    "model_name = model + '_model_' + str(n_modes)"
   ]
  },
  {
   "cell_type": "code",
   "execution_count": 72,
   "metadata": {},
   "outputs": [],
   "source": [
    "ROOT_PATH = os.path.abspath(os.path.join(os.getcwd(), \"../../\"))\n",
    "DATA_PATH = os.path.join(ROOT_PATH, r'data/', data_name, data_name) + '.pkl'\n",
    "RESULTS_FOLDER_PATH = os.path.join(ROOT_PATH, r'results/', data_name)\n",
    "MODEL_RESULTS_PATH = os.path.join(ROOT_PATH, r'results/', data_name, model_name)"
   ]
  },
  {
   "cell_type": "code",
   "execution_count": 73,
   "metadata": {},
   "outputs": [
    {
     "name": "stdout",
     "output_type": "stream",
     "text": [
      "Folder successfully created at: /home/rmunoz/Escritorio/rmunozTMELab/Physically-Guided-Machine-Learning/results/non_linear_100_1\n",
      "Folder successfully created at: /home/rmunoz/Escritorio/rmunozTMELab/Physically-Guided-Machine-Learning/results/non_linear_100_1/baseline_model_10\n"
     ]
    }
   ],
   "source": [
    "create_folder(RESULTS_FOLDER_PATH)\n",
    "create_folder(MODEL_RESULTS_PATH)"
   ]
  },
  {
   "cell_type": "code",
   "execution_count": 66,
   "metadata": {},
   "outputs": [
    {
     "name": "stdout",
     "output_type": "stream",
     "text": [
      "Data successfully loaded from: /home/rmunoz/Escritorio/rmunozTMELab/Physically-Guided-Machine-Learning/data/non_linear_100_1/non_linear_100_1.pkl\n"
     ]
    }
   ],
   "source": [
    "# Load dataset\n",
    "dataset = load_data(DATA_PATH)"
   ]
  },
  {
   "cell_type": "code",
   "execution_count": 67,
   "metadata": {},
   "outputs": [],
   "source": [
    "# Convolutional filters to derivate\n",
    "dx = dataset['x_step_size']\n",
    "dy = dataset['y_step_size']\n",
    "D = DerivativeKernels(dx, dy, 0).grad_kernels_two_dimensions()"
   ]
  },
  {
   "cell_type": "code",
   "execution_count": 68,
   "metadata": {},
   "outputs": [
    {
     "name": "stdout",
     "output_type": "stream",
     "text": [
      "Using device: cuda\n"
     ]
    }
   ],
   "source": [
    "DEVICE = torch.device(\"cuda\" if torch.cuda.is_available() else \"cpu\")\n",
    "\n",
    "print(f\"Using device: {DEVICE}\")"
   ]
  },
  {
   "cell_type": "code",
   "execution_count": 69,
   "metadata": {},
   "outputs": [],
   "source": [
    "# Train data splitting in train/test\n",
    "X = torch.tensor(dataset['X_train'], dtype=torch.float32).unsqueeze(1)\n",
    "y = torch.tensor(dataset['y_train'], dtype=torch.float32).unsqueeze(1)\n",
    "K = torch.tensor(dataset['k_train'], dtype=torch.float32).unsqueeze(1)\n",
    "f = torch.tensor(dataset['f_train'], dtype=torch.float32).unsqueeze(1)\n",
    "\n",
    "X_train, X_test, y_train, y_test, K_train, K_test, f_train, f_test = train_test_split(X, y, K, f, test_size=0.3, random_state=42)\n",
    "\n",
    "# Data processing and adequacy with our TensOps library\n",
    "X_train = X_train.to(DEVICE)\n",
    "X_test = X_test.to(DEVICE)\n",
    "\n",
    "y_train = TensOps(y_train.to(DEVICE).requires_grad_(True), space_dimension=2, contravariance=0, covariance=0)\n",
    "y_test = TensOps(y_test.to(DEVICE).requires_grad_(True), space_dimension=2, contravariance=0, covariance=0)\n",
    "\n",
    "K_train = TensOps(K_train.to(DEVICE).requires_grad_(True), space_dimension=2, contravariance=0, covariance=0)\n",
    "K_test = TensOps(K_test.to(DEVICE).requires_grad_(True), space_dimension=2, contravariance=0, covariance=0)\n",
    "\n",
    "f_train = TensOps(f_train.to(DEVICE).requires_grad_(True), space_dimension=2, contravariance=0, covariance=0)\n",
    "f_test = TensOps(f_test.to(DEVICE).requires_grad_(True), space_dimension=2, contravariance=0, covariance=0)\n",
    "\n",
    "# Loading and processing validation data\n",
    "X_val = torch.tensor(dataset['X_val'], dtype=torch.float32).unsqueeze(1)\n",
    "y_val = TensOps(torch.tensor(dataset['y_val'], dtype=torch.float32, requires_grad=True).unsqueeze(1), space_dimension=2, contravariance=0, covariance=0)\n",
    "K_val = TensOps(torch.tensor(dataset['k_val'], dtype=torch.float32, requires_grad=True).unsqueeze(1), space_dimension=2, contravariance=0, covariance=0)\n",
    "f_val = TensOps(torch.tensor(dataset['f_val'], dtype=torch.float32, requires_grad=True).unsqueeze(1), space_dimension=2, contravariance=0, covariance=0)"
   ]
  },
  {
   "cell_type": "code",
   "execution_count": null,
   "metadata": {},
   "outputs": [],
   "source": [
    "# Predictive network architecture\n",
    "input_shape = X_train[0].shape\n",
    "predictive_layers = [20, 10, n_modes, 10, 20]\n",
    "predictive_output = y_train.values[0].shape\n",
    "\n",
    "# Explanatory network architecture\n",
    "explanatory_input = Mx(My(y_train)).values[0].shape\n",
    "explanatory_layers = [10, 10]\n",
    "explanatory_output = Mx(My(f_train)).values[0].shape\n",
    "\n",
    "# Other parameters\n",
    "n_filters_explanatory = 5"
   ]
  },
  {
   "cell_type": "code",
   "execution_count": 74,
   "metadata": {},
   "outputs": [
    {
     "name": "stdout",
     "output_type": "stream",
     "text": [
      "Starting training from scratch.\n",
      "Epoch 0, Train loss: 1.154e+09, Test loss: 1.128e+09, MSE(e): 1.034e+02, MSE(pi1): 1.178e+04, MSE(pi2): 4.512e+01, MSE(pi3): 2.169e+01\n",
      "Epoch 10, Train loss: 8.055e+07, Test loss: 8.156e+07, MSE(e): 7.832e+00, MSE(pi1): 2.128e+02, MSE(pi2): 4.018e+00, MSE(pi3): 1.025e+00\n",
      "Epoch 20, Train loss: 6.100e+07, Test loss: 5.552e+07, MSE(e): 5.959e+00, MSE(pi1): 1.355e+02, MSE(pi2): 2.540e+00, MSE(pi3): 5.143e-01\n",
      "Epoch 30, Train loss: 4.109e+07, Test loss: 5.243e+07, MSE(e): 4.069e+00, MSE(pi1): 3.761e+01, MSE(pi2): 1.929e+00, MSE(pi3): 2.272e-01\n",
      "Epoch 40, Train loss: 3.282e+07, Test loss: 3.861e+07, MSE(e): 3.278e+00, MSE(pi1): 2.516e+00, MSE(pi2): 1.548e+00, MSE(pi3): 2.124e-01\n",
      "Epoch 50, Train loss: 3.074e+07, Test loss: 3.673e+07, MSE(e): 3.068e+00, MSE(pi1): 3.462e+00, MSE(pi2): 1.411e+00, MSE(pi3): 2.163e-01\n",
      "Epoch 60, Train loss: 2.941e+07, Test loss: 3.544e+07, MSE(e): 2.935e+00, MSE(pi1): 3.192e+00, MSE(pi2): 1.366e+00, MSE(pi3): 2.264e-01\n",
      "Epoch 70, Train loss: 2.526e+07, Test loss: 2.960e+07, MSE(e): 2.521e+00, MSE(pi1): 2.803e+00, MSE(pi2): 1.187e+00, MSE(pi3): 2.219e-01\n",
      "Epoch 80, Train loss: 1.765e+07, Test loss: 2.082e+07, MSE(e): 1.760e+00, MSE(pi1): 2.941e+00, MSE(pi2): 8.782e-01, MSE(pi3): 2.198e-01\n",
      "Epoch 90, Train loss: 1.244e+07, Test loss: 1.407e+07, MSE(e): 1.239e+00, MSE(pi1): 3.098e+00, MSE(pi2): 6.719e-01, MSE(pi3): 2.154e-01\n",
      "\n",
      "Training process finished after 100 epochs\n",
      "\n"
     ]
    }
   ],
   "source": [
    "# Load model and the optimizer\n",
    "model = PGNNIVBaseline(input_shape, predictive_layers, predictive_output, explanatory_input, explanatory_layers, explanatory_output, n_filters_explanatory).to(DEVICE)\n",
    "optimizer = torch.optim.Adam(model.parameters(), lr=1e-2)\n",
    "\n",
    "# Parametros de entrenamiento\n",
    "start_epoch = 0\n",
    "n_epochs = 100\n",
    "\n",
    "batch_size = 64\n",
    "n_checkpoints = 10\n",
    "\n",
    "train_loop(model, optimizer, X_train, y_train, f_train, X_test, y_test, f_test,\n",
    "           D,  n_checkpoints, start_epoch=start_epoch, n_epochs=n_epochs, batch_size=batch_size, \n",
    "           model_results_path=MODEL_RESULTS_PATH, device=DEVICE)"
   ]
  },
  {
   "cell_type": "code",
   "execution_count": 77,
   "metadata": {},
   "outputs": [
    {
     "name": "stdout",
     "output_type": "stream",
     "text": [
      "Starting training from a checkpoint. Epoch 1800.\n",
      "Epoch 1800, Train loss: 5.911e+06, Test loss: 6.855e+06, MSE(e): 5.862e-01, MSE(pi1): 2.680e+00, MSE(pi2): 3.954e-01, MSE(pi3): 2.153e-01\n",
      "Epoch 1900, Train loss: 5.821e+06, Test loss: 6.704e+06, MSE(e): 5.772e-01, MSE(pi1): 2.666e+00, MSE(pi2): 3.911e-01, MSE(pi3): 2.153e-01\n",
      "Epoch 2000, Train loss: 5.740e+06, Test loss: 6.568e+06, MSE(e): 5.692e-01, MSE(pi1): 2.653e+00, MSE(pi2): 3.872e-01, MSE(pi3): 2.152e-01\n",
      "Epoch 2100, Train loss: 5.667e+06, Test loss: 6.446e+06, MSE(e): 5.618e-01, MSE(pi1): 2.641e+00, MSE(pi2): 3.836e-01, MSE(pi3): 2.151e-01\n",
      "Epoch 2200, Train loss: 5.599e+06, Test loss: 6.336e+06, MSE(e): 5.551e-01, MSE(pi1): 2.630e+00, MSE(pi2): 3.803e-01, MSE(pi3): 2.151e-01\n",
      "Epoch 2300, Train loss: 5.537e+06, Test loss: 6.236e+06, MSE(e): 5.489e-01, MSE(pi1): 2.619e+00, MSE(pi2): 3.772e-01, MSE(pi3): 2.150e-01\n",
      "Epoch 2400, Train loss: 5.480e+06, Test loss: 6.148e+06, MSE(e): 5.432e-01, MSE(pi1): 2.609e+00, MSE(pi2): 3.742e-01, MSE(pi3): 2.149e-01\n",
      "Epoch 2500, Train loss: 5.426e+06, Test loss: 6.070e+06, MSE(e): 5.378e-01, MSE(pi1): 2.600e+00, MSE(pi2): 3.715e-01, MSE(pi3): 2.148e-01\n",
      "Epoch 2600, Train loss: 5.374e+06, Test loss: 6.006e+06, MSE(e): 5.326e-01, MSE(pi1): 2.591e+00, MSE(pi2): 3.688e-01, MSE(pi3): 2.147e-01\n",
      "Epoch 2700, Train loss: 5.321e+06, Test loss: 5.953e+06, MSE(e): 5.274e-01, MSE(pi1): 2.583e+00, MSE(pi2): 3.661e-01, MSE(pi3): 2.146e-01\n",
      "Epoch 2800, Train loss: 5.271e+06, Test loss: 5.904e+06, MSE(e): 5.224e-01, MSE(pi1): 2.576e+00, MSE(pi2): 3.635e-01, MSE(pi3): 2.144e-01\n",
      "Epoch 2900, Train loss: 5.224e+06, Test loss: 5.852e+06, MSE(e): 5.177e-01, MSE(pi1): 2.569e+00, MSE(pi2): 3.610e-01, MSE(pi3): 2.143e-01\n",
      "Epoch 3000, Train loss: 5.179e+06, Test loss: 5.799e+06, MSE(e): 5.131e-01, MSE(pi1): 2.563e+00, MSE(pi2): 3.586e-01, MSE(pi3): 2.142e-01\n",
      "Epoch 3100, Train loss: 5.135e+06, Test loss: 5.746e+06, MSE(e): 5.087e-01, MSE(pi1): 2.558e+00, MSE(pi2): 3.563e-01, MSE(pi3): 2.140e-01\n",
      "Epoch 3200, Train loss: 5.093e+06, Test loss: 5.692e+06, MSE(e): 5.045e-01, MSE(pi1): 2.552e+00, MSE(pi2): 3.541e-01, MSE(pi3): 2.139e-01\n",
      "Epoch 3300, Train loss: 5.053e+06, Test loss: 5.637e+06, MSE(e): 5.006e-01, MSE(pi1): 2.548e+00, MSE(pi2): 3.520e-01, MSE(pi3): 2.137e-01\n",
      "Epoch 3400, Train loss: 5.015e+06, Test loss: 5.584e+06, MSE(e): 4.968e-01, MSE(pi1): 2.543e+00, MSE(pi2): 3.500e-01, MSE(pi3): 2.135e-01\n",
      "Epoch 3500, Train loss: 4.981e+06, Test loss: 5.534e+06, MSE(e): 4.934e-01, MSE(pi1): 2.538e+00, MSE(pi2): 3.482e-01, MSE(pi3): 2.133e-01\n",
      "Epoch 3600, Train loss: 4.949e+06, Test loss: 5.488e+06, MSE(e): 4.902e-01, MSE(pi1): 2.534e+00, MSE(pi2): 3.465e-01, MSE(pi3): 2.131e-01\n",
      "Epoch 3700, Train loss: 4.919e+06, Test loss: 5.446e+06, MSE(e): 4.872e-01, MSE(pi1): 2.530e+00, MSE(pi2): 3.449e-01, MSE(pi3): 2.129e-01\n",
      "Epoch 3800, Train loss: 4.892e+06, Test loss: 5.407e+06, MSE(e): 4.846e-01, MSE(pi1): 2.525e+00, MSE(pi2): 3.434e-01, MSE(pi3): 2.127e-01\n",
      "Epoch 3900, Train loss: 4.868e+06, Test loss: 5.372e+06, MSE(e): 4.821e-01, MSE(pi1): 2.521e+00, MSE(pi2): 3.421e-01, MSE(pi3): 2.124e-01\n",
      "\n",
      "Training process finished after 4000 epochs\n",
      "\n"
     ]
    }
   ],
   "source": [
    "# Parametros de entrenamiento\n",
    "start_epoch = 1800\n",
    "n_epochs = 4000\n",
    "\n",
    "batch_size = 64\n",
    "n_checkpoints = 10\n",
    "\n",
    "second_lr = 1e-4\n",
    "\n",
    "train_loop(model, optimizer, X_train, y_train, f_train, X_test, y_test, f_test,\n",
    "           D,  n_checkpoints, start_epoch=start_epoch, n_epochs=n_epochs, batch_size=batch_size, \n",
    "           model_results_path=MODEL_RESULTS_PATH, device=DEVICE, new_lr=second_lr)"
   ]
  }
 ],
 "metadata": {
  "kernelspec": {
   "display_name": "SciML_test_env",
   "language": "python",
   "name": "python3"
  },
  "language_info": {
   "codemirror_mode": {
    "name": "ipython",
    "version": 3
   },
   "file_extension": ".py",
   "mimetype": "text/x-python",
   "name": "python",
   "nbconvert_exporter": "python",
   "pygments_lexer": "ipython3",
   "version": "3.12.4"
  }
 },
 "nbformat": 4,
 "nbformat_minor": 2
}
